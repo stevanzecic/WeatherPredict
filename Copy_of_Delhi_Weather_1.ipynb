{
  "nbformat": 4,
  "nbformat_minor": 0,
  "metadata": {
    "colab": {
      "provenance": [],
      "collapsed_sections": [
        "CMYbqv3M4MfW",
        "PmpZWb-zaq2k",
        "7rSu7h9KK2VH",
        "5b_vTfS6qVQS",
        "8rjMd2vd8mB-"
      ],
      "include_colab_link": true
    },
    "kernelspec": {
      "name": "python3",
      "display_name": "Python 3"
    },
    "language_info": {
      "name": "python"
    }
  },
  "cells": [
    {
      "cell_type": "markdown",
      "metadata": {
        "id": "view-in-github",
        "colab_type": "text"
      },
      "source": [
        "<a href=\"https://colab.research.google.com/github/stevanzecic/WeatherPredict/blob/main/Copy_of_Delhi_Weather_1.ipynb\" target=\"_parent\"><img src=\"https://colab.research.google.com/assets/colab-badge.svg\" alt=\"Open In Colab\"/></a>"
      ]
    },
    {
      "cell_type": "markdown",
      "source": [
        "# **DATASET**"
      ],
      "metadata": {
        "id": "CMYbqv3M4MfW"
      }
    },
    {
      "cell_type": "code",
      "execution_count": null,
      "metadata": {
        "id": "Z_zMhufaOOa5"
      },
      "outputs": [],
      "source": [
        "import tensorflow as tf\n",
        "import os\n",
        "import pandas as pd\n",
        "import numpy as np\n",
        "import matplotlib.pyplot as plt\n",
        "import matplotlib.patches as mpatches\n",
        "from keras.models import Sequential\n",
        "from keras.models import load_model\n",
        "from keras.layers import *\n",
        "from keras.callbacks import ModelCheckpoint\n",
        "from keras.layers import Dense\n",
        "from keras.layers import RepeatVector\n",
        "from keras.layers import Flatten\n",
        "from keras.layers import TimeDistributed\n",
        "from keras.layers.convolutional import Conv1D\n",
        "from keras.layers.convolutional import MaxPooling1D\n",
        "from keras.layers import Dropout\n",
        "from keras.layers import LSTM\n",
        "from keras.losses import MeanSquaredError\n",
        "from keras.metrics import RootMeanSquaredError\n",
        "from tensorflow.keras.optimizers import Adam\n",
        "from sklearn.preprocessing import MinMaxScaler\n",
        "from sklearn.metrics import mean_squared_error as mse\n",
        "from scipy.interpolate import interp1d\n"
      ]
    },
    {
      "cell_type": "code",
      "source": [
        "!cp \"/content/drive/MyDrive/III/Neuronske mreže/Domaći zadatak/testset.csv\" \"/content/delhiweatherdata.csv\"\n"
      ],
      "metadata": {
        "id": "BhvWVcIv4Uyk"
      },
      "execution_count": null,
      "outputs": []
    },
    {
      "cell_type": "code",
      "source": [
        "input_path = '/content/delhiweatherdata.csv'\n",
        "input_data = pd.read_csv(input_path)\n",
        "input_data"
      ],
      "metadata": {
        "colab": {
          "base_uri": "https://localhost:8080/"
        },
        "id": "lDl315-l4o38",
        "outputId": "167e1c3d-391f-409d-e09c-0d7f30899e00"
      },
      "execution_count": null,
      "outputs": [
        {
          "output_type": "execute_result",
          "data": {
            "text/plain": [
              "          datetime_utc  _conds   _dewptm   _fog   _hail   _heatindexm   _hum  \\\n",
              "0       19961101-11:00   Smoke       9.0      0       0           NaN   27.0   \n",
              "1       19961101-12:00   Smoke      10.0      0       0           NaN   32.0   \n",
              "2       19961101-13:00   Smoke      11.0      0       0           NaN   44.0   \n",
              "3       19961101-14:00   Smoke      10.0      0       0           NaN   41.0   \n",
              "4       19961101-16:00   Smoke      11.0      0       0           NaN   47.0   \n",
              "...                ...     ...       ...    ...     ...           ...    ...   \n",
              "100985  20170424-06:00    Haze      17.0      0       0           NaN   25.0   \n",
              "100986  20170424-09:00    Haze      14.0      0       0           NaN   16.0   \n",
              "100987  20170424-12:00    Haze      12.0      0       0           NaN   14.0   \n",
              "100988  20170424-15:00    Haze      15.0      0       0           NaN   27.0   \n",
              "100989  20170424-18:00    Haze      15.0      0       0           NaN   30.0   \n",
              "\n",
              "         _precipm   _pressurem   _rain   _snow   _tempm   _thunder   _tornado  \\\n",
              "0             NaN       1010.0       0       0     30.0          0          0   \n",
              "1             NaN      -9999.0       0       0     28.0          0          0   \n",
              "2             NaN      -9999.0       0       0     24.0          0          0   \n",
              "3             NaN       1010.0       0       0     24.0          0          0   \n",
              "4             NaN       1011.0       0       0     23.0          0          0   \n",
              "...           ...          ...     ...     ...      ...        ...        ...   \n",
              "100985        NaN       1005.0       0       0     34.0          0          0   \n",
              "100986        NaN       1003.0       0       0     38.0          0          0   \n",
              "100987        NaN       1002.0       0       0     36.0          0          0   \n",
              "100988        NaN       1004.0       0       0     32.0          0          0   \n",
              "100989        NaN       1005.0       0       0     30.0          0          0   \n",
              "\n",
              "         _vism   _wdird  _wdire   _wgustm   _windchillm   _wspdm  \n",
              "0          5.0    280.0    West       NaN           NaN      7.4  \n",
              "1          NaN      0.0   North       NaN           NaN      NaN  \n",
              "2          NaN      0.0   North       NaN           NaN      NaN  \n",
              "3          2.0      0.0   North       NaN           NaN      NaN  \n",
              "4          1.2      0.0   North       NaN           NaN      0.0  \n",
              "...        ...      ...     ...       ...           ...      ...  \n",
              "100985     4.0    320.0      NW       NaN           NaN     11.1  \n",
              "100986     4.0    320.0      NW       NaN           NaN     22.2  \n",
              "100987     4.0    270.0    West       NaN           NaN     18.5  \n",
              "100988     2.0    320.0      NW       NaN           NaN      3.7  \n",
              "100989     2.0    320.0      NW       NaN           NaN      3.7  \n",
              "\n",
              "[100990 rows x 20 columns]"
            ],
            "text/html": [
              "\n",
              "  <div id=\"df-26e82b9b-0a10-4b83-9709-5961539b1f5f\">\n",
              "    <div class=\"colab-df-container\">\n",
              "      <div>\n",
              "<style scoped>\n",
              "    .dataframe tbody tr th:only-of-type {\n",
              "        vertical-align: middle;\n",
              "    }\n",
              "\n",
              "    .dataframe tbody tr th {\n",
              "        vertical-align: top;\n",
              "    }\n",
              "\n",
              "    .dataframe thead th {\n",
              "        text-align: right;\n",
              "    }\n",
              "</style>\n",
              "<table border=\"1\" class=\"dataframe\">\n",
              "  <thead>\n",
              "    <tr style=\"text-align: right;\">\n",
              "      <th></th>\n",
              "      <th>datetime_utc</th>\n",
              "      <th>_conds</th>\n",
              "      <th>_dewptm</th>\n",
              "      <th>_fog</th>\n",
              "      <th>_hail</th>\n",
              "      <th>_heatindexm</th>\n",
              "      <th>_hum</th>\n",
              "      <th>_precipm</th>\n",
              "      <th>_pressurem</th>\n",
              "      <th>_rain</th>\n",
              "      <th>_snow</th>\n",
              "      <th>_tempm</th>\n",
              "      <th>_thunder</th>\n",
              "      <th>_tornado</th>\n",
              "      <th>_vism</th>\n",
              "      <th>_wdird</th>\n",
              "      <th>_wdire</th>\n",
              "      <th>_wgustm</th>\n",
              "      <th>_windchillm</th>\n",
              "      <th>_wspdm</th>\n",
              "    </tr>\n",
              "  </thead>\n",
              "  <tbody>\n",
              "    <tr>\n",
              "      <th>0</th>\n",
              "      <td>19961101-11:00</td>\n",
              "      <td>Smoke</td>\n",
              "      <td>9.0</td>\n",
              "      <td>0</td>\n",
              "      <td>0</td>\n",
              "      <td>NaN</td>\n",
              "      <td>27.0</td>\n",
              "      <td>NaN</td>\n",
              "      <td>1010.0</td>\n",
              "      <td>0</td>\n",
              "      <td>0</td>\n",
              "      <td>30.0</td>\n",
              "      <td>0</td>\n",
              "      <td>0</td>\n",
              "      <td>5.0</td>\n",
              "      <td>280.0</td>\n",
              "      <td>West</td>\n",
              "      <td>NaN</td>\n",
              "      <td>NaN</td>\n",
              "      <td>7.4</td>\n",
              "    </tr>\n",
              "    <tr>\n",
              "      <th>1</th>\n",
              "      <td>19961101-12:00</td>\n",
              "      <td>Smoke</td>\n",
              "      <td>10.0</td>\n",
              "      <td>0</td>\n",
              "      <td>0</td>\n",
              "      <td>NaN</td>\n",
              "      <td>32.0</td>\n",
              "      <td>NaN</td>\n",
              "      <td>-9999.0</td>\n",
              "      <td>0</td>\n",
              "      <td>0</td>\n",
              "      <td>28.0</td>\n",
              "      <td>0</td>\n",
              "      <td>0</td>\n",
              "      <td>NaN</td>\n",
              "      <td>0.0</td>\n",
              "      <td>North</td>\n",
              "      <td>NaN</td>\n",
              "      <td>NaN</td>\n",
              "      <td>NaN</td>\n",
              "    </tr>\n",
              "    <tr>\n",
              "      <th>2</th>\n",
              "      <td>19961101-13:00</td>\n",
              "      <td>Smoke</td>\n",
              "      <td>11.0</td>\n",
              "      <td>0</td>\n",
              "      <td>0</td>\n",
              "      <td>NaN</td>\n",
              "      <td>44.0</td>\n",
              "      <td>NaN</td>\n",
              "      <td>-9999.0</td>\n",
              "      <td>0</td>\n",
              "      <td>0</td>\n",
              "      <td>24.0</td>\n",
              "      <td>0</td>\n",
              "      <td>0</td>\n",
              "      <td>NaN</td>\n",
              "      <td>0.0</td>\n",
              "      <td>North</td>\n",
              "      <td>NaN</td>\n",
              "      <td>NaN</td>\n",
              "      <td>NaN</td>\n",
              "    </tr>\n",
              "    <tr>\n",
              "      <th>3</th>\n",
              "      <td>19961101-14:00</td>\n",
              "      <td>Smoke</td>\n",
              "      <td>10.0</td>\n",
              "      <td>0</td>\n",
              "      <td>0</td>\n",
              "      <td>NaN</td>\n",
              "      <td>41.0</td>\n",
              "      <td>NaN</td>\n",
              "      <td>1010.0</td>\n",
              "      <td>0</td>\n",
              "      <td>0</td>\n",
              "      <td>24.0</td>\n",
              "      <td>0</td>\n",
              "      <td>0</td>\n",
              "      <td>2.0</td>\n",
              "      <td>0.0</td>\n",
              "      <td>North</td>\n",
              "      <td>NaN</td>\n",
              "      <td>NaN</td>\n",
              "      <td>NaN</td>\n",
              "    </tr>\n",
              "    <tr>\n",
              "      <th>4</th>\n",
              "      <td>19961101-16:00</td>\n",
              "      <td>Smoke</td>\n",
              "      <td>11.0</td>\n",
              "      <td>0</td>\n",
              "      <td>0</td>\n",
              "      <td>NaN</td>\n",
              "      <td>47.0</td>\n",
              "      <td>NaN</td>\n",
              "      <td>1011.0</td>\n",
              "      <td>0</td>\n",
              "      <td>0</td>\n",
              "      <td>23.0</td>\n",
              "      <td>0</td>\n",
              "      <td>0</td>\n",
              "      <td>1.2</td>\n",
              "      <td>0.0</td>\n",
              "      <td>North</td>\n",
              "      <td>NaN</td>\n",
              "      <td>NaN</td>\n",
              "      <td>0.0</td>\n",
              "    </tr>\n",
              "    <tr>\n",
              "      <th>...</th>\n",
              "      <td>...</td>\n",
              "      <td>...</td>\n",
              "      <td>...</td>\n",
              "      <td>...</td>\n",
              "      <td>...</td>\n",
              "      <td>...</td>\n",
              "      <td>...</td>\n",
              "      <td>...</td>\n",
              "      <td>...</td>\n",
              "      <td>...</td>\n",
              "      <td>...</td>\n",
              "      <td>...</td>\n",
              "      <td>...</td>\n",
              "      <td>...</td>\n",
              "      <td>...</td>\n",
              "      <td>...</td>\n",
              "      <td>...</td>\n",
              "      <td>...</td>\n",
              "      <td>...</td>\n",
              "      <td>...</td>\n",
              "    </tr>\n",
              "    <tr>\n",
              "      <th>100985</th>\n",
              "      <td>20170424-06:00</td>\n",
              "      <td>Haze</td>\n",
              "      <td>17.0</td>\n",
              "      <td>0</td>\n",
              "      <td>0</td>\n",
              "      <td>NaN</td>\n",
              "      <td>25.0</td>\n",
              "      <td>NaN</td>\n",
              "      <td>1005.0</td>\n",
              "      <td>0</td>\n",
              "      <td>0</td>\n",
              "      <td>34.0</td>\n",
              "      <td>0</td>\n",
              "      <td>0</td>\n",
              "      <td>4.0</td>\n",
              "      <td>320.0</td>\n",
              "      <td>NW</td>\n",
              "      <td>NaN</td>\n",
              "      <td>NaN</td>\n",
              "      <td>11.1</td>\n",
              "    </tr>\n",
              "    <tr>\n",
              "      <th>100986</th>\n",
              "      <td>20170424-09:00</td>\n",
              "      <td>Haze</td>\n",
              "      <td>14.0</td>\n",
              "      <td>0</td>\n",
              "      <td>0</td>\n",
              "      <td>NaN</td>\n",
              "      <td>16.0</td>\n",
              "      <td>NaN</td>\n",
              "      <td>1003.0</td>\n",
              "      <td>0</td>\n",
              "      <td>0</td>\n",
              "      <td>38.0</td>\n",
              "      <td>0</td>\n",
              "      <td>0</td>\n",
              "      <td>4.0</td>\n",
              "      <td>320.0</td>\n",
              "      <td>NW</td>\n",
              "      <td>NaN</td>\n",
              "      <td>NaN</td>\n",
              "      <td>22.2</td>\n",
              "    </tr>\n",
              "    <tr>\n",
              "      <th>100987</th>\n",
              "      <td>20170424-12:00</td>\n",
              "      <td>Haze</td>\n",
              "      <td>12.0</td>\n",
              "      <td>0</td>\n",
              "      <td>0</td>\n",
              "      <td>NaN</td>\n",
              "      <td>14.0</td>\n",
              "      <td>NaN</td>\n",
              "      <td>1002.0</td>\n",
              "      <td>0</td>\n",
              "      <td>0</td>\n",
              "      <td>36.0</td>\n",
              "      <td>0</td>\n",
              "      <td>0</td>\n",
              "      <td>4.0</td>\n",
              "      <td>270.0</td>\n",
              "      <td>West</td>\n",
              "      <td>NaN</td>\n",
              "      <td>NaN</td>\n",
              "      <td>18.5</td>\n",
              "    </tr>\n",
              "    <tr>\n",
              "      <th>100988</th>\n",
              "      <td>20170424-15:00</td>\n",
              "      <td>Haze</td>\n",
              "      <td>15.0</td>\n",
              "      <td>0</td>\n",
              "      <td>0</td>\n",
              "      <td>NaN</td>\n",
              "      <td>27.0</td>\n",
              "      <td>NaN</td>\n",
              "      <td>1004.0</td>\n",
              "      <td>0</td>\n",
              "      <td>0</td>\n",
              "      <td>32.0</td>\n",
              "      <td>0</td>\n",
              "      <td>0</td>\n",
              "      <td>2.0</td>\n",
              "      <td>320.0</td>\n",
              "      <td>NW</td>\n",
              "      <td>NaN</td>\n",
              "      <td>NaN</td>\n",
              "      <td>3.7</td>\n",
              "    </tr>\n",
              "    <tr>\n",
              "      <th>100989</th>\n",
              "      <td>20170424-18:00</td>\n",
              "      <td>Haze</td>\n",
              "      <td>15.0</td>\n",
              "      <td>0</td>\n",
              "      <td>0</td>\n",
              "      <td>NaN</td>\n",
              "      <td>30.0</td>\n",
              "      <td>NaN</td>\n",
              "      <td>1005.0</td>\n",
              "      <td>0</td>\n",
              "      <td>0</td>\n",
              "      <td>30.0</td>\n",
              "      <td>0</td>\n",
              "      <td>0</td>\n",
              "      <td>2.0</td>\n",
              "      <td>320.0</td>\n",
              "      <td>NW</td>\n",
              "      <td>NaN</td>\n",
              "      <td>NaN</td>\n",
              "      <td>3.7</td>\n",
              "    </tr>\n",
              "  </tbody>\n",
              "</table>\n",
              "<p>100990 rows × 20 columns</p>\n",
              "</div>\n",
              "      <button class=\"colab-df-convert\" onclick=\"convertToInteractive('df-26e82b9b-0a10-4b83-9709-5961539b1f5f')\"\n",
              "              title=\"Convert this dataframe to an interactive table.\"\n",
              "              style=\"display:none;\">\n",
              "        \n",
              "  <svg xmlns=\"http://www.w3.org/2000/svg\" height=\"24px\"viewBox=\"0 0 24 24\"\n",
              "       width=\"24px\">\n",
              "    <path d=\"M0 0h24v24H0V0z\" fill=\"none\"/>\n",
              "    <path d=\"M18.56 5.44l.94 2.06.94-2.06 2.06-.94-2.06-.94-.94-2.06-.94 2.06-2.06.94zm-11 1L8.5 8.5l.94-2.06 2.06-.94-2.06-.94L8.5 2.5l-.94 2.06-2.06.94zm10 10l.94 2.06.94-2.06 2.06-.94-2.06-.94-.94-2.06-.94 2.06-2.06.94z\"/><path d=\"M17.41 7.96l-1.37-1.37c-.4-.4-.92-.59-1.43-.59-.52 0-1.04.2-1.43.59L10.3 9.45l-7.72 7.72c-.78.78-.78 2.05 0 2.83L4 21.41c.39.39.9.59 1.41.59.51 0 1.02-.2 1.41-.59l7.78-7.78 2.81-2.81c.8-.78.8-2.07 0-2.86zM5.41 20L4 18.59l7.72-7.72 1.47 1.35L5.41 20z\"/>\n",
              "  </svg>\n",
              "      </button>\n",
              "      \n",
              "  <style>\n",
              "    .colab-df-container {\n",
              "      display:flex;\n",
              "      flex-wrap:wrap;\n",
              "      gap: 12px;\n",
              "    }\n",
              "\n",
              "    .colab-df-convert {\n",
              "      background-color: #E8F0FE;\n",
              "      border: none;\n",
              "      border-radius: 50%;\n",
              "      cursor: pointer;\n",
              "      display: none;\n",
              "      fill: #1967D2;\n",
              "      height: 32px;\n",
              "      padding: 0 0 0 0;\n",
              "      width: 32px;\n",
              "    }\n",
              "\n",
              "    .colab-df-convert:hover {\n",
              "      background-color: #E2EBFA;\n",
              "      box-shadow: 0px 1px 2px rgba(60, 64, 67, 0.3), 0px 1px 3px 1px rgba(60, 64, 67, 0.15);\n",
              "      fill: #174EA6;\n",
              "    }\n",
              "\n",
              "    [theme=dark] .colab-df-convert {\n",
              "      background-color: #3B4455;\n",
              "      fill: #D2E3FC;\n",
              "    }\n",
              "\n",
              "    [theme=dark] .colab-df-convert:hover {\n",
              "      background-color: #434B5C;\n",
              "      box-shadow: 0px 1px 3px 1px rgba(0, 0, 0, 0.15);\n",
              "      filter: drop-shadow(0px 1px 2px rgba(0, 0, 0, 0.3));\n",
              "      fill: #FFFFFF;\n",
              "    }\n",
              "  </style>\n",
              "\n",
              "      <script>\n",
              "        const buttonEl =\n",
              "          document.querySelector('#df-26e82b9b-0a10-4b83-9709-5961539b1f5f button.colab-df-convert');\n",
              "        buttonEl.style.display =\n",
              "          google.colab.kernel.accessAllowed ? 'block' : 'none';\n",
              "\n",
              "        async function convertToInteractive(key) {\n",
              "          const element = document.querySelector('#df-26e82b9b-0a10-4b83-9709-5961539b1f5f');\n",
              "          const dataTable =\n",
              "            await google.colab.kernel.invokeFunction('convertToInteractive',\n",
              "                                                     [key], {});\n",
              "          if (!dataTable) return;\n",
              "\n",
              "          const docLinkHtml = 'Like what you see? Visit the ' +\n",
              "            '<a target=\"_blank\" href=https://colab.research.google.com/notebooks/data_table.ipynb>data table notebook</a>'\n",
              "            + ' to learn more about interactive tables.';\n",
              "          element.innerHTML = '';\n",
              "          dataTable['output_type'] = 'display_data';\n",
              "          await google.colab.output.renderOutput(dataTable, element);\n",
              "          const docLink = document.createElement('div');\n",
              "          docLink.innerHTML = docLinkHtml;\n",
              "          element.appendChild(docLink);\n",
              "        }\n",
              "      </script>\n",
              "    </div>\n",
              "  </div>\n",
              "  "
            ]
          },
          "metadata": {},
          "execution_count": 42
        }
      ]
    },
    {
      "cell_type": "code",
      "source": [
        "input_data.columns"
      ],
      "metadata": {
        "colab": {
          "base_uri": "https://localhost:8080/"
        },
        "id": "K9moS-1V-3Aj",
        "outputId": "52efc771-0459-42f1-b886-214256c59ac3"
      },
      "execution_count": null,
      "outputs": [
        {
          "output_type": "execute_result",
          "data": {
            "text/plain": [
              "Index(['datetime_utc', ' _conds', ' _dewptm', ' _fog', ' _hail',\n",
              "       ' _heatindexm', ' _hum', ' _precipm', ' _pressurem', ' _rain', ' _snow',\n",
              "       ' _tempm', ' _thunder', ' _tornado', ' _vism', ' _wdird', ' _wdire',\n",
              "       ' _wgustm', ' _windchillm', ' _wspdm'],\n",
              "      dtype='object')"
            ]
          },
          "metadata": {},
          "execution_count": 43
        }
      ]
    },
    {
      "cell_type": "code",
      "source": [
        "#Za dosta unosa fali vrednost temperature, ovde se interpolacijom dodaju vrednosti koje fale\n",
        "\n",
        "#input_data[' _tempm'].fillna(input_data[' _tempm'].mean(), inplace = True)\n",
        "input_data[' _tempm'] = input_data[' _tempm'].interpolate()"
      ],
      "metadata": {
        "id": "NoBmYGKlGhQj"
      },
      "execution_count": null,
      "outputs": []
    },
    {
      "cell_type": "code",
      "source": [
        "temp = input_data[' _tempm']\n",
        "temp.plot()\n",
        "temp"
      ],
      "metadata": {
        "colab": {
          "base_uri": "https://localhost:8080/"
        },
        "id": "6dw7hxrtAPRZ",
        "outputId": "1ce3485c-3036-4f52-9f5a-6ff8f9cbeccf"
      },
      "execution_count": null,
      "outputs": [
        {
          "output_type": "execute_result",
          "data": {
            "text/plain": [
              "0         30.0\n",
              "1         28.0\n",
              "2         24.0\n",
              "3         24.0\n",
              "4         23.0\n",
              "          ... \n",
              "100985    34.0\n",
              "100986    38.0\n",
              "100987    36.0\n",
              "100988    32.0\n",
              "100989    30.0\n",
              "Name:  _tempm, Length: 100990, dtype: float64"
            ]
          },
          "metadata": {},
          "execution_count": 45
        },
        {
          "output_type": "display_data",
          "data": {
            "text/plain": [
              "<Figure size 432x288 with 1 Axes>"
            ],
            "image/png": "[encoded data removed]"
          },
          "metadata": {
            "needs_background": "light"
          }
        }
      ]
    },
    {
      "cell_type": "code",
      "source": [
        "def input_data_to_X_y(input_data, window_size = 5):\n",
        "  input_data_as_np = input_data.to_numpy()\n",
        "  X = []\n",
        "  y = []\n",
        "  for i in range(len(input_data_as_np) - window_size):\n",
        "    row = [[j] for j in input_data_as_np[i : i + window_size]]\n",
        "    X.append(row)\n",
        "    label = input_data_as_np[i + window_size]\n",
        "    y.append(label)\n",
        "  return np.array(X), np.array(y)"
      ],
      "metadata": {
        "id": "5cil3ra8AjwP"
      },
      "execution_count": null,
      "outputs": []
    },
    {
      "cell_type": "code",
      "source": [
        "WINDOW_SIZE = 30\n",
        "X, y = input_data_to_X_y(temp, WINDOW_SIZE)\n",
        "X.shape, y.shape"
      ],
      "metadata": {
        "colab": {
          "base_uri": "https://localhost:8080/"
        },
        "id": "Dg1NEQUeDDFv",
        "outputId": "2c425e13-4547-484f-af4a-9e46e4cae191"
      },
      "execution_count": null,
      "outputs": [
        {
          "output_type": "execute_result",
          "data": {
            "text/plain": [
              "((100960, 30, 1), (100960,))"
            ]
          },
          "metadata": {},
          "execution_count": 47
        }
      ]
    },
    {
      "cell_type": "code",
      "source": [
        "#X_train, y_train = X[:80788], y[:80788]\n",
        "#X_val, y_val = X[80788:90886], y[80788:90886]\n",
        "#X_test, y_test = X[90886:], y[90886:]\n",
        "#X_train.shape, y_train.shape, X_val.shape, y_val.shape, X_test.shape, y_test.shape"
      ],
      "metadata": {
        "id": "tEouEGQgElej"
      },
      "execution_count": null,
      "outputs": []
    },
    {
      "cell_type": "markdown",
      "source": [
        "# **MODEL 1 - LSTM**"
      ],
      "metadata": {
        "id": "PmpZWb-zaq2k"
      }
    },
    {
      "cell_type": "code",
      "source": [
        "X_train1, y_train1 = X[:80788], y[:80788]\n",
        "X_val1, y_val1 = X[80788:90886], y[80788:90886]\n",
        "X_test1, y_test1 = X[90886:], y[90886:]\n",
        "X_train1.shape, y_train1.shape, X_val1.shape, y_val1.shape, X_test1.shape, y_test1.shape"
      ],
      "metadata": {
        "colab": {
          "base_uri": "https://localhost:8080/"
        },
        "outputId": "91b9f9c7-0924-4f47-eba7-f09199cf5506",
        "id": "wpchwylLagcE"
      },
      "execution_count": null,
      "outputs": [
        {
          "output_type": "execute_result",
          "data": {
            "text/plain": [
              "((80788, 30, 1), (80788,), (10098, 30, 1), (10098,), (10074, 30, 1), (10074,))"
            ]
          },
          "metadata": {},
          "execution_count": 49
        }
      ]
    },
    {
      "cell_type": "code",
      "source": [
        "model1 = Sequential()\n",
        "model1.add(InputLayer((30, 1)))\n",
        "model1.add(LSTM(64))\n",
        "#model1.add(Dense(32, 'relu'))\n",
        "#model1.add(Dense(32, 'relu'))\n",
        "model1.add(Dense(32, 'relu'))\n",
        "model1.add(Dense(16, 'relu'))\n",
        "model1.add(Dense(1, 'linear'))\n",
        "\n",
        "model1.summary()"
      ],
      "metadata": {
        "colab": {
          "base_uri": "https://localhost:8080/"
        },
        "id": "3SPEHvCAJ3Eq",
        "outputId": "987116a1-6bff-4f07-97f9-ed8b37478dc8"
      },
      "execution_count": null,
      "outputs": [
        {
          "output_type": "stream",
          "name": "stdout",
          "text": [
            "Model: \"sequential_2\"\n",
            "_________________________________________________________________\n",
            " Layer (type)                Output Shape              Param #   \n",
            "=================================================================\n",
            " lstm_2 (LSTM)               (None, 64)                16896     \n",
            "                                                                 \n",
            " dense_7 (Dense)             (None, 32)                2080      \n",
            "                                                                 \n",
            " dense_8 (Dense)             (None, 16)                528       \n",
            "                                                                 \n",
            " dense_9 (Dense)             (None, 1)                 17        \n",
            "                                                                 \n",
            "=================================================================\n",
            "Total params: 19,521\n",
            "Trainable params: 19,521\n",
            "Non-trainable params: 0\n",
            "_________________________________________________________________\n"
          ]
        }
      ]
    },
    {
      "cell_type": "code",
      "source": [
        "chp1 = ModelCheckpoint('model1/', save_best_only=True)\n",
        "model1.compile(loss=MeanSquaredError(), optimizer=Adam(learning_rate=0.0001), metrics=[RootMeanSquaredError()])"
      ],
      "metadata": {
        "id": "LWw2uMewL-ch"
      },
      "execution_count": null,
      "outputs": []
    },
    {
      "cell_type": "code",
      "source": [
        "history1 = model1.fit(X_train1, y_train1, validation_data=(X_val1, y_val1), epochs=200, callbacks=[chp1])"
      ],
      "metadata": {
        "colab": {
          "base_uri": "https://localhost:8080/"
        },
        "id": "6VXykq-OM2ew",
        "outputId": "5b173ccb-56b0-4410-fefe-924890717c29"
      },
      "execution_count": null,
      "outputs": [
        {
          "output_type": "stream",
          "name": "stdout",
          "text": [
            "Epoch 1/200\n",
            "2525/2525 [==============================] - ETA: 0s - loss: 77.0904 - root_mean_squared_error: 8.7801"
          ]
        },
        {
          "output_type": "stream",
          "name": "stderr",
          "text": [
            "WARNING:absl:Found untraced functions such as lstm_cell_4_layer_call_fn, lstm_cell_4_layer_call_and_return_conditional_losses while saving (showing 2 of 2). These functions will not be directly callable after loading.\n"
          ]
        },
        {
          "output_type": "stream",
          "name": "stdout",
          "text": [
            "INFO:tensorflow:Assets written to: model1/assets\n"
          ]
        },
        {
          "output_type": "stream",
          "name": "stderr",
          "text": [
            "INFO:tensorflow:Assets written to: model1/assets\n",
            "WARNING:absl:<keras.layers.recurrent.LSTMCell object at 0x7f68ced26110> has the same name 'LSTMCell' as a built-in Keras object. Consider renaming <class 'keras.layers.recurrent.LSTMCell'> to avoid naming conflicts when loading with `tf.keras.models.load_model`. If renaming is not possible, pass the object in the `custom_objects` parameter of the load function.\n"
          ]
        },
        {
          "output_type": "stream",
          "name": "stdout",
          "text": [
            "\b\b\b\b\b\b\b\b\b\b\b\b\b\b\b\b\b\b\b\b\b\b\b\b\b\b\b\b\b\b\b\b\b\b\b\b\b\b\b\b\b\b\b\b\b\b\b\b\b\b\b\b\b\b\b\b\b\b\b\b\b\b\b\b\b\b\b\b\b\b\b\b\b\b\b\b\b\b\b\b\b\b\b\b\b\b\b\b\b\b\b\b\b\b\b\b\b\b\b\b\b\b\r2525/2525 [==============================] - 47s 18ms/step - loss: 77.0904 - root_mean_squared_error: 8.7801 - val_loss: 11.0848 - val_root_mean_squared_error: 3.3294\n",
            "Epoch 2/200\n",
            "2525/2525 [==============================] - ETA: 0s - loss: 4.2645 - root_mean_squared_error: 2.0651"
          ]
        },
        {
          "output_type": "stream",
          "name": "stderr",
          "text": [
            "WARNING:absl:Found untraced functions such as lstm_cell_4_layer_call_fn, lstm_cell_4_layer_call_and_return_conditional_losses while saving (showing 2 of 2). These functions will not be directly callable after loading.\n"
          ]
        },
        {
          "output_type": "stream",
          "name": "stdout",
          "text": [
            "INFO:tensorflow:Assets written to: model1/assets\n"
          ]
        },
        {
          "output_type": "stream",
          "name": "stderr",
          "text": [
            "INFO:tensorflow:Assets written to: model1/assets\n",
            "WARNING:absl:<keras.layers.recurrent.LSTMCell object at 0x7f68ced26110> has the same name 'LSTMCell' as a built-in Keras object. Consider renaming <class 'keras.layers.recurrent.LSTMCell'> to avoid naming conflicts when loading with `tf.keras.models.load_model`. If renaming is not possible, pass the object in the `custom_objects` parameter of the load function.\n"
          ]
        },
        {
          "output_type": "stream",
          "name": "stdout",
          "text": [
            "\b\b\b\b\b\b\b\b\b\b\b\b\b\b\b\b\b\b\b\b\b\b\b\b\b\b\b\b\b\b\b\b\b\b\b\b\b\b\b\b\b\b\b\b\b\b\b\b\b\b\b\b\b\b\b\b\b\b\b\b\b\b\b\b\b\b\b\b\b\b\b\b\b\b\b\b\b\b\b\b\b\b\b\b\b\b\b\b\b\b\b\b\b\b\b\b\b\b\b\b\b\r2525/2525 [==============================] - 40s 16ms/step - loss: 4.2645 - root_mean_squared_error: 2.0651 - val_loss: 10.6676 - val_root_mean_squared_error: 3.2661\n",
            "Epoch 3/200\n",
            "2525/2525 [==============================] - ETA: 0s - loss: 3.9999 - root_mean_squared_error: 2.0000"
          ]
        },
        {
          "output_type": "stream",
          "name": "stderr",
          "text": [
            "WARNING:absl:Found untraced functions such as lstm_cell_4_layer_call_fn, lstm_cell_4_layer_call_and_return_conditional_losses while saving (showing 2 of 2). These functions will not be directly callable after loading.\n"
          ]
        },
        {
          "output_type": "stream",
          "name": "stdout",
          "text": [
            "INFO:tensorflow:Assets written to: model1/assets\n"
          ]
        },
        {
          "output_type": "stream",
          "name": "stderr",
          "text": [
            "INFO:tensorflow:Assets written to: model1/assets\n",
            "WARNING:absl:<keras.layers.recurrent.LSTMCell object at 0x7f68ced26110> has the same name 'LSTMCell' as a built-in Keras object. Consider renaming <class 'keras.layers.recurrent.LSTMCell'> to avoid naming conflicts when loading with `tf.keras.models.load_model`. If renaming is not possible, pass the object in the `custom_objects` parameter of the load function.\n"
          ]
        },
        {
          "output_type": "stream",
          "name": "stdout",
          "text": [
            "\b\b\b\b\b\b\b\b\b\b\b\b\b\b\b\b\b\b\b\b\b\b\b\b\b\b\b\b\b\b\b\b\b\b\b\b\b\b\b\b\b\b\b\b\b\b\b\b\b\b\b\b\b\b\b\b\b\b\b\b\b\b\b\b\b\b\b\b\b\b\b\b\b\b\b\b\b\b\b\b\b\b\b\b\b\b\b\b\b\b\b\b\b\b\b\b\b\b\b\b\b\r2525/2525 [==============================] - 41s 16ms/step - loss: 3.9999 - root_mean_squared_error: 2.0000 - val_loss: 9.6824 - val_root_mean_squared_error: 3.1117\n",
            "Epoch 4/200\n",
            "2525/2525 [==============================] - ETA: 0s - loss: 3.3662 - root_mean_squared_error: 1.8347"
          ]
        },
        {
          "output_type": "stream",
          "name": "stderr",
          "text": [
            "WARNING:absl:Found untraced functions such as lstm_cell_4_layer_call_fn, lstm_cell_4_layer_call_and_return_conditional_losses while saving (showing 2 of 2). These functions will not be directly callable after loading.\n"
          ]
        },
        {
          "output_type": "stream",
          "name": "stdout",
          "text": [
            "INFO:tensorflow:Assets written to: model1/assets\n"
          ]
        },
        {
          "output_type": "stream",
          "name": "stderr",
          "text": [
            "INFO:tensorflow:Assets written to: model1/assets\n",
            "WARNING:absl:<keras.layers.recurrent.LSTMCell object at 0x7f68ced26110> has the same name 'LSTMCell' as a built-in Keras object. Consider renaming <class 'keras.layers.recurrent.LSTMCell'> to avoid naming conflicts when loading with `tf.keras.models.load_model`. If renaming is not possible, pass the object in the `custom_objects` parameter of the load function.\n"
          ]
        },
        {
          "output_type": "stream",
          "name": "stdout",
          "text": [
            "\b\b\b\b\b\b\b\b\b\b\b\b\b\b\b\b\b\b\b\b\b\b\b\b\b\b\b\b\b\b\b\b\b\b\b\b\b\b\b\b\b\b\b\b\b\b\b\b\b\b\b\b\b\b\b\b\b\b\b\b\b\b\b\b\b\b\b\b\b\b\b\b\b\b\b\b\b\b\b\b\b\b\b\b\b\b\b\b\b\b\b\b\b\b\b\b\b\b\b\b\b\r2525/2525 [==============================] - 41s 16ms/step - loss: 3.3662 - root_mean_squared_error: 1.8347 - val_loss: 7.9163 - val_root_mean_squared_error: 2.8136\n",
            "Epoch 5/200\n",
            "2525/2525 [==============================] - ETA: 0s - loss: 2.7472 - root_mean_squared_error: 1.6575"
          ]
        },
        {
          "output_type": "stream",
          "name": "stderr",
          "text": [
            "WARNING:absl:Found untraced functions such as lstm_cell_4_layer_call_fn, lstm_cell_4_layer_call_and_return_conditional_losses while saving (showing 2 of 2). These functions will not be directly callable after loading.\n"
          ]
        },
        {
          "output_type": "stream",
          "name": "stdout",
          "text": [
            "INFO:tensorflow:Assets written to: model1/assets\n"
          ]
        },
        {
          "output_type": "stream",
          "name": "stderr",
          "text": [
            "INFO:tensorflow:Assets written to: model1/assets\n",
            "WARNING:absl:<keras.layers.recurrent.LSTMCell object at 0x7f68ced26110> has the same name 'LSTMCell' as a built-in Keras object. Consider renaming <class 'keras.layers.recurrent.LSTMCell'> to avoid naming conflicts when loading with `tf.keras.models.load_model`. If renaming is not possible, pass the object in the `custom_objects` parameter of the load function.\n"
          ]
        },
        {
          "output_type": "stream",
          "name": "stdout",
          "text": [
            "\b\b\b\b\b\b\b\b\b\b\b\b\b\b\b\b\b\b\b\b\b\b\b\b\b\b\b\b\b\b\b\b\b\b\b\b\b\b\b\b\b\b\b\b\b\b\b\b\b\b\b\b\b\b\b\b\b\b\b\b\b\b\b\b\b\b\b\b\b\b\b\b\b\b\b\b\b\b\b\b\b\b\b\b\b\b\b\b\b\b\b\b\b\b\b\b\b\b\b\b\b\r2525/2525 [==============================] - 43s 17ms/step - loss: 2.7472 - root_mean_squared_error: 1.6575 - val_loss: 7.7308 - val_root_mean_squared_error: 2.7804\n",
            "Epoch 6/200\n",
            "2523/2525 [============================>.] - ETA: 0s - loss: 2.5719 - root_mean_squared_error: 1.6037"
          ]
        },
        {
          "output_type": "stream",
          "name": "stderr",
          "text": [
            "WARNING:absl:Found untraced functions such as lstm_cell_4_layer_call_fn, lstm_cell_4_layer_call_and_return_conditional_losses while saving (showing 2 of 2). These functions will not be directly callable after loading.\n"
          ]
        },
        {
          "output_type": "stream",
          "name": "stdout",
          "text": [
            "INFO:tensorflow:Assets written to: model1/assets\n"
          ]
        },
        {
          "output_type": "stream",
          "name": "stderr",
          "text": [
            "INFO:tensorflow:Assets written to: model1/assets\n",
            "WARNING:absl:<keras.layers.recurrent.LSTMCell object at 0x7f68ced26110> has the same name 'LSTMCell' as a built-in Keras object. Consider renaming <class 'keras.layers.recurrent.LSTMCell'> to avoid naming conflicts when loading with `tf.keras.models.load_model`. If renaming is not possible, pass the object in the `custom_objects` parameter of the load function.\n"
          ]
        },
        {
          "output_type": "stream",
          "name": "stdout",
          "text": [
            "\b\b\b\b\b\b\b\b\b\b\b\b\b\b\b\b\b\b\b\b\b\b\b\b\b\b\b\b\b\b\b\b\b\b\b\b\b\b\b\b\b\b\b\b\b\b\b\b\b\b\b\b\b\b\b\b\b\b\b\b\b\b\b\b\b\b\b\b\b\b\b\b\b\b\b\b\b\b\b\b\b\b\b\b\b\b\b\b\b\b\b\b\b\b\b\b\b\b\b\b\b\r2525/2525 [==============================] - 41s 16ms/step - loss: 2.5717 - root_mean_squared_error: 1.6037 - val_loss: 7.3182 - val_root_mean_squared_error: 2.7052\n",
            "Epoch 7/200\n",
            "2523/2525 [============================>.] - ETA: 0s - loss: 2.5010 - root_mean_squared_error: 1.5815"
          ]
        },
        {
          "output_type": "stream",
          "name": "stderr",
          "text": [
            "WARNING:absl:Found untraced functions such as lstm_cell_4_layer_call_fn, lstm_cell_4_layer_call_and_return_conditional_losses while saving (showing 2 of 2). These functions will not be directly callable after loading.\n"
          ]
        },
        {
          "output_type": "stream",
          "name": "stdout",
          "text": [
            "INFO:tensorflow:Assets written to: model1/assets\n"
          ]
        },
        {
          "output_type": "stream",
          "name": "stderr",
          "text": [
            "INFO:tensorflow:Assets written to: model1/assets\n",
            "WARNING:absl:<keras.layers.recurrent.LSTMCell object at 0x7f68ced26110> has the same name 'LSTMCell' as a built-in Keras object. Consider renaming <class 'keras.layers.recurrent.LSTMCell'> to avoid naming conflicts when loading with `tf.keras.models.load_model`. If renaming is not possible, pass the object in the `custom_objects` parameter of the load function.\n"
          ]
        },
        {
          "output_type": "stream",
          "name": "stdout",
          "text": [
            "\b\b\b\b\b\b\b\b\b\b\b\b\b\b\b\b\b\b\b\b\b\b\b\b\b\b\b\b\b\b\b\b\b\b\b\b\b\b\b\b\b\b\b\b\b\b\b\b\b\b\b\b\b\b\b\b\b\b\b\b\b\b\b\b\b\b\b\b\b\b\b\b\b\b\b\b\b\b\b\b\b\b\b\b\b\b\b\b\b\b\b\b\b\b\b\b\b\b\b\b\b\r2525/2525 [==============================] - 41s 16ms/step - loss: 2.5006 - root_mean_squared_error: 1.5813 - val_loss: 7.1409 - val_root_mean_squared_error: 2.6722\n",
            "Epoch 8/200\n",
            "2524/2525 [============================>.] - ETA: 0s - loss: 2.4578 - root_mean_squared_error: 1.5677"
          ]
        },
        {
          "output_type": "stream",
          "name": "stderr",
          "text": [
            "WARNING:absl:Found untraced functions such as lstm_cell_4_layer_call_fn, lstm_cell_4_layer_call_and_return_conditional_losses while saving (showing 2 of 2). These functions will not be directly callable after loading.\n"
          ]
        },
        {
          "output_type": "stream",
          "name": "stdout",
          "text": [
            "INFO:tensorflow:Assets written to: model1/assets\n"
          ]
        },
        {
          "output_type": "stream",
          "name": "stderr",
          "text": [
            "INFO:tensorflow:Assets written to: model1/assets\n",
            "WARNING:absl:<keras.layers.recurrent.LSTMCell object at 0x7f68ced26110> has the same name 'LSTMCell' as a built-in Keras object. Consider renaming <class 'keras.layers.recurrent.LSTMCell'> to avoid naming conflicts when loading with `tf.keras.models.load_model`. If renaming is not possible, pass the object in the `custom_objects` parameter of the load function.\n"
          ]
        },
        {
          "output_type": "stream",
          "name": "stdout",
          "text": [
            "\b\b\b\b\b\b\b\b\b\b\b\b\b\b\b\b\b\b\b\b\b\b\b\b\b\b\b\b\b\b\b\b\b\b\b\b\b\b\b\b\b\b\b\b\b\b\b\b\b\b\b\b\b\b\b\b\b\b\b\b\b\b\b\b\b\b\b\b\b\b\b\b\b\b\b\b\b\b\b\b\b\b\b\b\b\b\b\b\b\b\b\b\b\b\b\b\b\b\b\b\b\r2525/2525 [==============================] - 42s 17ms/step - loss: 2.4574 - root_mean_squared_error: 1.5676 - val_loss: 7.0972 - val_root_mean_squared_error: 2.6641\n",
            "Epoch 9/200\n",
            "2525/2525 [==============================] - ETA: 0s - loss: 2.4252 - root_mean_squared_error: 1.5573"
          ]
        },
        {
          "output_type": "stream",
          "name": "stderr",
          "text": [
            "WARNING:absl:Found untraced functions such as lstm_cell_4_layer_call_fn, lstm_cell_4_layer_call_and_return_conditional_losses while saving (showing 2 of 2). These functions will not be directly callable after loading.\n"
          ]
        },
        {
          "output_type": "stream",
          "name": "stdout",
          "text": [
            "INFO:tensorflow:Assets written to: model1/assets\n"
          ]
        },
        {
          "output_type": "stream",
          "name": "stderr",
          "text": [
            "INFO:tensorflow:Assets written to: model1/assets\n",
            "WARNING:absl:<keras.layers.recurrent.LSTMCell object at 0x7f68ced26110> has the same name 'LSTMCell' as a built-in Keras object. Consider renaming <class 'keras.layers.recurrent.LSTMCell'> to avoid naming conflicts when loading with `tf.keras.models.load_model`. If renaming is not possible, pass the object in the `custom_objects` parameter of the load function.\n"
          ]
        },
        {
          "output_type": "stream",
          "name": "stdout",
          "text": [
            "\b\b\b\b\b\b\b\b\b\b\b\b\b\b\b\b\b\b\b\b\b\b\b\b\b\b\b\b\b\b\b\b\b\b\b\b\b\b\b\b\b\b\b\b\b\b\b\b\b\b\b\b\b\b\b\b\b\b\b\b\b\b\b\b\b\b\b\b\b\b\b\b\b\b\b\b\b\b\b\b\b\b\b\b\b\b\b\b\b\b\b\b\b\b\b\b\b\b\b\b\b\r2525/2525 [==============================] - 45s 18ms/step - loss: 2.4252 - root_mean_squared_error: 1.5573 - val_loss: 6.9779 - val_root_mean_squared_error: 2.6416\n",
            "Epoch 10/200\n",
            "2525/2525 [==============================] - 38s 15ms/step - loss: 2.3981 - root_mean_squared_error: 1.5486 - val_loss: 7.0808 - val_root_mean_squared_error: 2.6610\n",
            "Epoch 11/200\n",
            "2522/2525 [============================>.] - ETA: 0s - loss: 2.3763 - root_mean_squared_error: 1.5415"
          ]
        },
        {
          "output_type": "stream",
          "name": "stderr",
          "text": [
            "WARNING:absl:Found untraced functions such as lstm_cell_4_layer_call_fn, lstm_cell_4_layer_call_and_return_conditional_losses while saving (showing 2 of 2). These functions will not be directly callable after loading.\n"
          ]
        },
        {
          "output_type": "stream",
          "name": "stdout",
          "text": [
            "INFO:tensorflow:Assets written to: model1/assets\n"
          ]
        },
        {
          "output_type": "stream",
          "name": "stderr",
          "text": [
            "INFO:tensorflow:Assets written to: model1/assets\n",
            "WARNING:absl:<keras.layers.recurrent.LSTMCell object at 0x7f68ced26110> has the same name 'LSTMCell' as a built-in Keras object. Consider renaming <class 'keras.layers.recurrent.LSTMCell'> to avoid naming conflicts when loading with `tf.keras.models.load_model`. If renaming is not possible, pass the object in the `custom_objects` parameter of the load function.\n"
          ]
        },
        {
          "output_type": "stream",
          "name": "stdout",
          "text": [
            "\b\b\b\b\b\b\b\b\b\b\b\b\b\b\b\b\b\b\b\b\b\b\b\b\b\b\b\b\b\b\b\b\b\b\b\b\b\b\b\b\b\b\b\b\b\b\b\b\b\b\b\b\b\b\b\b\b\b\b\b\b\b\b\b\b\b\b\b\b\b\b\b\b\b\b\b\b\b\b\b\b\b\b\b\b\b\b\b\b\b\b\b\b\b\b\b\b\b\b\b\b\r2525/2525 [==============================] - 41s 16ms/step - loss: 2.3759 - root_mean_squared_error: 1.5414 - val_loss: 6.7956 - val_root_mean_squared_error: 2.6068\n",
            "Epoch 12/200\n",
            "2525/2525 [==============================] - 37s 15ms/step - loss: 2.3638 - root_mean_squared_error: 1.5375 - val_loss: 6.8546 - val_root_mean_squared_error: 2.6181\n",
            "Epoch 13/200\n",
            "2524/2525 [============================>.] - ETA: 0s - loss: 2.3432 - root_mean_squared_error: 1.5307"
          ]
        },
        {
          "output_type": "stream",
          "name": "stderr",
          "text": [
            "WARNING:absl:Found untraced functions such as lstm_cell_4_layer_call_fn, lstm_cell_4_layer_call_and_return_conditional_losses while saving (showing 2 of 2). These functions will not be directly callable after loading.\n"
          ]
        },
        {
          "output_type": "stream",
          "name": "stdout",
          "text": [
            "INFO:tensorflow:Assets written to: model1/assets\n"
          ]
        },
        {
          "output_type": "stream",
          "name": "stderr",
          "text": [
            "INFO:tensorflow:Assets written to: model1/assets\n",
            "WARNING:absl:<keras.layers.recurrent.LSTMCell object at 0x7f68ced26110> has the same name 'LSTMCell' as a built-in Keras object. Consider renaming <class 'keras.layers.recurrent.LSTMCell'> to avoid naming conflicts when loading with `tf.keras.models.load_model`. If renaming is not possible, pass the object in the `custom_objects` parameter of the load function.\n"
          ]
        },
        {
          "output_type": "stream",
          "name": "stdout",
          "text": [
            "\b\b\b\b\b\b\b\b\b\b\b\b\b\b\b\b\b\b\b\b\b\b\b\b\b\b\b\b\b\b\b\b\b\b\b\b\b\b\b\b\b\b\b\b\b\b\b\b\b\b\b\b\b\b\b\b\b\b\b\b\b\b\b\b\b\b\b\b\b\b\b\b\b\b\b\b\b\b\b\b\b\b\b\b\b\b\b\b\b\b\b\b\b\b\b\b\b\b\b\b\b\r2525/2525 [==============================] - 44s 17ms/step - loss: 2.3428 - root_mean_squared_error: 1.5306 - val_loss: 6.7821 - val_root_mean_squared_error: 2.6043\n",
            "Epoch 14/200\n",
            "2525/2525 [==============================] - ETA: 0s - loss: 2.3356 - root_mean_squared_error: 1.5283"
          ]
        },
        {
          "output_type": "stream",
          "name": "stderr",
          "text": [
            "WARNING:absl:Found untraced functions such as lstm_cell_4_layer_call_fn, lstm_cell_4_layer_call_and_return_conditional_losses while saving (showing 2 of 2). These functions will not be directly callable after loading.\n"
          ]
        },
        {
          "output_type": "stream",
          "name": "stdout",
          "text": [
            "INFO:tensorflow:Assets written to: model1/assets\n"
          ]
        },
        {
          "output_type": "stream",
          "name": "stderr",
          "text": [
            "INFO:tensorflow:Assets written to: model1/assets\n",
            "WARNING:absl:<keras.layers.recurrent.LSTMCell object at 0x7f68ced26110> has the same name 'LSTMCell' as a built-in Keras object. Consider renaming <class 'keras.layers.recurrent.LSTMCell'> to avoid naming conflicts when loading with `tf.keras.models.load_model`. If renaming is not possible, pass the object in the `custom_objects` parameter of the load function.\n"
          ]
        },
        {
          "output_type": "stream",
          "name": "stdout",
          "text": [
            "\b\b\b\b\b\b\b\b\b\b\b\b\b\b\b\b\b\b\b\b\b\b\b\b\b\b\b\b\b\b\b\b\b\b\b\b\b\b\b\b\b\b\b\b\b\b\b\b\b\b\b\b\b\b\b\b\b\b\b\b\b\b\b\b\b\b\b\b\b\b\b\b\b\b\b\b\b\b\b\b\b\b\b\b\b\b\b\b\b\b\b\b\b\b\b\b\b\b\b\b\b\r2525/2525 [==============================] - 43s 17ms/step - loss: 2.3356 - root_mean_squared_error: 1.5283 - val_loss: 6.7573 - val_root_mean_squared_error: 2.5995\n",
            "Epoch 15/200\n",
            "2525/2525 [==============================] - 38s 15ms/step - loss: 2.3222 - root_mean_squared_error: 1.5239 - val_loss: 6.8491 - val_root_mean_squared_error: 2.6171\n",
            "Epoch 16/200\n",
            "2525/2525 [==============================] - 37s 15ms/step - loss: 2.3057 - root_mean_squared_error: 1.5185 - val_loss: 6.8006 - val_root_mean_squared_error: 2.6078\n",
            "Epoch 17/200\n",
            "2525/2525 [==============================] - 38s 15ms/step - loss: 2.2981 - root_mean_squared_error: 1.5160 - val_loss: 6.8587 - val_root_mean_squared_error: 2.6189\n",
            "Epoch 18/200\n",
            "2524/2525 [============================>.] - ETA: 0s - loss: 2.2960 - root_mean_squared_error: 1.5153"
          ]
        },
        {
          "output_type": "stream",
          "name": "stderr",
          "text": [
            "WARNING:absl:Found untraced functions such as lstm_cell_4_layer_call_fn, lstm_cell_4_layer_call_and_return_conditional_losses while saving (showing 2 of 2). These functions will not be directly callable after loading.\n"
          ]
        },
        {
          "output_type": "stream",
          "name": "stdout",
          "text": [
            "INFO:tensorflow:Assets written to: model1/assets\n"
          ]
        },
        {
          "output_type": "stream",
          "name": "stderr",
          "text": [
            "INFO:tensorflow:Assets written to: model1/assets\n",
            "WARNING:absl:<keras.layers.recurrent.LSTMCell object at 0x7f68ced26110> has the same name 'LSTMCell' as a built-in Keras object. Consider renaming <class 'keras.layers.recurrent.LSTMCell'> to avoid naming conflicts when loading with `tf.keras.models.load_model`. If renaming is not possible, pass the object in the `custom_objects` parameter of the load function.\n"
          ]
        },
        {
          "output_type": "stream",
          "name": "stdout",
          "text": [
            "\b\b\b\b\b\b\b\b\b\b\b\b\b\b\b\b\b\b\b\b\b\b\b\b\b\b\b\b\b\b\b\b\b\b\b\b\b\b\b\b\b\b\b\b\b\b\b\b\b\b\b\b\b\b\b\b\b\b\b\b\b\b\b\b\b\b\b\b\b\b\b\b\b\b\b\b\b\b\b\b\b\b\b\b\b\b\b\b\b\b\b\b\b\b\b\b\b\b\b\b\b\r2525/2525 [==============================] - 44s 17ms/step - loss: 2.2958 - root_mean_squared_error: 1.5152 - val_loss: 6.5304 - val_root_mean_squared_error: 2.5555\n",
            "Epoch 19/200\n",
            "2525/2525 [==============================] - 38s 15ms/step - loss: 2.2879 - root_mean_squared_error: 1.5126 - val_loss: 6.6790 - val_root_mean_squared_error: 2.5844\n",
            "Epoch 20/200\n",
            "2525/2525 [==============================] - 38s 15ms/step - loss: 2.2770 - root_mean_squared_error: 1.5090 - val_loss: 6.5875 - val_root_mean_squared_error: 2.5666\n",
            "Epoch 21/200\n",
            "2525/2525 [==============================] - 38s 15ms/step - loss: 2.2686 - root_mean_squared_error: 1.5062 - val_loss: 6.5973 - val_root_mean_squared_error: 2.5685\n",
            "Epoch 22/200\n",
            "2525/2525 [==============================] - 39s 15ms/step - loss: 2.2594 - root_mean_squared_error: 1.5031 - val_loss: 6.5481 - val_root_mean_squared_error: 2.5589\n",
            "Epoch 23/200\n",
            "2525/2525 [==============================] - 37s 15ms/step - loss: 2.2590 - root_mean_squared_error: 1.5030 - val_loss: 6.7446 - val_root_mean_squared_error: 2.5970\n",
            "Epoch 24/200\n",
            "2525/2525 [==============================] - 37s 15ms/step - loss: 2.2509 - root_mean_squared_error: 1.5003 - val_loss: 6.6774 - val_root_mean_squared_error: 2.5841\n",
            "Epoch 25/200\n",
            "2525/2525 [==============================] - 37s 15ms/step - loss: 2.2419 - root_mean_squared_error: 1.4973 - val_loss: 6.5802 - val_root_mean_squared_error: 2.5652\n",
            "Epoch 26/200\n",
            "2525/2525 [==============================] - 37s 15ms/step - loss: 2.2396 - root_mean_squared_error: 1.4965 - val_loss: 6.5610 - val_root_mean_squared_error: 2.5614\n",
            "Epoch 27/200\n",
            "2525/2525 [==============================] - 37s 15ms/step - loss: 2.2349 - root_mean_squared_error: 1.4949 - val_loss: 6.5702 - val_root_mean_squared_error: 2.5632\n",
            "Epoch 28/200\n",
            "2524/2525 [============================>.] - ETA: 0s - loss: 2.2301 - root_mean_squared_error: 1.4933"
          ]
        },
        {
          "output_type": "stream",
          "name": "stderr",
          "text": [
            "WARNING:absl:Found untraced functions such as lstm_cell_4_layer_call_fn, lstm_cell_4_layer_call_and_return_conditional_losses while saving (showing 2 of 2). These functions will not be directly callable after loading.\n"
          ]
        },
        {
          "output_type": "stream",
          "name": "stdout",
          "text": [
            "INFO:tensorflow:Assets written to: model1/assets\n"
          ]
        },
        {
          "output_type": "stream",
          "name": "stderr",
          "text": [
            "INFO:tensorflow:Assets written to: model1/assets\n",
            "WARNING:absl:<keras.layers.recurrent.LSTMCell object at 0x7f68ced26110> has the same name 'LSTMCell' as a built-in Keras object. Consider renaming <class 'keras.layers.recurrent.LSTMCell'> to avoid naming conflicts when loading with `tf.keras.models.load_model`. If renaming is not possible, pass the object in the `custom_objects` parameter of the load function.\n"
          ]
        },
        {
          "output_type": "stream",
          "name": "stdout",
          "text": [
            "\b\b\b\b\b\b\b\b\b\b\b\b\b\b\b\b\b\b\b\b\b\b\b\b\b\b\b\b\b\b\b\b\b\b\b\b\b\b\b\b\b\b\b\b\b\b\b\b\b\b\b\b\b\b\b\b\b\b\b\b\b\b\b\b\b\b\b\b\b\b\b\b\b\b\b\b\b\b\b\b\b\b\b\b\b\b\b\b\b\b\b\b\b\b\b\b\b\b\b\b\b\r2525/2525 [==============================] - 42s 16ms/step - loss: 2.2299 - root_mean_squared_error: 1.4933 - val_loss: 6.4227 - val_root_mean_squared_error: 2.5343\n",
            "Epoch 29/200\n",
            "2525/2525 [==============================] - 37s 15ms/step - loss: 2.2250 - root_mean_squared_error: 1.4916 - val_loss: 6.4871 - val_root_mean_squared_error: 2.5470\n",
            "Epoch 30/200\n",
            "2525/2525 [==============================] - 37s 15ms/step - loss: 2.2186 - root_mean_squared_error: 1.4895 - val_loss: 6.5308 - val_root_mean_squared_error: 2.5555\n",
            "Epoch 31/200\n",
            "2525/2525 [==============================] - 37s 15ms/step - loss: 2.2081 - root_mean_squared_error: 1.4860 - val_loss: 6.4409 - val_root_mean_squared_error: 2.5379\n",
            "Epoch 32/200\n",
            "2522/2525 [============================>.] - ETA: 0s - loss: 2.2081 - root_mean_squared_error: 1.4860"
          ]
        },
        {
          "output_type": "stream",
          "name": "stderr",
          "text": [
            "WARNING:absl:Found untraced functions such as lstm_cell_4_layer_call_fn, lstm_cell_4_layer_call_and_return_conditional_losses while saving (showing 2 of 2). These functions will not be directly callable after loading.\n"
          ]
        },
        {
          "output_type": "stream",
          "name": "stdout",
          "text": [
            "INFO:tensorflow:Assets written to: model1/assets\n"
          ]
        },
        {
          "output_type": "stream",
          "name": "stderr",
          "text": [
            "INFO:tensorflow:Assets written to: model1/assets\n",
            "WARNING:absl:<keras.layers.recurrent.LSTMCell object at 0x7f68ced26110> has the same name 'LSTMCell' as a built-in Keras object. Consider renaming <class 'keras.layers.recurrent.LSTMCell'> to avoid naming conflicts when loading with `tf.keras.models.load_model`. If renaming is not possible, pass the object in the `custom_objects` parameter of the load function.\n"
          ]
        },
        {
          "output_type": "stream",
          "name": "stdout",
          "text": [
            "\b\b\b\b\b\b\b\b\b\b\b\b\b\b\b\b\b\b\b\b\b\b\b\b\b\b\b\b\b\b\b\b\b\b\b\b\b\b\b\b\b\b\b\b\b\b\b\b\b\b\b\b\b\b\b\b\b\b\b\b\b\b\b\b\b\b\b\b\b\b\b\b\b\b\b\b\b\b\b\b\b\b\b\b\b\b\b\b\b\b\b\b\b\b\b\b\b\b\b\b\b\r2525/2525 [==============================] - 41s 16ms/step - loss: 2.2087 - root_mean_squared_error: 1.4862 - val_loss: 6.3391 - val_root_mean_squared_error: 2.5178\n",
            "Epoch 33/200\n",
            "2525/2525 [==============================] - 37s 15ms/step - loss: 2.1983 - root_mean_squared_error: 1.4827 - val_loss: 6.5620 - val_root_mean_squared_error: 2.5616\n",
            "Epoch 34/200\n",
            "2525/2525 [==============================] - 37s 15ms/step - loss: 2.2004 - root_mean_squared_error: 1.4834 - val_loss: 6.4714 - val_root_mean_squared_error: 2.5439\n",
            "Epoch 35/200\n",
            "2525/2525 [==============================] - 37s 15ms/step - loss: 2.1893 - root_mean_squared_error: 1.4796 - val_loss: 6.4368 - val_root_mean_squared_error: 2.5371\n",
            "Epoch 36/200\n",
            "2525/2525 [==============================] - 37s 15ms/step - loss: 2.1833 - root_mean_squared_error: 1.4776 - val_loss: 6.3881 - val_root_mean_squared_error: 2.5275\n",
            "Epoch 37/200\n",
            "2523/2525 [============================>.] - ETA: 0s - loss: 2.1805 - root_mean_squared_error: 1.4767"
          ]
        },
        {
          "output_type": "stream",
          "name": "stderr",
          "text": [
            "WARNING:absl:Found untraced functions such as lstm_cell_4_layer_call_fn, lstm_cell_4_layer_call_and_return_conditional_losses while saving (showing 2 of 2). These functions will not be directly callable after loading.\n"
          ]
        },
        {
          "output_type": "stream",
          "name": "stdout",
          "text": [
            "INFO:tensorflow:Assets written to: model1/assets\n"
          ]
        },
        {
          "output_type": "stream",
          "name": "stderr",
          "text": [
            "INFO:tensorflow:Assets written to: model1/assets\n",
            "WARNING:absl:<keras.layers.recurrent.LSTMCell object at 0x7f68ced26110> has the same name 'LSTMCell' as a built-in Keras object. Consider renaming <class 'keras.layers.recurrent.LSTMCell'> to avoid naming conflicts when loading with `tf.keras.models.load_model`. If renaming is not possible, pass the object in the `custom_objects` parameter of the load function.\n"
          ]
        },
        {
          "output_type": "stream",
          "name": "stdout",
          "text": [
            "\b\b\b\b\b\b\b\b\b\b\b\b\b\b\b\b\b\b\b\b\b\b\b\b\b\b\b\b\b\b\b\b\b\b\b\b\b\b\b\b\b\b\b\b\b\b\b\b\b\b\b\b\b\b\b\b\b\b\b\b\b\b\b\b\b\b\b\b\b\b\b\b\b\b\b\b\b\b\b\b\b\b\b\b\b\b\b\b\b\b\b\b\b\b\b\b\b\b\b\b\b\r2525/2525 [==============================] - 42s 16ms/step - loss: 2.1800 - root_mean_squared_error: 1.4765 - val_loss: 6.3289 - val_root_mean_squared_error: 2.5157\n",
            "Epoch 38/200\n",
            "2525/2525 [==============================] - 37s 15ms/step - loss: 2.1754 - root_mean_squared_error: 1.4749 - val_loss: 6.4049 - val_root_mean_squared_error: 2.5308\n",
            "Epoch 39/200\n",
            "2525/2525 [==============================] - 37s 15ms/step - loss: 2.1681 - root_mean_squared_error: 1.4725 - val_loss: 6.3646 - val_root_mean_squared_error: 2.5228\n",
            "Epoch 40/200\n",
            "2522/2525 [============================>.] - ETA: 0s - loss: 2.1736 - root_mean_squared_error: 1.4743"
          ]
        },
        {
          "output_type": "stream",
          "name": "stderr",
          "text": [
            "WARNING:absl:Found untraced functions such as lstm_cell_4_layer_call_fn, lstm_cell_4_layer_call_and_return_conditional_losses while saving (showing 2 of 2). These functions will not be directly callable after loading.\n"
          ]
        },
        {
          "output_type": "stream",
          "name": "stdout",
          "text": [
            "INFO:tensorflow:Assets written to: model1/assets\n"
          ]
        },
        {
          "output_type": "stream",
          "name": "stderr",
          "text": [
            "INFO:tensorflow:Assets written to: model1/assets\n",
            "WARNING:absl:<keras.layers.recurrent.LSTMCell object at 0x7f68ced26110> has the same name 'LSTMCell' as a built-in Keras object. Consider renaming <class 'keras.layers.recurrent.LSTMCell'> to avoid naming conflicts when loading with `tf.keras.models.load_model`. If renaming is not possible, pass the object in the `custom_objects` parameter of the load function.\n"
          ]
        },
        {
          "output_type": "stream",
          "name": "stdout",
          "text": [
            "\b\b\b\b\b\b\b\b\b\b\b\b\b\b\b\b\b\b\b\b\b\b\b\b\b\b\b\b\b\b\b\b\b\b\b\b\b\b\b\b\b\b\b\b\b\b\b\b\b\b\b\b\b\b\b\b\b\b\b\b\b\b\b\b\b\b\b\b\b\b\b\b\b\b\b\b\b\b\b\b\b\b\b\b\b\b\b\b\b\b\b\b\b\b\b\b\b\b\b\b\b\r2525/2525 [==============================] - 41s 16ms/step - loss: 2.1735 - root_mean_squared_error: 1.4743 - val_loss: 6.2702 - val_root_mean_squared_error: 2.5040\n",
            "Epoch 41/200\n",
            "2523/2525 [============================>.] - ETA: 0s - loss: 2.1630 - root_mean_squared_error: 1.4707"
          ]
        },
        {
          "output_type": "stream",
          "name": "stderr",
          "text": [
            "WARNING:absl:Found untraced functions such as lstm_cell_4_layer_call_fn, lstm_cell_4_layer_call_and_return_conditional_losses while saving (showing 2 of 2). These functions will not be directly callable after loading.\n"
          ]
        },
        {
          "output_type": "stream",
          "name": "stdout",
          "text": [
            "INFO:tensorflow:Assets written to: model1/assets\n"
          ]
        },
        {
          "output_type": "stream",
          "name": "stderr",
          "text": [
            "INFO:tensorflow:Assets written to: model1/assets\n",
            "WARNING:absl:<keras.layers.recurrent.LSTMCell object at 0x7f68ced26110> has the same name 'LSTMCell' as a built-in Keras object. Consider renaming <class 'keras.layers.recurrent.LSTMCell'> to avoid naming conflicts when loading with `tf.keras.models.load_model`. If renaming is not possible, pass the object in the `custom_objects` parameter of the load function.\n"
          ]
        },
        {
          "output_type": "stream",
          "name": "stdout",
          "text": [
            "\b\b\b\b\b\b\b\b\b\b\b\b\b\b\b\b\b\b\b\b\b\b\b\b\b\b\b\b\b\b\b\b\b\b\b\b\b\b\b\b\b\b\b\b\b\b\b\b\b\b\b\b\b\b\b\b\b\b\b\b\b\b\b\b\b\b\b\b\b\b\b\b\b\b\b\b\b\b\b\b\b\b\b\b\b\b\b\b\b\b\b\b\b\b\b\b\b\b\b\b\b\r2525/2525 [==============================] - 43s 17ms/step - loss: 2.1625 - root_mean_squared_error: 1.4705 - val_loss: 6.2603 - val_root_mean_squared_error: 2.5021\n",
            "Epoch 42/200\n",
            "2524/2525 [============================>.] - ETA: 0s - loss: 2.1605 - root_mean_squared_error: 1.4699"
          ]
        },
        {
          "output_type": "stream",
          "name": "stderr",
          "text": [
            "WARNING:absl:Found untraced functions such as lstm_cell_4_layer_call_fn, lstm_cell_4_layer_call_and_return_conditional_losses while saving (showing 2 of 2). These functions will not be directly callable after loading.\n"
          ]
        },
        {
          "output_type": "stream",
          "name": "stdout",
          "text": [
            "INFO:tensorflow:Assets written to: model1/assets\n"
          ]
        },
        {
          "output_type": "stream",
          "name": "stderr",
          "text": [
            "INFO:tensorflow:Assets written to: model1/assets\n",
            "WARNING:absl:<keras.layers.recurrent.LSTMCell object at 0x7f68ced26110> has the same name 'LSTMCell' as a built-in Keras object. Consider renaming <class 'keras.layers.recurrent.LSTMCell'> to avoid naming conflicts when loading with `tf.keras.models.load_model`. If renaming is not possible, pass the object in the `custom_objects` parameter of the load function.\n"
          ]
        },
        {
          "output_type": "stream",
          "name": "stdout",
          "text": [
            "\b\b\b\b\b\b\b\b\b\b\b\b\b\b\b\b\b\b\b\b\b\b\b\b\b\b\b\b\b\b\b\b\b\b\b\b\b\b\b\b\b\b\b\b\b\b\b\b\b\b\b\b\b\b\b\b\b\b\b\b\b\b\b\b\b\b\b\b\b\b\b\b\b\b\b\b\b\b\b\b\b\b\b\b\b\b\b\b\b\b\b\b\b\b\b\b\b\b\b\b\b\r2525/2525 [==============================] - 41s 16ms/step - loss: 2.1613 - root_mean_squared_error: 1.4701 - val_loss: 6.2490 - val_root_mean_squared_error: 2.4998\n",
            "Epoch 43/200\n",
            "2525/2525 [==============================] - ETA: 0s - loss: 2.1605 - root_mean_squared_error: 1.4698"
          ]
        },
        {
          "output_type": "stream",
          "name": "stderr",
          "text": [
            "WARNING:absl:Found untraced functions such as lstm_cell_4_layer_call_fn, lstm_cell_4_layer_call_and_return_conditional_losses while saving (showing 2 of 2). These functions will not be directly callable after loading.\n"
          ]
        },
        {
          "output_type": "stream",
          "name": "stdout",
          "text": [
            "INFO:tensorflow:Assets written to: model1/assets\n"
          ]
        },
        {
          "output_type": "stream",
          "name": "stderr",
          "text": [
            "INFO:tensorflow:Assets written to: model1/assets\n",
            "WARNING:absl:<keras.layers.recurrent.LSTMCell object at 0x7f68ced26110> has the same name 'LSTMCell' as a built-in Keras object. Consider renaming <class 'keras.layers.recurrent.LSTMCell'> to avoid naming conflicts when loading with `tf.keras.models.load_model`. If renaming is not possible, pass the object in the `custom_objects` parameter of the load function.\n"
          ]
        },
        {
          "output_type": "stream",
          "name": "stdout",
          "text": [
            "\b\b\b\b\b\b\b\b\b\b\b\b\b\b\b\b\b\b\b\b\b\b\b\b\b\b\b\b\b\b\b\b\b\b\b\b\b\b\b\b\b\b\b\b\b\b\b\b\b\b\b\b\b\b\b\b\b\b\b\b\b\b\b\b\b\b\b\b\b\b\b\b\b\b\b\b\b\b\b\b\b\b\b\b\b\b\b\b\b\b\b\b\b\b\b\b\b\b\b\b\b\r2525/2525 [==============================] - 42s 16ms/step - loss: 2.1605 - root_mean_squared_error: 1.4698 - val_loss: 6.2017 - val_root_mean_squared_error: 2.4903\n",
            "Epoch 44/200\n",
            "2525/2525 [==============================] - 37s 15ms/step - loss: 2.1533 - root_mean_squared_error: 1.4674 - val_loss: 6.2625 - val_root_mean_squared_error: 2.5025\n",
            "Epoch 45/200\n",
            "2525/2525 [==============================] - 37s 15ms/step - loss: 2.1548 - root_mean_squared_error: 1.4679 - val_loss: 6.3126 - val_root_mean_squared_error: 2.5125\n",
            "Epoch 46/200\n",
            "2525/2525 [==============================] - 39s 15ms/step - loss: 2.1474 - root_mean_squared_error: 1.4654 - val_loss: 6.2933 - val_root_mean_squared_error: 2.5086\n",
            "Epoch 47/200\n",
            "2525/2525 [==============================] - 37s 15ms/step - loss: 2.1464 - root_mean_squared_error: 1.4650 - val_loss: 6.3227 - val_root_mean_squared_error: 2.5145\n",
            "Epoch 48/200\n",
            "2525/2525 [==============================] - 37s 15ms/step - loss: 2.1416 - root_mean_squared_error: 1.4634 - val_loss: 6.2194 - val_root_mean_squared_error: 2.4939\n",
            "Epoch 49/200\n",
            "2525/2525 [==============================] - 37s 15ms/step - loss: 2.1383 - root_mean_squared_error: 1.4623 - val_loss: 6.3309 - val_root_mean_squared_error: 2.5161\n",
            "Epoch 50/200\n",
            "2525/2525 [==============================] - 39s 15ms/step - loss: 2.1343 - root_mean_squared_error: 1.4609 - val_loss: 6.2584 - val_root_mean_squared_error: 2.5017\n",
            "Epoch 51/200\n",
            "2524/2525 [============================>.] - ETA: 0s - loss: 2.1318 - root_mean_squared_error: 1.4601"
          ]
        },
        {
          "output_type": "stream",
          "name": "stderr",
          "text": [
            "WARNING:absl:Found untraced functions such as lstm_cell_4_layer_call_fn, lstm_cell_4_layer_call_and_return_conditional_losses while saving (showing 2 of 2). These functions will not be directly callable after loading.\n"
          ]
        },
        {
          "output_type": "stream",
          "name": "stdout",
          "text": [
            "INFO:tensorflow:Assets written to: model1/assets\n"
          ]
        },
        {
          "output_type": "stream",
          "name": "stderr",
          "text": [
            "INFO:tensorflow:Assets written to: model1/assets\n",
            "WARNING:absl:<keras.layers.recurrent.LSTMCell object at 0x7f68ced26110> has the same name 'LSTMCell' as a built-in Keras object. Consider renaming <class 'keras.layers.recurrent.LSTMCell'> to avoid naming conflicts when loading with `tf.keras.models.load_model`. If renaming is not possible, pass the object in the `custom_objects` parameter of the load function.\n"
          ]
        },
        {
          "output_type": "stream",
          "name": "stdout",
          "text": [
            "\b\b\b\b\b\b\b\b\b\b\b\b\b\b\b\b\b\b\b\b\b\b\b\b\b\b\b\b\b\b\b\b\b\b\b\b\b\b\b\b\b\b\b\b\b\b\b\b\b\b\b\b\b\b\b\b\b\b\b\b\b\b\b\b\b\b\b\b\b\b\b\b\b\b\b\b\b\b\b\b\b\b\b\b\b\b\b\b\b\b\b\b\b\b\b\b\b\b\b\b\b\r2525/2525 [==============================] - 41s 16ms/step - loss: 2.1315 - root_mean_squared_error: 1.4600 - val_loss: 6.1897 - val_root_mean_squared_error: 2.4879\n",
            "Epoch 52/200\n",
            "2525/2525 [==============================] - 37s 15ms/step - loss: 2.1269 - root_mean_squared_error: 1.4584 - val_loss: 6.4412 - val_root_mean_squared_error: 2.5379\n",
            "Epoch 53/200\n",
            "2525/2525 [==============================] - 37s 15ms/step - loss: 2.1242 - root_mean_squared_error: 1.4575 - val_loss: 6.2160 - val_root_mean_squared_error: 2.4932\n",
            "Epoch 54/200\n",
            "2524/2525 [============================>.] - ETA: 0s - loss: 2.1199 - root_mean_squared_error: 1.4560"
          ]
        },
        {
          "output_type": "stream",
          "name": "stderr",
          "text": [
            "WARNING:absl:Found untraced functions such as lstm_cell_4_layer_call_fn, lstm_cell_4_layer_call_and_return_conditional_losses while saving (showing 2 of 2). These functions will not be directly callable after loading.\n"
          ]
        },
        {
          "output_type": "stream",
          "name": "stdout",
          "text": [
            "INFO:tensorflow:Assets written to: model1/assets\n"
          ]
        },
        {
          "output_type": "stream",
          "name": "stderr",
          "text": [
            "INFO:tensorflow:Assets written to: model1/assets\n",
            "WARNING:absl:<keras.layers.recurrent.LSTMCell object at 0x7f68ced26110> has the same name 'LSTMCell' as a built-in Keras object. Consider renaming <class 'keras.layers.recurrent.LSTMCell'> to avoid naming conflicts when loading with `tf.keras.models.load_model`. If renaming is not possible, pass the object in the `custom_objects` parameter of the load function.\n"
          ]
        },
        {
          "output_type": "stream",
          "name": "stdout",
          "text": [
            "\b\b\b\b\b\b\b\b\b\b\b\b\b\b\b\b\b\b\b\b\b\b\b\b\b\b\b\b\b\b\b\b\b\b\b\b\b\b\b\b\b\b\b\b\b\b\b\b\b\b\b\b\b\b\b\b\b\b\b\b\b\b\b\b\b\b\b\b\b\b\b\b\b\b\b\b\b\b\b\b\b\b\b\b\b\b\b\b\b\b\b\b\b\b\b\b\b\b\b\b\b\r2525/2525 [==============================] - 41s 16ms/step - loss: 2.1197 - root_mean_squared_error: 1.4559 - val_loss: 6.1363 - val_root_mean_squared_error: 2.4772\n",
            "Epoch 55/200\n",
            "2525/2525 [==============================] - 38s 15ms/step - loss: 2.1189 - root_mean_squared_error: 1.4556 - val_loss: 6.1605 - val_root_mean_squared_error: 2.4820\n",
            "Epoch 56/200\n",
            "2525/2525 [==============================] - ETA: 0s - loss: 2.1144 - root_mean_squared_error: 1.4541"
          ]
        },
        {
          "output_type": "stream",
          "name": "stderr",
          "text": [
            "WARNING:absl:Found untraced functions such as lstm_cell_4_layer_call_fn, lstm_cell_4_layer_call_and_return_conditional_losses while saving (showing 2 of 2). These functions will not be directly callable after loading.\n"
          ]
        },
        {
          "output_type": "stream",
          "name": "stdout",
          "text": [
            "INFO:tensorflow:Assets written to: model1/assets\n"
          ]
        },
        {
          "output_type": "stream",
          "name": "stderr",
          "text": [
            "INFO:tensorflow:Assets written to: model1/assets\n",
            "WARNING:absl:<keras.layers.recurrent.LSTMCell object at 0x7f68ced26110> has the same name 'LSTMCell' as a built-in Keras object. Consider renaming <class 'keras.layers.recurrent.LSTMCell'> to avoid naming conflicts when loading with `tf.keras.models.load_model`. If renaming is not possible, pass the object in the `custom_objects` parameter of the load function.\n"
          ]
        },
        {
          "output_type": "stream",
          "name": "stdout",
          "text": [
            "\b\b\b\b\b\b\b\b\b\b\b\b\b\b\b\b\b\b\b\b\b\b\b\b\b\b\b\b\b\b\b\b\b\b\b\b\b\b\b\b\b\b\b\b\b\b\b\b\b\b\b\b\b\b\b\b\b\b\b\b\b\b\b\b\b\b\b\b\b\b\b\b\b\b\b\b\b\b\b\b\b\b\b\b\b\b\b\b\b\b\b\b\b\b\b\b\b\b\b\b\b\r2525/2525 [==============================] - 41s 16ms/step - loss: 2.1144 - root_mean_squared_error: 1.4541 - val_loss: 6.1303 - val_root_mean_squared_error: 2.4759\n",
            "Epoch 57/200\n",
            "2522/2525 [============================>.] - ETA: 0s - loss: 2.1090 - root_mean_squared_error: 1.4522"
          ]
        },
        {
          "output_type": "stream",
          "name": "stderr",
          "text": [
            "WARNING:absl:Found untraced functions such as lstm_cell_4_layer_call_fn, lstm_cell_4_layer_call_and_return_conditional_losses while saving (showing 2 of 2). These functions will not be directly callable after loading.\n"
          ]
        },
        {
          "output_type": "stream",
          "name": "stdout",
          "text": [
            "INFO:tensorflow:Assets written to: model1/assets\n"
          ]
        },
        {
          "output_type": "stream",
          "name": "stderr",
          "text": [
            "INFO:tensorflow:Assets written to: model1/assets\n",
            "WARNING:absl:<keras.layers.recurrent.LSTMCell object at 0x7f68ced26110> has the same name 'LSTMCell' as a built-in Keras object. Consider renaming <class 'keras.layers.recurrent.LSTMCell'> to avoid naming conflicts when loading with `tf.keras.models.load_model`. If renaming is not possible, pass the object in the `custom_objects` parameter of the load function.\n"
          ]
        },
        {
          "output_type": "stream",
          "name": "stdout",
          "text": [
            "\b\b\b\b\b\b\b\b\b\b\b\b\b\b\b\b\b\b\b\b\b\b\b\b\b\b\b\b\b\b\b\b\b\b\b\b\b\b\b\b\b\b\b\b\b\b\b\b\b\b\b\b\b\b\b\b\b\b\b\b\b\b\b\b\b\b\b\b\b\b\b\b\b\b\b\b\b\b\b\b\b\b\b\b\b\b\b\b\b\b\b\b\b\b\b\b\b\b\b\b\b\r2525/2525 [==============================] - 41s 16ms/step - loss: 2.1086 - root_mean_squared_error: 1.4521 - val_loss: 6.1149 - val_root_mean_squared_error: 2.4728\n",
            "Epoch 58/200\n",
            "2522/2525 [============================>.] - ETA: 0s - loss: 2.1091 - root_mean_squared_error: 1.4523"
          ]
        },
        {
          "output_type": "stream",
          "name": "stderr",
          "text": [
            "WARNING:absl:Found untraced functions such as lstm_cell_4_layer_call_fn, lstm_cell_4_layer_call_and_return_conditional_losses while saving (showing 2 of 2). These functions will not be directly callable after loading.\n"
          ]
        },
        {
          "output_type": "stream",
          "name": "stdout",
          "text": [
            "INFO:tensorflow:Assets written to: model1/assets\n"
          ]
        },
        {
          "output_type": "stream",
          "name": "stderr",
          "text": [
            "INFO:tensorflow:Assets written to: model1/assets\n",
            "WARNING:absl:<keras.layers.recurrent.LSTMCell object at 0x7f68ced26110> has the same name 'LSTMCell' as a built-in Keras object. Consider renaming <class 'keras.layers.recurrent.LSTMCell'> to avoid naming conflicts when loading with `tf.keras.models.load_model`. If renaming is not possible, pass the object in the `custom_objects` parameter of the load function.\n"
          ]
        },
        {
          "output_type": "stream",
          "name": "stdout",
          "text": [
            "\b\b\b\b\b\b\b\b\b\b\b\b\b\b\b\b\b\b\b\b\b\b\b\b\b\b\b\b\b\b\b\b\b\b\b\b\b\b\b\b\b\b\b\b\b\b\b\b\b\b\b\b\b\b\b\b\b\b\b\b\b\b\b\b\b\b\b\b\b\b\b\b\b\b\b\b\b\b\b\b\b\b\b\b\b\b\b\b\b\b\b\b\b\b\b\b\b\b\b\b\b\r2525/2525 [==============================] - 41s 16ms/step - loss: 2.1092 - root_mean_squared_error: 1.4523 - val_loss: 6.0804 - val_root_mean_squared_error: 2.4659\n",
            "Epoch 59/200\n",
            "2525/2525 [==============================] - 38s 15ms/step - loss: 2.1057 - root_mean_squared_error: 1.4511 - val_loss: 6.1301 - val_root_mean_squared_error: 2.4759\n",
            "Epoch 60/200\n",
            "2525/2525 [==============================] - 37s 15ms/step - loss: 2.0970 - root_mean_squared_error: 1.4481 - val_loss: 6.2036 - val_root_mean_squared_error: 2.4907\n",
            "Epoch 61/200\n",
            "2525/2525 [==============================] - 37s 15ms/step - loss: 2.1018 - root_mean_squared_error: 1.4498 - val_loss: 6.1080 - val_root_mean_squared_error: 2.4714\n",
            "Epoch 62/200\n",
            "2525/2525 [==============================] - 37s 15ms/step - loss: 2.0991 - root_mean_squared_error: 1.4488 - val_loss: 6.1301 - val_root_mean_squared_error: 2.4759\n",
            "Epoch 63/200\n",
            "2525/2525 [==============================] - 39s 15ms/step - loss: 2.0971 - root_mean_squared_error: 1.4481 - val_loss: 6.1666 - val_root_mean_squared_error: 2.4833\n",
            "Epoch 64/200\n",
            "2525/2525 [==============================] - 37s 15ms/step - loss: 2.0960 - root_mean_squared_error: 1.4477 - val_loss: 6.2110 - val_root_mean_squared_error: 2.4922\n",
            "Epoch 65/200\n",
            "2525/2525 [==============================] - 38s 15ms/step - loss: 2.0910 - root_mean_squared_error: 1.4460 - val_loss: 6.0829 - val_root_mean_squared_error: 2.4663\n",
            "Epoch 66/200\n",
            "2524/2525 [============================>.] - ETA: 0s - loss: 2.0859 - root_mean_squared_error: 1.4443"
          ]
        },
        {
          "output_type": "stream",
          "name": "stderr",
          "text": [
            "WARNING:absl:Found untraced functions such as lstm_cell_4_layer_call_fn, lstm_cell_4_layer_call_and_return_conditional_losses while saving (showing 2 of 2). These functions will not be directly callable after loading.\n"
          ]
        },
        {
          "output_type": "stream",
          "name": "stdout",
          "text": [
            "INFO:tensorflow:Assets written to: model1/assets\n"
          ]
        },
        {
          "output_type": "stream",
          "name": "stderr",
          "text": [
            "INFO:tensorflow:Assets written to: model1/assets\n",
            "WARNING:absl:<keras.layers.recurrent.LSTMCell object at 0x7f68ced26110> has the same name 'LSTMCell' as a built-in Keras object. Consider renaming <class 'keras.layers.recurrent.LSTMCell'> to avoid naming conflicts when loading with `tf.keras.models.load_model`. If renaming is not possible, pass the object in the `custom_objects` parameter of the load function.\n"
          ]
        },
        {
          "output_type": "stream",
          "name": "stdout",
          "text": [
            "\b\b\b\b\b\b\b\b\b\b\b\b\b\b\b\b\b\b\b\b\b\b\b\b\b\b\b\b\b\b\b\b\b\b\b\b\b\b\b\b\b\b\b\b\b\b\b\b\b\b\b\b\b\b\b\b\b\b\b\b\b\b\b\b\b\b\b\b\b\b\b\b\b\b\b\b\b\b\b\b\b\b\b\b\b\b\b\b\b\b\b\b\b\b\b\b\b\b\b\b\b\r2525/2525 [==============================] - 42s 17ms/step - loss: 2.0859 - root_mean_squared_error: 1.4443 - val_loss: 6.0557 - val_root_mean_squared_error: 2.4608\n",
            "Epoch 67/200\n",
            "2524/2525 [============================>.] - ETA: 0s - loss: 2.0822 - root_mean_squared_error: 1.4430"
          ]
        },
        {
          "output_type": "stream",
          "name": "stderr",
          "text": [
            "WARNING:absl:Found untraced functions such as lstm_cell_4_layer_call_fn, lstm_cell_4_layer_call_and_return_conditional_losses while saving (showing 2 of 2). These functions will not be directly callable after loading.\n"
          ]
        },
        {
          "output_type": "stream",
          "name": "stdout",
          "text": [
            "INFO:tensorflow:Assets written to: model1/assets\n"
          ]
        },
        {
          "output_type": "stream",
          "name": "stderr",
          "text": [
            "INFO:tensorflow:Assets written to: model1/assets\n",
            "WARNING:absl:<keras.layers.recurrent.LSTMCell object at 0x7f68ced26110> has the same name 'LSTMCell' as a built-in Keras object. Consider renaming <class 'keras.layers.recurrent.LSTMCell'> to avoid naming conflicts when loading with `tf.keras.models.load_model`. If renaming is not possible, pass the object in the `custom_objects` parameter of the load function.\n"
          ]
        },
        {
          "output_type": "stream",
          "name": "stdout",
          "text": [
            "\b\b\b\b\b\b\b\b\b\b\b\b\b\b\b\b\b\b\b\b\b\b\b\b\b\b\b\b\b\b\b\b\b\b\b\b\b\b\b\b\b\b\b\b\b\b\b\b\b\b\b\b\b\b\b\b\b\b\b\b\b\b\b\b\b\b\b\b\b\b\b\b\b\b\b\b\b\b\b\b\b\b\b\b\b\b\b\b\b\b\b\b\b\b\b\b\b\b\b\b\b\r2525/2525 [==============================] - 42s 17ms/step - loss: 2.0819 - root_mean_squared_error: 1.4429 - val_loss: 5.9937 - val_root_mean_squared_error: 2.4482\n",
            "Epoch 68/200\n",
            "2525/2525 [==============================] - 37s 15ms/step - loss: 2.0814 - root_mean_squared_error: 1.4427 - val_loss: 6.1604 - val_root_mean_squared_error: 2.4820\n",
            "Epoch 69/200\n",
            "2525/2525 [==============================] - 37s 15ms/step - loss: 2.0781 - root_mean_squared_error: 1.4416 - val_loss: 6.0349 - val_root_mean_squared_error: 2.4566\n",
            "Epoch 70/200\n",
            "2525/2525 [==============================] - 37s 15ms/step - loss: 2.0755 - root_mean_squared_error: 1.4407 - val_loss: 6.0584 - val_root_mean_squared_error: 2.4614\n",
            "Epoch 71/200\n",
            "2525/2525 [==============================] - 37s 15ms/step - loss: 2.0714 - root_mean_squared_error: 1.4392 - val_loss: 6.0779 - val_root_mean_squared_error: 2.4653\n",
            "Epoch 72/200\n",
            "2525/2525 [==============================] - ETA: 0s - loss: 2.0684 - root_mean_squared_error: 1.4382"
          ]
        },
        {
          "output_type": "stream",
          "name": "stderr",
          "text": [
            "WARNING:absl:Found untraced functions such as lstm_cell_4_layer_call_fn, lstm_cell_4_layer_call_and_return_conditional_losses while saving (showing 2 of 2). These functions will not be directly callable after loading.\n"
          ]
        },
        {
          "output_type": "stream",
          "name": "stdout",
          "text": [
            "INFO:tensorflow:Assets written to: model1/assets\n"
          ]
        },
        {
          "output_type": "stream",
          "name": "stderr",
          "text": [
            "INFO:tensorflow:Assets written to: model1/assets\n",
            "WARNING:absl:<keras.layers.recurrent.LSTMCell object at 0x7f68ced26110> has the same name 'LSTMCell' as a built-in Keras object. Consider renaming <class 'keras.layers.recurrent.LSTMCell'> to avoid naming conflicts when loading with `tf.keras.models.load_model`. If renaming is not possible, pass the object in the `custom_objects` parameter of the load function.\n"
          ]
        },
        {
          "output_type": "stream",
          "name": "stdout",
          "text": [
            "\b\b\b\b\b\b\b\b\b\b\b\b\b\b\b\b\b\b\b\b\b\b\b\b\b\b\b\b\b\b\b\b\b\b\b\b\b\b\b\b\b\b\b\b\b\b\b\b\b\b\b\b\b\b\b\b\b\b\b\b\b\b\b\b\b\b\b\b\b\b\b\b\b\b\b\b\b\b\b\b\b\b\b\b\b\b\b\b\b\b\b\b\b\b\b\b\b\b\b\b\b\r2525/2525 [==============================] - 44s 17ms/step - loss: 2.0684 - root_mean_squared_error: 1.4382 - val_loss: 5.9655 - val_root_mean_squared_error: 2.4424\n",
            "Epoch 73/200\n",
            "2523/2525 [============================>.] - ETA: 0s - loss: 2.0669 - root_mean_squared_error: 1.4377"
          ]
        },
        {
          "output_type": "stream",
          "name": "stderr",
          "text": [
            "WARNING:absl:Found untraced functions such as lstm_cell_4_layer_call_fn, lstm_cell_4_layer_call_and_return_conditional_losses while saving (showing 2 of 2). These functions will not be directly callable after loading.\n"
          ]
        },
        {
          "output_type": "stream",
          "name": "stdout",
          "text": [
            "INFO:tensorflow:Assets written to: model1/assets\n"
          ]
        },
        {
          "output_type": "stream",
          "name": "stderr",
          "text": [
            "INFO:tensorflow:Assets written to: model1/assets\n",
            "WARNING:absl:<keras.layers.recurrent.LSTMCell object at 0x7f68ced26110> has the same name 'LSTMCell' as a built-in Keras object. Consider renaming <class 'keras.layers.recurrent.LSTMCell'> to avoid naming conflicts when loading with `tf.keras.models.load_model`. If renaming is not possible, pass the object in the `custom_objects` parameter of the load function.\n"
          ]
        },
        {
          "output_type": "stream",
          "name": "stdout",
          "text": [
            "\b\b\b\b\b\b\b\b\b\b\b\b\b\b\b\b\b\b\b\b\b\b\b\b\b\b\b\b\b\b\b\b\b\b\b\b\b\b\b\b\b\b\b\b\b\b\b\b\b\b\b\b\b\b\b\b\b\b\b\b\b\b\b\b\b\b\b\b\b\b\b\b\b\b\b\b\b\b\b\b\b\b\b\b\b\b\b\b\b\b\b\b\b\b\b\b\b\b\b\b\b\r2525/2525 [==============================] - 42s 17ms/step - loss: 2.0668 - root_mean_squared_error: 1.4376 - val_loss: 5.9554 - val_root_mean_squared_error: 2.4404\n",
            "Epoch 74/200\n",
            "2525/2525 [==============================] - 38s 15ms/step - loss: 2.0648 - root_mean_squared_error: 1.4369 - val_loss: 6.0013 - val_root_mean_squared_error: 2.4498\n",
            "Epoch 75/200\n",
            "2523/2525 [============================>.] - ETA: 0s - loss: 2.0643 - root_mean_squared_error: 1.4368"
          ]
        },
        {
          "output_type": "stream",
          "name": "stderr",
          "text": [
            "WARNING:absl:Found untraced functions such as lstm_cell_4_layer_call_fn, lstm_cell_4_layer_call_and_return_conditional_losses while saving (showing 2 of 2). These functions will not be directly callable after loading.\n"
          ]
        },
        {
          "output_type": "stream",
          "name": "stdout",
          "text": [
            "INFO:tensorflow:Assets written to: model1/assets\n"
          ]
        },
        {
          "output_type": "stream",
          "name": "stderr",
          "text": [
            "INFO:tensorflow:Assets written to: model1/assets\n",
            "WARNING:absl:<keras.layers.recurrent.LSTMCell object at 0x7f68ced26110> has the same name 'LSTMCell' as a built-in Keras object. Consider renaming <class 'keras.layers.recurrent.LSTMCell'> to avoid naming conflicts when loading with `tf.keras.models.load_model`. If renaming is not possible, pass the object in the `custom_objects` parameter of the load function.\n"
          ]
        },
        {
          "output_type": "stream",
          "name": "stdout",
          "text": [
            "\b\b\b\b\b\b\b\b\b\b\b\b\b\b\b\b\b\b\b\b\b\b\b\b\b\b\b\b\b\b\b\b\b\b\b\b\b\b\b\b\b\b\b\b\b\b\b\b\b\b\b\b\b\b\b\b\b\b\b\b\b\b\b\b\b\b\b\b\b\b\b\b\b\b\b\b\b\b\b\b\b\b\b\b\b\b\b\b\b\b\b\b\b\b\b\b\b\b\b\b\b\r2525/2525 [==============================] - 43s 17ms/step - loss: 2.0640 - root_mean_squared_error: 1.4367 - val_loss: 5.9493 - val_root_mean_squared_error: 2.4391\n",
            "Epoch 76/200\n",
            "2525/2525 [==============================] - 39s 15ms/step - loss: 2.0632 - root_mean_squared_error: 1.4364 - val_loss: 6.0028 - val_root_mean_squared_error: 2.4501\n",
            "Epoch 77/200\n",
            "2525/2525 [==============================] - 38s 15ms/step - loss: 2.0579 - root_mean_squared_error: 1.4345 - val_loss: 6.0700 - val_root_mean_squared_error: 2.4637\n",
            "Epoch 78/200\n",
            "2525/2525 [==============================] - 38s 15ms/step - loss: 2.0550 - root_mean_squared_error: 1.4335 - val_loss: 6.1599 - val_root_mean_squared_error: 2.4819\n",
            "Epoch 79/200\n",
            "2525/2525 [==============================] - 38s 15ms/step - loss: 2.0537 - root_mean_squared_error: 1.4331 - val_loss: 6.0218 - val_root_mean_squared_error: 2.4539\n",
            "Epoch 80/200\n",
            "2525/2525 [==============================] - 38s 15ms/step - loss: 2.0512 - root_mean_squared_error: 1.4322 - val_loss: 6.0891 - val_root_mean_squared_error: 2.4676\n",
            "Epoch 81/200\n",
            "2525/2525 [==============================] - 37s 15ms/step - loss: 2.0478 - root_mean_squared_error: 1.4310 - val_loss: 6.0057 - val_root_mean_squared_error: 2.4507\n",
            "Epoch 82/200\n",
            "2525/2525 [==============================] - 38s 15ms/step - loss: 2.0491 - root_mean_squared_error: 1.4315 - val_loss: 6.0243 - val_root_mean_squared_error: 2.4545\n",
            "Epoch 83/200\n",
            "2525/2525 [==============================] - 38s 15ms/step - loss: 2.0475 - root_mean_squared_error: 1.4309 - val_loss: 5.9820 - val_root_mean_squared_error: 2.4458\n",
            "Epoch 84/200\n",
            "2525/2525 [==============================] - 39s 16ms/step - loss: 2.0420 - root_mean_squared_error: 1.4290 - val_loss: 6.0564 - val_root_mean_squared_error: 2.4610\n",
            "Epoch 85/200\n",
            "2525/2525 [==============================] - 38s 15ms/step - loss: 2.0421 - root_mean_squared_error: 1.4290 - val_loss: 5.9857 - val_root_mean_squared_error: 2.4466\n",
            "Epoch 86/200\n",
            "2525/2525 [==============================] - ETA: 0s - loss: 2.0328 - root_mean_squared_error: 1.4258"
          ]
        },
        {
          "output_type": "stream",
          "name": "stderr",
          "text": [
            "WARNING:absl:Found untraced functions such as lstm_cell_4_layer_call_fn, lstm_cell_4_layer_call_and_return_conditional_losses while saving (showing 2 of 2). These functions will not be directly callable after loading.\n"
          ]
        },
        {
          "output_type": "stream",
          "name": "stdout",
          "text": [
            "INFO:tensorflow:Assets written to: model1/assets\n"
          ]
        },
        {
          "output_type": "stream",
          "name": "stderr",
          "text": [
            "INFO:tensorflow:Assets written to: model1/assets\n",
            "WARNING:absl:<keras.layers.recurrent.LSTMCell object at 0x7f68ced26110> has the same name 'LSTMCell' as a built-in Keras object. Consider renaming <class 'keras.layers.recurrent.LSTMCell'> to avoid naming conflicts when loading with `tf.keras.models.load_model`. If renaming is not possible, pass the object in the `custom_objects` parameter of the load function.\n"
          ]
        },
        {
          "output_type": "stream",
          "name": "stdout",
          "text": [
            "\b\b\b\b\b\b\b\b\b\b\b\b\b\b\b\b\b\b\b\b\b\b\b\b\b\b\b\b\b\b\b\b\b\b\b\b\b\b\b\b\b\b\b\b\b\b\b\b\b\b\b\b\b\b\b\b\b\b\b\b\b\b\b\b\b\b\b\b\b\b\b\b\b\b\b\b\b\b\b\b\b\b\b\b\b\b\b\b\b\b\b\b\b\b\b\b\b\b\b\b\b\r2525/2525 [==============================] - 41s 16ms/step - loss: 2.0328 - root_mean_squared_error: 1.4258 - val_loss: 5.8452 - val_root_mean_squared_error: 2.4177\n",
            "Epoch 87/200\n",
            "2525/2525 [==============================] - 37s 15ms/step - loss: 2.0435 - root_mean_squared_error: 1.4295 - val_loss: 5.8954 - val_root_mean_squared_error: 2.4281\n",
            "Epoch 88/200\n",
            "2525/2525 [==============================] - 37s 15ms/step - loss: 2.0299 - root_mean_squared_error: 1.4248 - val_loss: 6.1149 - val_root_mean_squared_error: 2.4728\n",
            "Epoch 89/200\n",
            "2525/2525 [==============================] - 39s 15ms/step - loss: 2.0308 - root_mean_squared_error: 1.4251 - val_loss: 5.8790 - val_root_mean_squared_error: 2.4247\n",
            "Epoch 90/200\n",
            "2525/2525 [==============================] - 37s 15ms/step - loss: 2.0281 - root_mean_squared_error: 1.4241 - val_loss: 6.0059 - val_root_mean_squared_error: 2.4507\n",
            "Epoch 91/200\n",
            "2525/2525 [==============================] - 37s 15ms/step - loss: 2.0293 - root_mean_squared_error: 1.4245 - val_loss: 5.9203 - val_root_mean_squared_error: 2.4332\n",
            "Epoch 92/200\n",
            "2525/2525 [==============================] - 37s 15ms/step - loss: 2.0235 - root_mean_squared_error: 1.4225 - val_loss: 5.8781 - val_root_mean_squared_error: 2.4245\n",
            "Epoch 93/200\n",
            "2525/2525 [==============================] - 39s 15ms/step - loss: 2.0207 - root_mean_squared_error: 1.4215 - val_loss: 6.0132 - val_root_mean_squared_error: 2.4522\n",
            "Epoch 94/200\n",
            "2525/2525 [==============================] - 37s 15ms/step - loss: 2.0209 - root_mean_squared_error: 1.4216 - val_loss: 5.9702 - val_root_mean_squared_error: 2.4434\n",
            "Epoch 95/200\n",
            "2525/2525 [==============================] - 37s 15ms/step - loss: 2.0178 - root_mean_squared_error: 1.4205 - val_loss: 5.8731 - val_root_mean_squared_error: 2.4234\n",
            "Epoch 96/200\n",
            "2525/2525 [==============================] - 37s 15ms/step - loss: 2.0178 - root_mean_squared_error: 1.4205 - val_loss: 5.9227 - val_root_mean_squared_error: 2.4337\n",
            "Epoch 97/200\n",
            "2525/2525 [==============================] - 39s 15ms/step - loss: 2.0119 - root_mean_squared_error: 1.4184 - val_loss: 6.0338 - val_root_mean_squared_error: 2.4564\n",
            "Epoch 98/200\n",
            "2525/2525 [==============================] - 41s 16ms/step - loss: 2.0139 - root_mean_squared_error: 1.4191 - val_loss: 5.9293 - val_root_mean_squared_error: 2.4350\n",
            "Epoch 99/200\n",
            "2525/2525 [==============================] - 37s 15ms/step - loss: 2.0072 - root_mean_squared_error: 1.4168 - val_loss: 5.9811 - val_root_mean_squared_error: 2.4456\n",
            "Epoch 100/200\n",
            "2524/2525 [============================>.] - ETA: 0s - loss: 2.0091 - root_mean_squared_error: 1.4174"
          ]
        },
        {
          "output_type": "stream",
          "name": "stderr",
          "text": [
            "WARNING:absl:Found untraced functions such as lstm_cell_4_layer_call_fn, lstm_cell_4_layer_call_and_return_conditional_losses while saving (showing 2 of 2). These functions will not be directly callable after loading.\n"
          ]
        },
        {
          "output_type": "stream",
          "name": "stdout",
          "text": [
            "INFO:tensorflow:Assets written to: model1/assets\n"
          ]
        },
        {
          "output_type": "stream",
          "name": "stderr",
          "text": [
            "INFO:tensorflow:Assets written to: model1/assets\n",
            "WARNING:absl:<keras.layers.recurrent.LSTMCell object at 0x7f68ced26110> has the same name 'LSTMCell' as a built-in Keras object. Consider renaming <class 'keras.layers.recurrent.LSTMCell'> to avoid naming conflicts when loading with `tf.keras.models.load_model`. If renaming is not possible, pass the object in the `custom_objects` parameter of the load function.\n"
          ]
        },
        {
          "output_type": "stream",
          "name": "stdout",
          "text": [
            "\b\b\b\b\b\b\b\b\b\b\b\b\b\b\b\b\b\b\b\b\b\b\b\b\b\b\b\b\b\b\b\b\b\b\b\b\b\b\b\b\b\b\b\b\b\b\b\b\b\b\b\b\b\b\b\b\b\b\b\b\b\b\b\b\b\b\b\b\b\b\b\b\b\b\b\b\b\b\b\b\b\b\b\b\b\b\b\b\b\b\b\b\b\b\b\b\b\b\b\b\b\r2525/2525 [==============================] - 42s 17ms/step - loss: 2.0089 - root_mean_squared_error: 1.4174 - val_loss: 5.8403 - val_root_mean_squared_error: 2.4167\n",
            "Epoch 101/200\n",
            "2523/2525 [============================>.] - ETA: 0s - loss: 2.0083 - root_mean_squared_error: 1.4171"
          ]
        },
        {
          "output_type": "stream",
          "name": "stderr",
          "text": [
            "WARNING:absl:Found untraced functions such as lstm_cell_4_layer_call_fn, lstm_cell_4_layer_call_and_return_conditional_losses while saving (showing 2 of 2). These functions will not be directly callable after loading.\n"
          ]
        },
        {
          "output_type": "stream",
          "name": "stdout",
          "text": [
            "INFO:tensorflow:Assets written to: model1/assets\n"
          ]
        },
        {
          "output_type": "stream",
          "name": "stderr",
          "text": [
            "INFO:tensorflow:Assets written to: model1/assets\n",
            "WARNING:absl:<keras.layers.recurrent.LSTMCell object at 0x7f68ced26110> has the same name 'LSTMCell' as a built-in Keras object. Consider renaming <class 'keras.layers.recurrent.LSTMCell'> to avoid naming conflicts when loading with `tf.keras.models.load_model`. If renaming is not possible, pass the object in the `custom_objects` parameter of the load function.\n"
          ]
        },
        {
          "output_type": "stream",
          "name": "stdout",
          "text": [
            "\b\b\b\b\b\b\b\b\b\b\b\b\b\b\b\b\b\b\b\b\b\b\b\b\b\b\b\b\b\b\b\b\b\b\b\b\b\b\b\b\b\b\b\b\b\b\b\b\b\b\b\b\b\b\b\b\b\b\b\b\b\b\b\b\b\b\b\b\b\b\b\b\b\b\b\b\b\b\b\b\b\b\b\b\b\b\b\b\b\b\b\b\b\b\b\b\b\b\b\b\b\r2525/2525 [==============================] - 45s 18ms/step - loss: 2.0080 - root_mean_squared_error: 1.4170 - val_loss: 5.8034 - val_root_mean_squared_error: 2.4090\n",
            "Epoch 102/200\n",
            "2523/2525 [============================>.] - ETA: 0s - loss: 2.0040 - root_mean_squared_error: 1.4156"
          ]
        },
        {
          "output_type": "stream",
          "name": "stderr",
          "text": [
            "WARNING:absl:Found untraced functions such as lstm_cell_4_layer_call_fn, lstm_cell_4_layer_call_and_return_conditional_losses while saving (showing 2 of 2). These functions will not be directly callable after loading.\n"
          ]
        },
        {
          "output_type": "stream",
          "name": "stdout",
          "text": [
            "INFO:tensorflow:Assets written to: model1/assets\n"
          ]
        },
        {
          "output_type": "stream",
          "name": "stderr",
          "text": [
            "INFO:tensorflow:Assets written to: model1/assets\n",
            "WARNING:absl:<keras.layers.recurrent.LSTMCell object at 0x7f68ced26110> has the same name 'LSTMCell' as a built-in Keras object. Consider renaming <class 'keras.layers.recurrent.LSTMCell'> to avoid naming conflicts when loading with `tf.keras.models.load_model`. If renaming is not possible, pass the object in the `custom_objects` parameter of the load function.\n"
          ]
        },
        {
          "output_type": "stream",
          "name": "stdout",
          "text": [
            "\b\b\b\b\b\b\b\b\b\b\b\b\b\b\b\b\b\b\b\b\b\b\b\b\b\b\b\b\b\b\b\b\b\b\b\b\b\b\b\b\b\b\b\b\b\b\b\b\b\b\b\b\b\b\b\b\b\b\b\b\b\b\b\b\b\b\b\b\b\b\b\b\b\b\b\b\b\b\b\b\b\b\b\b\b\b\b\b\b\b\b\b\b\b\b\b\b\b\b\b\b\r2525/2525 [==============================] - 42s 17ms/step - loss: 2.0043 - root_mean_squared_error: 1.4157 - val_loss: 5.7854 - val_root_mean_squared_error: 2.4053\n",
            "Epoch 103/200\n",
            "2525/2525 [==============================] - 38s 15ms/step - loss: 2.0054 - root_mean_squared_error: 1.4161 - val_loss: 6.0256 - val_root_mean_squared_error: 2.4547\n",
            "Epoch 104/200\n",
            "2525/2525 [==============================] - 38s 15ms/step - loss: 2.0021 - root_mean_squared_error: 1.4150 - val_loss: 5.9048 - val_root_mean_squared_error: 2.4300\n",
            "Epoch 105/200\n",
            "2525/2525 [==============================] - 39s 16ms/step - loss: 1.9929 - root_mean_squared_error: 1.4117 - val_loss: 5.8565 - val_root_mean_squared_error: 2.4200\n",
            "Epoch 106/200\n",
            "2525/2525 [==============================] - 38s 15ms/step - loss: 1.9964 - root_mean_squared_error: 1.4129 - val_loss: 5.8357 - val_root_mean_squared_error: 2.4157\n",
            "Epoch 107/200\n",
            "2525/2525 [==============================] - 38s 15ms/step - loss: 1.9910 - root_mean_squared_error: 1.4110 - val_loss: 5.9325 - val_root_mean_squared_error: 2.4357\n",
            "Epoch 108/200\n",
            "2525/2525 [==============================] - 38s 15ms/step - loss: 1.9915 - root_mean_squared_error: 1.4112 - val_loss: 5.9004 - val_root_mean_squared_error: 2.4291\n",
            "Epoch 109/200\n",
            "2522/2525 [============================>.] - ETA: 0s - loss: 1.9905 - root_mean_squared_error: 1.4109"
          ]
        },
        {
          "output_type": "stream",
          "name": "stderr",
          "text": [
            "WARNING:absl:Found untraced functions such as lstm_cell_4_layer_call_fn, lstm_cell_4_layer_call_and_return_conditional_losses while saving (showing 2 of 2). These functions will not be directly callable after loading.\n"
          ]
        },
        {
          "output_type": "stream",
          "name": "stdout",
          "text": [
            "INFO:tensorflow:Assets written to: model1/assets\n"
          ]
        },
        {
          "output_type": "stream",
          "name": "stderr",
          "text": [
            "INFO:tensorflow:Assets written to: model1/assets\n",
            "WARNING:absl:<keras.layers.recurrent.LSTMCell object at 0x7f68ced26110> has the same name 'LSTMCell' as a built-in Keras object. Consider renaming <class 'keras.layers.recurrent.LSTMCell'> to avoid naming conflicts when loading with `tf.keras.models.load_model`. If renaming is not possible, pass the object in the `custom_objects` parameter of the load function.\n"
          ]
        },
        {
          "output_type": "stream",
          "name": "stdout",
          "text": [
            "\b\b\b\b\b\b\b\b\b\b\b\b\b\b\b\b\b\b\b\b\b\b\b\b\b\b\b\b\b\b\b\b\b\b\b\b\b\b\b\b\b\b\b\b\b\b\b\b\b\b\b\b\b\b\b\b\b\b\b\b\b\b\b\b\b\b\b\b\b\b\b\b\b\b\b\b\b\b\b\b\b\b\b\b\b\b\b\b\b\b\b\b\b\b\b\b\b\b\b\b\b\r2525/2525 [==============================] - 44s 17ms/step - loss: 1.9901 - root_mean_squared_error: 1.4107 - val_loss: 5.7569 - val_root_mean_squared_error: 2.3994\n",
            "Epoch 110/200\n",
            "2525/2525 [==============================] - 38s 15ms/step - loss: 1.9915 - root_mean_squared_error: 1.4112 - val_loss: 5.8082 - val_root_mean_squared_error: 2.4100\n",
            "Epoch 111/200\n",
            "2525/2525 [==============================] - 38s 15ms/step - loss: 1.9837 - root_mean_squared_error: 1.4084 - val_loss: 5.8604 - val_root_mean_squared_error: 2.4208\n",
            "Epoch 112/200\n",
            "2525/2525 [==============================] - 38s 15ms/step - loss: 1.9813 - root_mean_squared_error: 1.4076 - val_loss: 5.8616 - val_root_mean_squared_error: 2.4211\n",
            "Epoch 113/200\n",
            "2525/2525 [==============================] - 38s 15ms/step - loss: 1.9827 - root_mean_squared_error: 1.4081 - val_loss: 5.8136 - val_root_mean_squared_error: 2.4111\n",
            "Epoch 114/200\n",
            "2525/2525 [==============================] - 39s 15ms/step - loss: 1.9851 - root_mean_squared_error: 1.4090 - val_loss: 5.9801 - val_root_mean_squared_error: 2.4454\n",
            "Epoch 115/200\n",
            "2525/2525 [==============================] - 38s 15ms/step - loss: 1.9770 - root_mean_squared_error: 1.4061 - val_loss: 5.8858 - val_root_mean_squared_error: 2.4261\n",
            "Epoch 116/200\n",
            "2525/2525 [==============================] - 38s 15ms/step - loss: 1.9790 - root_mean_squared_error: 1.4068 - val_loss: 5.9099 - val_root_mean_squared_error: 2.4310\n",
            "Epoch 117/200\n",
            "2525/2525 [==============================] - 38s 15ms/step - loss: 1.9767 - root_mean_squared_error: 1.4060 - val_loss: 5.8638 - val_root_mean_squared_error: 2.4215\n",
            "Epoch 118/200\n",
            "2525/2525 [==============================] - 39s 16ms/step - loss: 1.9721 - root_mean_squared_error: 1.4043 - val_loss: 5.9439 - val_root_mean_squared_error: 2.4380\n",
            "Epoch 119/200\n",
            "2525/2525 [==============================] - 38s 15ms/step - loss: 1.9683 - root_mean_squared_error: 1.4030 - val_loss: 5.7812 - val_root_mean_squared_error: 2.4044\n",
            "Epoch 120/200\n",
            "2525/2525 [==============================] - 38s 15ms/step - loss: 1.9683 - root_mean_squared_error: 1.4030 - val_loss: 5.8849 - val_root_mean_squared_error: 2.4259\n",
            "Epoch 121/200\n",
            "2525/2525 [==============================] - 38s 15ms/step - loss: 1.9680 - root_mean_squared_error: 1.4028 - val_loss: 5.7648 - val_root_mean_squared_error: 2.4010\n",
            "Epoch 122/200\n",
            "2524/2525 [============================>.] - ETA: 0s - loss: 1.9624 - root_mean_squared_error: 1.4008"
          ]
        },
        {
          "output_type": "stream",
          "name": "stderr",
          "text": [
            "WARNING:absl:Found untraced functions such as lstm_cell_4_layer_call_fn, lstm_cell_4_layer_call_and_return_conditional_losses while saving (showing 2 of 2). These functions will not be directly callable after loading.\n"
          ]
        },
        {
          "output_type": "stream",
          "name": "stdout",
          "text": [
            "INFO:tensorflow:Assets written to: model1/assets\n"
          ]
        },
        {
          "output_type": "stream",
          "name": "stderr",
          "text": [
            "INFO:tensorflow:Assets written to: model1/assets\n",
            "WARNING:absl:<keras.layers.recurrent.LSTMCell object at 0x7f68ced26110> has the same name 'LSTMCell' as a built-in Keras object. Consider renaming <class 'keras.layers.recurrent.LSTMCell'> to avoid naming conflicts when loading with `tf.keras.models.load_model`. If renaming is not possible, pass the object in the `custom_objects` parameter of the load function.\n"
          ]
        },
        {
          "output_type": "stream",
          "name": "stdout",
          "text": [
            "\b\b\b\b\b\b\b\b\b\b\b\b\b\b\b\b\b\b\b\b\b\b\b\b\b\b\b\b\b\b\b\b\b\b\b\b\b\b\b\b\b\b\b\b\b\b\b\b\b\b\b\b\b\b\b\b\b\b\b\b\b\b\b\b\b\b\b\b\b\b\b\b\b\b\b\b\b\b\b\b\b\b\b\b\b\b\b\b\b\b\b\b\b\b\b\b\b\b\b\b\b\r2525/2525 [==============================] - 43s 17ms/step - loss: 1.9621 - root_mean_squared_error: 1.4008 - val_loss: 5.7481 - val_root_mean_squared_error: 2.3975\n",
            "Epoch 123/200\n",
            "2525/2525 [==============================] - 38s 15ms/step - loss: 1.9587 - root_mean_squared_error: 1.3995 - val_loss: 5.8766 - val_root_mean_squared_error: 2.4242\n",
            "Epoch 124/200\n",
            "2525/2525 [==============================] - 38s 15ms/step - loss: 1.9610 - root_mean_squared_error: 1.4004 - val_loss: 5.9346 - val_root_mean_squared_error: 2.4361\n",
            "Epoch 125/200\n",
            "2525/2525 [==============================] - 38s 15ms/step - loss: 1.9573 - root_mean_squared_error: 1.3990 - val_loss: 5.8148 - val_root_mean_squared_error: 2.4114\n",
            "Epoch 126/200\n",
            "2525/2525 [==============================] - 38s 15ms/step - loss: 1.9569 - root_mean_squared_error: 1.3989 - val_loss: 5.8569 - val_root_mean_squared_error: 2.4201\n",
            "Epoch 127/200\n",
            "2525/2525 [==============================] - 39s 16ms/step - loss: 1.9571 - root_mean_squared_error: 1.3990 - val_loss: 5.8195 - val_root_mean_squared_error: 2.4124\n",
            "Epoch 128/200\n",
            "2525/2525 [==============================] - 38s 15ms/step - loss: 1.9558 - root_mean_squared_error: 1.3985 - val_loss: 5.8334 - val_root_mean_squared_error: 2.4152\n",
            "Epoch 129/200\n",
            "2525/2525 [==============================] - 38s 15ms/step - loss: 1.9495 - root_mean_squared_error: 1.3963 - val_loss: 5.9223 - val_root_mean_squared_error: 2.4336\n",
            "Epoch 130/200\n",
            "2525/2525 [==============================] - 38s 15ms/step - loss: 1.9484 - root_mean_squared_error: 1.3958 - val_loss: 5.8053 - val_root_mean_squared_error: 2.4094\n",
            "Epoch 131/200\n",
            "2522/2525 [============================>.] - ETA: 0s - loss: 1.9482 - root_mean_squared_error: 1.3958"
          ]
        },
        {
          "output_type": "stream",
          "name": "stderr",
          "text": [
            "WARNING:absl:Found untraced functions such as lstm_cell_4_layer_call_fn, lstm_cell_4_layer_call_and_return_conditional_losses while saving (showing 2 of 2). These functions will not be directly callable after loading.\n"
          ]
        },
        {
          "output_type": "stream",
          "name": "stdout",
          "text": [
            "INFO:tensorflow:Assets written to: model1/assets\n"
          ]
        },
        {
          "output_type": "stream",
          "name": "stderr",
          "text": [
            "INFO:tensorflow:Assets written to: model1/assets\n",
            "WARNING:absl:<keras.layers.recurrent.LSTMCell object at 0x7f68ced26110> has the same name 'LSTMCell' as a built-in Keras object. Consider renaming <class 'keras.layers.recurrent.LSTMCell'> to avoid naming conflicts when loading with `tf.keras.models.load_model`. If renaming is not possible, pass the object in the `custom_objects` parameter of the load function.\n"
          ]
        },
        {
          "output_type": "stream",
          "name": "stdout",
          "text": [
            "\b\b\b\b\b\b\b\b\b\b\b\b\b\b\b\b\b\b\b\b\b\b\b\b\b\b\b\b\b\b\b\b\b\b\b\b\b\b\b\b\b\b\b\b\b\b\b\b\b\b\b\b\b\b\b\b\b\b\b\b\b\b\b\b\b\b\b\b\b\b\b\b\b\b\b\b\b\b\b\b\b\b\b\b\b\b\b\b\b\b\b\b\b\b\b\b\b\b\b\b\b\r2525/2525 [==============================] - 43s 17ms/step - loss: 1.9471 - root_mean_squared_error: 1.3954 - val_loss: 5.6861 - val_root_mean_squared_error: 2.3846\n",
            "Epoch 132/200\n",
            "2525/2525 [==============================] - 37s 15ms/step - loss: 1.9457 - root_mean_squared_error: 1.3949 - val_loss: 5.9762 - val_root_mean_squared_error: 2.4446\n",
            "Epoch 133/200\n",
            "2525/2525 [==============================] - 37s 15ms/step - loss: 1.9423 - root_mean_squared_error: 1.3937 - val_loss: 5.9494 - val_root_mean_squared_error: 2.4391\n",
            "Epoch 134/200\n",
            "2525/2525 [==============================] - 37s 15ms/step - loss: 1.9397 - root_mean_squared_error: 1.3927 - val_loss: 5.7962 - val_root_mean_squared_error: 2.4075\n",
            "Epoch 135/200\n",
            "2525/2525 [==============================] - 39s 15ms/step - loss: 1.9332 - root_mean_squared_error: 1.3904 - val_loss: 5.7465 - val_root_mean_squared_error: 2.3972\n",
            "Epoch 136/200\n",
            "2525/2525 [==============================] - 37s 15ms/step - loss: 1.9377 - root_mean_squared_error: 1.3920 - val_loss: 5.8012 - val_root_mean_squared_error: 2.4086\n",
            "Epoch 137/200\n",
            "2522/2525 [============================>.] - ETA: 0s - loss: 1.9379 - root_mean_squared_error: 1.3921"
          ]
        },
        {
          "output_type": "stream",
          "name": "stderr",
          "text": [
            "WARNING:absl:Found untraced functions such as lstm_cell_4_layer_call_fn, lstm_cell_4_layer_call_and_return_conditional_losses while saving (showing 2 of 2). These functions will not be directly callable after loading.\n"
          ]
        },
        {
          "output_type": "stream",
          "name": "stdout",
          "text": [
            "INFO:tensorflow:Assets written to: model1/assets\n"
          ]
        },
        {
          "output_type": "stream",
          "name": "stderr",
          "text": [
            "INFO:tensorflow:Assets written to: model1/assets\n",
            "WARNING:absl:<keras.layers.recurrent.LSTMCell object at 0x7f68ced26110> has the same name 'LSTMCell' as a built-in Keras object. Consider renaming <class 'keras.layers.recurrent.LSTMCell'> to avoid naming conflicts when loading with `tf.keras.models.load_model`. If renaming is not possible, pass the object in the `custom_objects` parameter of the load function.\n"
          ]
        },
        {
          "output_type": "stream",
          "name": "stdout",
          "text": [
            "\b\b\b\b\b\b\b\b\b\b\b\b\b\b\b\b\b\b\b\b\b\b\b\b\b\b\b\b\b\b\b\b\b\b\b\b\b\b\b\b\b\b\b\b\b\b\b\b\b\b\b\b\b\b\b\b\b\b\b\b\b\b\b\b\b\b\b\b\b\b\b\b\b\b\b\b\b\b\b\b\b\b\b\b\b\b\b\b\b\b\b\b\b\b\b\b\b\b\b\b\b\r2525/2525 [==============================] - 42s 17ms/step - loss: 1.9368 - root_mean_squared_error: 1.3917 - val_loss: 5.6466 - val_root_mean_squared_error: 2.3763\n",
            "Epoch 138/200\n",
            "2525/2525 [==============================] - 37s 15ms/step - loss: 1.9359 - root_mean_squared_error: 1.3914 - val_loss: 5.7095 - val_root_mean_squared_error: 2.3895\n",
            "Epoch 139/200\n",
            "2525/2525 [==============================] - 39s 15ms/step - loss: 1.9377 - root_mean_squared_error: 1.3920 - val_loss: 5.7309 - val_root_mean_squared_error: 2.3939\n",
            "Epoch 140/200\n",
            "2525/2525 [==============================] - 37s 15ms/step - loss: 1.9316 - root_mean_squared_error: 1.3898 - val_loss: 5.8352 - val_root_mean_squared_error: 2.4156\n",
            "Epoch 141/200\n",
            "2525/2525 [==============================] - 37s 15ms/step - loss: 1.9298 - root_mean_squared_error: 1.3892 - val_loss: 5.8235 - val_root_mean_squared_error: 2.4132\n",
            "Epoch 142/200\n",
            "2525/2525 [==============================] - 37s 15ms/step - loss: 1.9282 - root_mean_squared_error: 1.3886 - val_loss: 5.8103 - val_root_mean_squared_error: 2.4105\n",
            "Epoch 143/200\n",
            "2525/2525 [==============================] - 39s 15ms/step - loss: 1.9266 - root_mean_squared_error: 1.3880 - val_loss: 5.7543 - val_root_mean_squared_error: 2.3988\n",
            "Epoch 144/200\n",
            "2525/2525 [==============================] - 37s 15ms/step - loss: 1.9225 - root_mean_squared_error: 1.3865 - val_loss: 5.9314 - val_root_mean_squared_error: 2.4355\n",
            "Epoch 145/200\n",
            "2525/2525 [==============================] - 37s 15ms/step - loss: 1.9233 - root_mean_squared_error: 1.3868 - val_loss: 5.7539 - val_root_mean_squared_error: 2.3987\n",
            "Epoch 146/200\n",
            "2525/2525 [==============================] - 38s 15ms/step - loss: 1.9206 - root_mean_squared_error: 1.3859 - val_loss: 5.9561 - val_root_mean_squared_error: 2.4405\n",
            "Epoch 147/200\n",
            "2525/2525 [==============================] - 37s 15ms/step - loss: 1.9200 - root_mean_squared_error: 1.3857 - val_loss: 5.7079 - val_root_mean_squared_error: 2.3891\n",
            "Epoch 148/200\n",
            "2525/2525 [==============================] - 39s 15ms/step - loss: 1.9200 - root_mean_squared_error: 1.3856 - val_loss: 5.9166 - val_root_mean_squared_error: 2.4324\n",
            "Epoch 149/200\n",
            "2525/2525 [==============================] - 37s 15ms/step - loss: 1.9169 - root_mean_squared_error: 1.3845 - val_loss: 5.7341 - val_root_mean_squared_error: 2.3946\n",
            "Epoch 150/200\n",
            "2525/2525 [==============================] - 37s 15ms/step - loss: 1.9139 - root_mean_squared_error: 1.3834 - val_loss: 5.7769 - val_root_mean_squared_error: 2.4035\n",
            "Epoch 151/200\n",
            "2525/2525 [==============================] - 37s 15ms/step - loss: 1.9150 - root_mean_squared_error: 1.3838 - val_loss: 5.7054 - val_root_mean_squared_error: 2.3886\n",
            "Epoch 152/200\n",
            "2525/2525 [==============================] - 39s 15ms/step - loss: 1.9072 - root_mean_squared_error: 1.3810 - val_loss: 5.7505 - val_root_mean_squared_error: 2.3980\n",
            "Epoch 153/200\n",
            "2525/2525 [==============================] - 37s 15ms/step - loss: 1.9110 - root_mean_squared_error: 1.3824 - val_loss: 5.7038 - val_root_mean_squared_error: 2.3883\n",
            "Epoch 154/200\n",
            "2525/2525 [==============================] - 37s 15ms/step - loss: 1.9059 - root_mean_squared_error: 1.3805 - val_loss: 5.8227 - val_root_mean_squared_error: 2.4130\n",
            "Epoch 155/200\n",
            "2525/2525 [==============================] - 37s 15ms/step - loss: 1.9062 - root_mean_squared_error: 1.3807 - val_loss: 5.7877 - val_root_mean_squared_error: 2.4058\n",
            "Epoch 156/200\n",
            "2525/2525 [==============================] - 37s 15ms/step - loss: 1.9069 - root_mean_squared_error: 1.3809 - val_loss: 5.7840 - val_root_mean_squared_error: 2.4050\n",
            "Epoch 157/200\n",
            "2525/2525 [==============================] - 39s 15ms/step - loss: 1.8939 - root_mean_squared_error: 1.3762 - val_loss: 5.6837 - val_root_mean_squared_error: 2.3840\n",
            "Epoch 158/200\n",
            "2525/2525 [==============================] - 37s 15ms/step - loss: 1.8975 - root_mean_squared_error: 1.3775 - val_loss: 5.7986 - val_root_mean_squared_error: 2.4080\n",
            "Epoch 159/200\n",
            "2525/2525 [==============================] - 37s 15ms/step - loss: 1.8992 - root_mean_squared_error: 1.3781 - val_loss: 5.8726 - val_root_mean_squared_error: 2.4234\n",
            "Epoch 160/200\n",
            "2525/2525 [==============================] - 37s 15ms/step - loss: 1.9028 - root_mean_squared_error: 1.3794 - val_loss: 5.7068 - val_root_mean_squared_error: 2.3889\n",
            "Epoch 161/200\n",
            "2525/2525 [==============================] - 38s 15ms/step - loss: 1.8924 - root_mean_squared_error: 1.3757 - val_loss: 5.7444 - val_root_mean_squared_error: 2.3967\n",
            "Epoch 162/200\n",
            "2525/2525 [==============================] - 37s 15ms/step - loss: 1.8911 - root_mean_squared_error: 1.3752 - val_loss: 5.8477 - val_root_mean_squared_error: 2.4182\n",
            "Epoch 163/200\n",
            "2525/2525 [==============================] - 37s 15ms/step - loss: 1.8938 - root_mean_squared_error: 1.3761 - val_loss: 5.8186 - val_root_mean_squared_error: 2.4122\n",
            "Epoch 164/200\n",
            "2525/2525 [==============================] - 38s 15ms/step - loss: 1.8904 - root_mean_squared_error: 1.3749 - val_loss: 5.7564 - val_root_mean_squared_error: 2.3993\n",
            "Epoch 165/200\n",
            "2525/2525 [==============================] - 38s 15ms/step - loss: 1.8886 - root_mean_squared_error: 1.3743 - val_loss: 5.8575 - val_root_mean_squared_error: 2.4202\n",
            "Epoch 166/200\n",
            "2525/2525 [==============================] - 39s 15ms/step - loss: 1.8883 - root_mean_squared_error: 1.3742 - val_loss: 5.8057 - val_root_mean_squared_error: 2.4095\n",
            "Epoch 167/200\n",
            "2525/2525 [==============================] - 37s 15ms/step - loss: 1.8836 - root_mean_squared_error: 1.3724 - val_loss: 5.7276 - val_root_mean_squared_error: 2.3932\n",
            "Epoch 168/200\n",
            "2525/2525 [==============================] - 38s 15ms/step - loss: 1.8813 - root_mean_squared_error: 1.3716 - val_loss: 5.9149 - val_root_mean_squared_error: 2.4321\n",
            "Epoch 169/200\n",
            "2525/2525 [==============================] - 37s 15ms/step - loss: 1.8841 - root_mean_squared_error: 1.3726 - val_loss: 5.8133 - val_root_mean_squared_error: 2.4111\n",
            "Epoch 170/200\n",
            "2525/2525 [==============================] - 39s 15ms/step - loss: 1.8787 - root_mean_squared_error: 1.3706 - val_loss: 5.7823 - val_root_mean_squared_error: 2.4046\n",
            "Epoch 171/200\n",
            "2525/2525 [==============================] - 37s 15ms/step - loss: 1.8776 - root_mean_squared_error: 1.3703 - val_loss: 5.6876 - val_root_mean_squared_error: 2.3849\n",
            "Epoch 172/200\n",
            "2525/2525 [==============================] - 38s 15ms/step - loss: 1.8773 - root_mean_squared_error: 1.3702 - val_loss: 5.7294 - val_root_mean_squared_error: 2.3936\n",
            "Epoch 173/200\n",
            "2525/2525 [==============================] - 37s 15ms/step - loss: 1.8719 - root_mean_squared_error: 1.3682 - val_loss: 5.8454 - val_root_mean_squared_error: 2.4177\n",
            "Epoch 174/200\n",
            "2525/2525 [==============================] - 39s 15ms/step - loss: 1.8725 - root_mean_squared_error: 1.3684 - val_loss: 5.7211 - val_root_mean_squared_error: 2.3919\n",
            "Epoch 175/200\n",
            "2525/2525 [==============================] - 37s 15ms/step - loss: 1.8673 - root_mean_squared_error: 1.3665 - val_loss: 5.8663 - val_root_mean_squared_error: 2.4220\n",
            "Epoch 176/200\n",
            "2525/2525 [==============================] - 38s 15ms/step - loss: 1.8679 - root_mean_squared_error: 1.3667 - val_loss: 5.6569 - val_root_mean_squared_error: 2.3784\n",
            "Epoch 177/200\n",
            "2525/2525 [==============================] - 38s 15ms/step - loss: 1.8672 - root_mean_squared_error: 1.3665 - val_loss: 5.7268 - val_root_mean_squared_error: 2.3931\n",
            "Epoch 178/200\n",
            "2525/2525 [==============================] - 37s 15ms/step - loss: 1.8635 - root_mean_squared_error: 1.3651 - val_loss: 5.7757 - val_root_mean_squared_error: 2.4033\n",
            "Epoch 179/200\n",
            "2525/2525 [==============================] - 39s 15ms/step - loss: 1.8637 - root_mean_squared_error: 1.3652 - val_loss: 5.7262 - val_root_mean_squared_error: 2.3930\n",
            "Epoch 180/200\n",
            "2525/2525 [==============================] - 38s 15ms/step - loss: 1.8592 - root_mean_squared_error: 1.3635 - val_loss: 5.7517 - val_root_mean_squared_error: 2.3983\n",
            "Epoch 181/200\n",
            "2525/2525 [==============================] - 38s 15ms/step - loss: 1.8612 - root_mean_squared_error: 1.3643 - val_loss: 5.8550 - val_root_mean_squared_error: 2.4197\n",
            "Epoch 182/200\n",
            "2525/2525 [==============================] - 38s 15ms/step - loss: 1.8544 - root_mean_squared_error: 1.3618 - val_loss: 5.7675 - val_root_mean_squared_error: 2.4016\n",
            "Epoch 183/200\n",
            "2525/2525 [==============================] - 38s 15ms/step - loss: 1.8570 - root_mean_squared_error: 1.3627 - val_loss: 5.8156 - val_root_mean_squared_error: 2.4115\n",
            "Epoch 184/200\n",
            "2525/2525 [==============================] - 39s 16ms/step - loss: 1.8537 - root_mean_squared_error: 1.3615 - val_loss: 5.6638 - val_root_mean_squared_error: 2.3799\n",
            "Epoch 185/200\n",
            "2525/2525 [==============================] - 38s 15ms/step - loss: 1.8533 - root_mean_squared_error: 1.3613 - val_loss: 5.7884 - val_root_mean_squared_error: 2.4059\n",
            "Epoch 186/200\n",
            "2525/2525 [==============================] - 38s 15ms/step - loss: 1.8494 - root_mean_squared_error: 1.3599 - val_loss: 5.7749 - val_root_mean_squared_error: 2.4031\n",
            "Epoch 187/200\n",
            "2525/2525 [==============================] - 38s 15ms/step - loss: 1.8523 - root_mean_squared_error: 1.3610 - val_loss: 5.7466 - val_root_mean_squared_error: 2.3972\n",
            "Epoch 188/200\n",
            "2525/2525 [==============================] - 40s 16ms/step - loss: 1.8423 - root_mean_squared_error: 1.3573 - val_loss: 5.7969 - val_root_mean_squared_error: 2.4077\n",
            "Epoch 189/200\n",
            "2525/2525 [==============================] - 39s 15ms/step - loss: 1.8504 - root_mean_squared_error: 1.3603 - val_loss: 5.7970 - val_root_mean_squared_error: 2.4077\n",
            "Epoch 190/200\n",
            "2525/2525 [==============================] - 38s 15ms/step - loss: 1.8433 - root_mean_squared_error: 1.3577 - val_loss: 5.8567 - val_root_mean_squared_error: 2.4201\n",
            "Epoch 191/200\n",
            "2525/2525 [==============================] - 38s 15ms/step - loss: 1.8416 - root_mean_squared_error: 1.3571 - val_loss: 5.9071 - val_root_mean_squared_error: 2.4305\n",
            "Epoch 192/200\n",
            "2525/2525 [==============================] - 38s 15ms/step - loss: 1.8398 - root_mean_squared_error: 1.3564 - val_loss: 5.7169 - val_root_mean_squared_error: 2.3910\n",
            "Epoch 193/200\n",
            "2525/2525 [==============================] - 39s 16ms/step - loss: 1.8385 - root_mean_squared_error: 1.3559 - val_loss: 5.7607 - val_root_mean_squared_error: 2.4001\n",
            "Epoch 194/200\n",
            "2525/2525 [==============================] - 38s 15ms/step - loss: 1.8338 - root_mean_squared_error: 1.3542 - val_loss: 5.7883 - val_root_mean_squared_error: 2.4059\n",
            "Epoch 195/200\n",
            "2525/2525 [==============================] - 39s 15ms/step - loss: 1.8343 - root_mean_squared_error: 1.3544 - val_loss: 5.7281 - val_root_mean_squared_error: 2.3933\n",
            "Epoch 196/200\n",
            "2525/2525 [==============================] - 38s 15ms/step - loss: 1.8305 - root_mean_squared_error: 1.3530 - val_loss: 5.6656 - val_root_mean_squared_error: 2.3803\n",
            "Epoch 197/200\n",
            "2525/2525 [==============================] - 40s 16ms/step - loss: 1.8318 - root_mean_squared_error: 1.3534 - val_loss: 5.7972 - val_root_mean_squared_error: 2.4077\n",
            "Epoch 198/200\n",
            "2525/2525 [==============================] - 40s 16ms/step - loss: 1.8327 - root_mean_squared_error: 1.3538 - val_loss: 5.8230 - val_root_mean_squared_error: 2.4131\n",
            "Epoch 199/200\n",
            "2525/2525 [==============================] - 39s 16ms/step - loss: 1.8222 - root_mean_squared_error: 1.3499 - val_loss: 5.8177 - val_root_mean_squared_error: 2.4120\n",
            "Epoch 200/200\n",
            "2525/2525 [==============================] - 39s 16ms/step - loss: 1.8302 - root_mean_squared_error: 1.3528 - val_loss: 5.6847 - val_root_mean_squared_error: 2.3843\n"
          ]
        }
      ]
    },
    {
      "cell_type": "code",
      "source": [
        "model1 = load_model('model1/')"
      ],
      "metadata": {
        "id": "G2UvXZl_N-PR"
      },
      "execution_count": null,
      "outputs": []
    },
    {
      "cell_type": "code",
      "source": [
        "train_predictions1 = model1.predict(X_train1).flatten()\n",
        "train_results1 = pd.DataFrame(data={'Train Predictions':train_predictions1, 'Actuals':y_train1})\n",
        "train_results1"
      ],
      "metadata": {
        "colab": {
          "base_uri": "https://localhost:8080/",
          "height": 424
        },
        "id": "MwXIR4jJONsM",
        "outputId": "bec68e8e-5949-478b-88bc-948b64bf407c"
      },
      "execution_count": null,
      "outputs": [
        {
          "output_type": "execute_result",
          "data": {
            "text/plain": [
              "       Train Predictions  Actuals\n",
              "0              19.321926     19.0\n",
              "1              18.470749     19.0\n",
              "2              18.168812     17.0\n",
              "3              16.517138     17.0\n",
              "4              16.467808     17.0\n",
              "...                  ...      ...\n",
              "80783          28.401165     29.0\n",
              "80784          28.785988     28.0\n",
              "80785          28.734146     29.0\n",
              "80786          31.797398     30.0\n",
              "80787          31.315880     30.0\n",
              "\n",
              "[80788 rows x 2 columns]"
            ],
            "text/html": [
              "\n",
              "  <div id=\"df-10f92d2c-328a-46da-987a-bbb7c0fa9709\">\n",
              "    <div class=\"colab-df-container\">\n",
              "      <div>\n",
              "<style scoped>\n",
              "    .dataframe tbody tr th:only-of-type {\n",
              "        vertical-align: middle;\n",
              "    }\n",
              "\n",
              "    .dataframe tbody tr th {\n",
              "        vertical-align: top;\n",
              "    }\n",
              "\n",
              "    .dataframe thead th {\n",
              "        text-align: right;\n",
              "    }\n",
              "</style>\n",
              "<table border=\"1\" class=\"dataframe\">\n",
              "  <thead>\n",
              "    <tr style=\"text-align: right;\">\n",
              "      <th></th>\n",
              "      <th>Train Predictions</th>\n",
              "      <th>Actuals</th>\n",
              "    </tr>\n",
              "  </thead>\n",
              "  <tbody>\n",
              "    <tr>\n",
              "      <th>0</th>\n",
              "      <td>19.321926</td>\n",
              "      <td>19.0</td>\n",
              "    </tr>\n",
              "    <tr>\n",
              "      <th>1</th>\n",
              "      <td>18.470749</td>\n",
              "      <td>19.0</td>\n",
              "    </tr>\n",
              "    <tr>\n",
              "      <th>2</th>\n",
              "      <td>18.168812</td>\n",
              "      <td>17.0</td>\n",
              "    </tr>\n",
              "    <tr>\n",
              "      <th>3</th>\n",
              "      <td>16.517138</td>\n",
              "      <td>17.0</td>\n",
              "    </tr>\n",
              "    <tr>\n",
              "      <th>4</th>\n",
              "      <td>16.467808</td>\n",
              "      <td>17.0</td>\n",
              "    </tr>\n",
              "    <tr>\n",
              "      <th>...</th>\n",
              "      <td>...</td>\n",
              "      <td>...</td>\n",
              "    </tr>\n",
              "    <tr>\n",
              "      <th>80783</th>\n",
              "      <td>28.401165</td>\n",
              "      <td>29.0</td>\n",
              "    </tr>\n",
              "    <tr>\n",
              "      <th>80784</th>\n",
              "      <td>28.785988</td>\n",
              "      <td>28.0</td>\n",
              "    </tr>\n",
              "    <tr>\n",
              "      <th>80785</th>\n",
              "      <td>28.734146</td>\n",
              "      <td>29.0</td>\n",
              "    </tr>\n",
              "    <tr>\n",
              "      <th>80786</th>\n",
              "      <td>31.797398</td>\n",
              "      <td>30.0</td>\n",
              "    </tr>\n",
              "    <tr>\n",
              "      <th>80787</th>\n",
              "      <td>31.315880</td>\n",
              "      <td>30.0</td>\n",
              "    </tr>\n",
              "  </tbody>\n",
              "</table>\n",
              "<p>80788 rows × 2 columns</p>\n",
              "</div>\n",
              "      <button class=\"colab-df-convert\" onclick=\"convertToInteractive('df-10f92d2c-328a-46da-987a-bbb7c0fa9709')\"\n",
              "              title=\"Convert this dataframe to an interactive table.\"\n",
              "              style=\"display:none;\">\n",
              "        \n",
              "  <svg xmlns=\"http://www.w3.org/2000/svg\" height=\"24px\"viewBox=\"0 0 24 24\"\n",
              "       width=\"24px\">\n",
              "    <path d=\"M0 0h24v24H0V0z\" fill=\"none\"/>\n",
              "    <path d=\"M18.56 5.44l.94 2.06.94-2.06 2.06-.94-2.06-.94-.94-2.06-.94 2.06-2.06.94zm-11 1L8.5 8.5l.94-2.06 2.06-.94-2.06-.94L8.5 2.5l-.94 2.06-2.06.94zm10 10l.94 2.06.94-2.06 2.06-.94-2.06-.94-.94-2.06-.94 2.06-2.06.94z\"/><path d=\"M17.41 7.96l-1.37-1.37c-.4-.4-.92-.59-1.43-.59-.52 0-1.04.2-1.43.59L10.3 9.45l-7.72 7.72c-.78.78-.78 2.05 0 2.83L4 21.41c.39.39.9.59 1.41.59.51 0 1.02-.2 1.41-.59l7.78-7.78 2.81-2.81c.8-.78.8-2.07 0-2.86zM5.41 20L4 18.59l7.72-7.72 1.47 1.35L5.41 20z\"/>\n",
              "  </svg>\n",
              "      </button>\n",
              "      \n",
              "  <style>\n",
              "    .colab-df-container {\n",
              "      display:flex;\n",
              "      flex-wrap:wrap;\n",
              "      gap: 12px;\n",
              "    }\n",
              "\n",
              "    .colab-df-convert {\n",
              "      background-color: #E8F0FE;\n",
              "      border: none;\n",
              "      border-radius: 50%;\n",
              "      cursor: pointer;\n",
              "      display: none;\n",
              "      fill: #1967D2;\n",
              "      height: 32px;\n",
              "      padding: 0 0 0 0;\n",
              "      width: 32px;\n",
              "    }\n",
              "\n",
              "    .colab-df-convert:hover {\n",
              "      background-color: #E2EBFA;\n",
              "      box-shadow: 0px 1px 2px rgba(60, 64, 67, 0.3), 0px 1px 3px 1px rgba(60, 64, 67, 0.15);\n",
              "      fill: #174EA6;\n",
              "    }\n",
              "\n",
              "    [theme=dark] .colab-df-convert {\n",
              "      background-color: #3B4455;\n",
              "      fill: #D2E3FC;\n",
              "    }\n",
              "\n",
              "    [theme=dark] .colab-df-convert:hover {\n",
              "      background-color: #434B5C;\n",
              "      box-shadow: 0px 1px 3px 1px rgba(0, 0, 0, 0.15);\n",
              "      filter: drop-shadow(0px 1px 2px rgba(0, 0, 0, 0.3));\n",
              "      fill: #FFFFFF;\n",
              "    }\n",
              "  </style>\n",
              "\n",
              "      <script>\n",
              "        const buttonEl =\n",
              "          document.querySelector('#df-10f92d2c-328a-46da-987a-bbb7c0fa9709 button.colab-df-convert');\n",
              "        buttonEl.style.display =\n",
              "          google.colab.kernel.accessAllowed ? 'block' : 'none';\n",
              "\n",
              "        async function convertToInteractive(key) {\n",
              "          const element = document.querySelector('#df-10f92d2c-328a-46da-987a-bbb7c0fa9709');\n",
              "          const dataTable =\n",
              "            await google.colab.kernel.invokeFunction('convertToInteractive',\n",
              "                                                     [key], {});\n",
              "          if (!dataTable) return;\n",
              "\n",
              "          const docLinkHtml = 'Like what you see? Visit the ' +\n",
              "            '<a target=\"_blank\" href=https://colab.research.google.com/notebooks/data_table.ipynb>data table notebook</a>'\n",
              "            + ' to learn more about interactive tables.';\n",
              "          element.innerHTML = '';\n",
              "          dataTable['output_type'] = 'display_data';\n",
              "          await google.colab.output.renderOutput(dataTable, element);\n",
              "          const docLink = document.createElement('div');\n",
              "          docLink.innerHTML = docLinkHtml;\n",
              "          element.appendChild(docLink);\n",
              "        }\n",
              "      </script>\n",
              "    </div>\n",
              "  </div>\n",
              "  "
            ]
          },
          "metadata": {},
          "execution_count": 54
        }
      ]
    },
    {
      "cell_type": "code",
      "source": [
        "plt.plot(train_results1['Train Predictions'][50:100])\n",
        "plt.plot(train_results1['Actuals'][50:100])"
      ],
      "metadata": {
        "colab": {
          "base_uri": "https://localhost:8080/",
          "height": 282
        },
        "id": "wtVNMbu6OtFu",
        "outputId": "88008a6c-d431-44c2-da4f-e08ba6de7552"
      },
      "execution_count": null,
      "outputs": [
        {
          "output_type": "execute_result",
          "data": {
            "text/plain": [
              "[<matplotlib.lines.Line2D at 0x7f68c822bbd0>]"
            ]
          },
          "metadata": {},
          "execution_count": 55
        },
        {
          "output_type": "display_data",
          "data": {
            "text/plain": [
              "<Figure size 432x288 with 1 Axes>"
            ],
            "image/png": "[encoded data removed]"
          },
          "metadata": {
            "needs_background": "light"
          }
        }
      ]
    },
    {
      "cell_type": "code",
      "source": [
        "val_predictions1 = model1.predict(X_val1).flatten()\n",
        "val_results1 = pd.DataFrame(data={'Val Predictions':val_predictions1, 'Actuals':y_val1})\n",
        "val_results1"
      ],
      "metadata": {
        "colab": {
          "base_uri": "https://localhost:8080/",
          "height": 424
        },
        "id": "GRbe0V59PPUc",
        "outputId": "abfa9a5f-a9f7-4ad9-ef2e-266f3b1d0de8"
      },
      "execution_count": null,
      "outputs": [
        {
          "output_type": "execute_result",
          "data": {
            "text/plain": [
              "       Val Predictions  Actuals\n",
              "0            28.864370     29.0\n",
              "1            28.547068     28.0\n",
              "2            27.807850     28.0\n",
              "3            27.927811     27.0\n",
              "4            27.204765     29.0\n",
              "...                ...      ...\n",
              "10093        25.305075     23.0\n",
              "10094        28.290398     28.0\n",
              "10095        36.194660     33.0\n",
              "10096        36.257832     37.0\n",
              "10097        36.426064     36.0\n",
              "\n",
              "[10098 rows x 2 columns]"
            ],
            "text/html": [
              "\n",
              "  <div id=\"df-82e5f3be-f748-4968-b583-49de433737a1\">\n",
              "    <div class=\"colab-df-container\">\n",
              "      <div>\n",
              "<style scoped>\n",
              "    .dataframe tbody tr th:only-of-type {\n",
              "        vertical-align: middle;\n",
              "    }\n",
              "\n",
              "    .dataframe tbody tr th {\n",
              "        vertical-align: top;\n",
              "    }\n",
              "\n",
              "    .dataframe thead th {\n",
              "        text-align: right;\n",
              "    }\n",
              "</style>\n",
              "<table border=\"1\" class=\"dataframe\">\n",
              "  <thead>\n",
              "    <tr style=\"text-align: right;\">\n",
              "      <th></th>\n",
              "      <th>Val Predictions</th>\n",
              "      <th>Actuals</th>\n",
              "    </tr>\n",
              "  </thead>\n",
              "  <tbody>\n",
              "    <tr>\n",
              "      <th>0</th>\n",
              "      <td>28.864370</td>\n",
              "      <td>29.0</td>\n",
              "    </tr>\n",
              "    <tr>\n",
              "      <th>1</th>\n",
              "      <td>28.547068</td>\n",
              "      <td>28.0</td>\n",
              "    </tr>\n",
              "    <tr>\n",
              "      <th>2</th>\n",
              "      <td>27.807850</td>\n",
              "      <td>28.0</td>\n",
              "    </tr>\n",
              "    <tr>\n",
              "      <th>3</th>\n",
              "      <td>27.927811</td>\n",
              "      <td>27.0</td>\n",
              "    </tr>\n",
              "    <tr>\n",
              "      <th>4</th>\n",
              "      <td>27.204765</td>\n",
              "      <td>29.0</td>\n",
              "    </tr>\n",
              "    <tr>\n",
              "      <th>...</th>\n",
              "      <td>...</td>\n",
              "      <td>...</td>\n",
              "    </tr>\n",
              "    <tr>\n",
              "      <th>10093</th>\n",
              "      <td>25.305075</td>\n",
              "      <td>23.0</td>\n",
              "    </tr>\n",
              "    <tr>\n",
              "      <th>10094</th>\n",
              "      <td>28.290398</td>\n",
              "      <td>28.0</td>\n",
              "    </tr>\n",
              "    <tr>\n",
              "      <th>10095</th>\n",
              "      <td>36.194660</td>\n",
              "      <td>33.0</td>\n",
              "    </tr>\n",
              "    <tr>\n",
              "      <th>10096</th>\n",
              "      <td>36.257832</td>\n",
              "      <td>37.0</td>\n",
              "    </tr>\n",
              "    <tr>\n",
              "      <th>10097</th>\n",
              "      <td>36.426064</td>\n",
              "      <td>36.0</td>\n",
              "    </tr>\n",
              "  </tbody>\n",
              "</table>\n",
              "<p>10098 rows × 2 columns</p>\n",
              "</div>\n",
              "      <button class=\"colab-df-convert\" onclick=\"convertToInteractive('df-82e5f3be-f748-4968-b583-49de433737a1')\"\n",
              "              title=\"Convert this dataframe to an interactive table.\"\n",
              "              style=\"display:none;\">\n",
              "        \n",
              "  <svg xmlns=\"http://www.w3.org/2000/svg\" height=\"24px\"viewBox=\"0 0 24 24\"\n",
              "       width=\"24px\">\n",
              "    <path d=\"M0 0h24v24H0V0z\" fill=\"none\"/>\n",
              "    <path d=\"M18.56 5.44l.94 2.06.94-2.06 2.06-.94-2.06-.94-.94-2.06-.94 2.06-2.06.94zm-11 1L8.5 8.5l.94-2.06 2.06-.94-2.06-.94L8.5 2.5l-.94 2.06-2.06.94zm10 10l.94 2.06.94-2.06 2.06-.94-2.06-.94-.94-2.06-.94 2.06-2.06.94z\"/><path d=\"M17.41 7.96l-1.37-1.37c-.4-.4-.92-.59-1.43-.59-.52 0-1.04.2-1.43.59L10.3 9.45l-7.72 7.72c-.78.78-.78 2.05 0 2.83L4 21.41c.39.39.9.59 1.41.59.51 0 1.02-.2 1.41-.59l7.78-7.78 2.81-2.81c.8-.78.8-2.07 0-2.86zM5.41 20L4 18.59l7.72-7.72 1.47 1.35L5.41 20z\"/>\n",
              "  </svg>\n",
              "      </button>\n",
              "      \n",
              "  <style>\n",
              "    .colab-df-container {\n",
              "      display:flex;\n",
              "      flex-wrap:wrap;\n",
              "      gap: 12px;\n",
              "    }\n",
              "\n",
              "    .colab-df-convert {\n",
              "      background-color: #E8F0FE;\n",
              "      border: none;\n",
              "      border-radius: 50%;\n",
              "      cursor: pointer;\n",
              "      display: none;\n",
              "      fill: #1967D2;\n",
              "      height: 32px;\n",
              "      padding: 0 0 0 0;\n",
              "      width: 32px;\n",
              "    }\n",
              "\n",
              "    .colab-df-convert:hover {\n",
              "      background-color: #E2EBFA;\n",
              "      box-shadow: 0px 1px 2px rgba(60, 64, 67, 0.3), 0px 1px 3px 1px rgba(60, 64, 67, 0.15);\n",
              "      fill: #174EA6;\n",
              "    }\n",
              "\n",
              "    [theme=dark] .colab-df-convert {\n",
              "      background-color: #3B4455;\n",
              "      fill: #D2E3FC;\n",
              "    }\n",
              "\n",
              "    [theme=dark] .colab-df-convert:hover {\n",
              "      background-color: #434B5C;\n",
              "      box-shadow: 0px 1px 3px 1px rgba(0, 0, 0, 0.15);\n",
              "      filter: drop-shadow(0px 1px 2px rgba(0, 0, 0, 0.3));\n",
              "      fill: #FFFFFF;\n",
              "    }\n",
              "  </style>\n",
              "\n",
              "      <script>\n",
              "        const buttonEl =\n",
              "          document.querySelector('#df-82e5f3be-f748-4968-b583-49de433737a1 button.colab-df-convert');\n",
              "        buttonEl.style.display =\n",
              "          google.colab.kernel.accessAllowed ? 'block' : 'none';\n",
              "\n",
              "        async function convertToInteractive(key) {\n",
              "          const element = document.querySelector('#df-82e5f3be-f748-4968-b583-49de433737a1');\n",
              "          const dataTable =\n",
              "            await google.colab.kernel.invokeFunction('convertToInteractive',\n",
              "                                                     [key], {});\n",
              "          if (!dataTable) return;\n",
              "\n",
              "          const docLinkHtml = 'Like what you see? Visit the ' +\n",
              "            '<a target=\"_blank\" href=https://colab.research.google.com/notebooks/data_table.ipynb>data table notebook</a>'\n",
              "            + ' to learn more about interactive tables.';\n",
              "          element.innerHTML = '';\n",
              "          dataTable['output_type'] = 'display_data';\n",
              "          await google.colab.output.renderOutput(dataTable, element);\n",
              "          const docLink = document.createElement('div');\n",
              "          docLink.innerHTML = docLinkHtml;\n",
              "          element.appendChild(docLink);\n",
              "        }\n",
              "      </script>\n",
              "    </div>\n",
              "  </div>\n",
              "  "
            ]
          },
          "metadata": {},
          "execution_count": 56
        }
      ]
    },
    {
      "cell_type": "code",
      "source": [
        "plt.plot(val_results1['Val Predictions'][:100])\n",
        "plt.plot(val_results1['Actuals'][:100])"
      ],
      "metadata": {
        "colab": {
          "base_uri": "https://localhost:8080/",
          "height": 282
        },
        "id": "2MS-3Y8nPs0E",
        "outputId": "ebe0681b-811c-431f-8589-8e409e4e349f"
      },
      "execution_count": null,
      "outputs": [
        {
          "output_type": "execute_result",
          "data": {
            "text/plain": [
              "[<matplotlib.lines.Line2D at 0x7f68cb96c990>]"
            ]
          },
          "metadata": {},
          "execution_count": 57
        },
        {
          "output_type": "display_data",
          "data": {
            "text/plain": [
              "<Figure size 432x288 with 1 Axes>"
            ],
            "image/png": "[encoded data removed]"
          },
          "metadata": {
            "needs_background": "light"
          }
        }
      ]
    },
    {
      "cell_type": "code",
      "source": [
        "test_predictions1 = model1.predict(X_test1).flatten()\n",
        "test_results1 = pd.DataFrame(data={'Test Predictions':test_predictions1, 'Actuals':y_test1})\n",
        "test_results1"
      ],
      "metadata": {
        "colab": {
          "base_uri": "https://localhost:8080/",
          "height": 424
        },
        "id": "7rNPZoHIP-3g",
        "outputId": "17f734ed-1e29-4743-e47e-0c73d1e9832a"
      },
      "execution_count": null,
      "outputs": [
        {
          "output_type": "execute_result",
          "data": {
            "text/plain": [
              "       Test Predictions  Actuals\n",
              "0             29.435549     32.0\n",
              "1             28.178562     29.0\n",
              "2             26.941267     26.0\n",
              "3             24.186752     24.0\n",
              "4             27.607990     25.0\n",
              "...                 ...      ...\n",
              "10069         35.450218     34.0\n",
              "10070         37.404396     38.0\n",
              "10071         38.460533     36.0\n",
              "10072         31.597095     32.0\n",
              "10073         29.457588     30.0\n",
              "\n",
              "[10074 rows x 2 columns]"
            ],
            "text/html": [
              "\n",
              "  <div id=\"df-dfac242c-f4f3-472d-b719-f61fc70405ce\">\n",
              "    <div class=\"colab-df-container\">\n",
              "      <div>\n",
              "<style scoped>\n",
              "    .dataframe tbody tr th:only-of-type {\n",
              "        vertical-align: middle;\n",
              "    }\n",
              "\n",
              "    .dataframe tbody tr th {\n",
              "        vertical-align: top;\n",
              "    }\n",
              "\n",
              "    .dataframe thead th {\n",
              "        text-align: right;\n",
              "    }\n",
              "</style>\n",
              "<table border=\"1\" class=\"dataframe\">\n",
              "  <thead>\n",
              "    <tr style=\"text-align: right;\">\n",
              "      <th></th>\n",
              "      <th>Test Predictions</th>\n",
              "      <th>Actuals</th>\n",
              "    </tr>\n",
              "  </thead>\n",
              "  <tbody>\n",
              "    <tr>\n",
              "      <th>0</th>\n",
              "      <td>29.435549</td>\n",
              "      <td>32.0</td>\n",
              "    </tr>\n",
              "    <tr>\n",
              "      <th>1</th>\n",
              "      <td>28.178562</td>\n",
              "      <td>29.0</td>\n",
              "    </tr>\n",
              "    <tr>\n",
              "      <th>2</th>\n",
              "      <td>26.941267</td>\n",
              "      <td>26.0</td>\n",
              "    </tr>\n",
              "    <tr>\n",
              "      <th>3</th>\n",
              "      <td>24.186752</td>\n",
              "      <td>24.0</td>\n",
              "    </tr>\n",
              "    <tr>\n",
              "      <th>4</th>\n",
              "      <td>27.607990</td>\n",
              "      <td>25.0</td>\n",
              "    </tr>\n",
              "    <tr>\n",
              "      <th>...</th>\n",
              "      <td>...</td>\n",
              "      <td>...</td>\n",
              "    </tr>\n",
              "    <tr>\n",
              "      <th>10069</th>\n",
              "      <td>35.450218</td>\n",
              "      <td>34.0</td>\n",
              "    </tr>\n",
              "    <tr>\n",
              "      <th>10070</th>\n",
              "      <td>37.404396</td>\n",
              "      <td>38.0</td>\n",
              "    </tr>\n",
              "    <tr>\n",
              "      <th>10071</th>\n",
              "      <td>38.460533</td>\n",
              "      <td>36.0</td>\n",
              "    </tr>\n",
              "    <tr>\n",
              "      <th>10072</th>\n",
              "      <td>31.597095</td>\n",
              "      <td>32.0</td>\n",
              "    </tr>\n",
              "    <tr>\n",
              "      <th>10073</th>\n",
              "      <td>29.457588</td>\n",
              "      <td>30.0</td>\n",
              "    </tr>\n",
              "  </tbody>\n",
              "</table>\n",
              "<p>10074 rows × 2 columns</p>\n",
              "</div>\n",
              "      <button class=\"colab-df-convert\" onclick=\"convertToInteractive('df-dfac242c-f4f3-472d-b719-f61fc70405ce')\"\n",
              "              title=\"Convert this dataframe to an interactive table.\"\n",
              "              style=\"display:none;\">\n",
              "        \n",
              "  <svg xmlns=\"http://www.w3.org/2000/svg\" height=\"24px\"viewBox=\"0 0 24 24\"\n",
              "       width=\"24px\">\n",
              "    <path d=\"M0 0h24v24H0V0z\" fill=\"none\"/>\n",
              "    <path d=\"M18.56 5.44l.94 2.06.94-2.06 2.06-.94-2.06-.94-.94-2.06-.94 2.06-2.06.94zm-11 1L8.5 8.5l.94-2.06 2.06-.94-2.06-.94L8.5 2.5l-.94 2.06-2.06.94zm10 10l.94 2.06.94-2.06 2.06-.94-2.06-.94-.94-2.06-.94 2.06-2.06.94z\"/><path d=\"M17.41 7.96l-1.37-1.37c-.4-.4-.92-.59-1.43-.59-.52 0-1.04.2-1.43.59L10.3 9.45l-7.72 7.72c-.78.78-.78 2.05 0 2.83L4 21.41c.39.39.9.59 1.41.59.51 0 1.02-.2 1.41-.59l7.78-7.78 2.81-2.81c.8-.78.8-2.07 0-2.86zM5.41 20L4 18.59l7.72-7.72 1.47 1.35L5.41 20z\"/>\n",
              "  </svg>\n",
              "      </button>\n",
              "      \n",
              "  <style>\n",
              "    .colab-df-container {\n",
              "      display:flex;\n",
              "      flex-wrap:wrap;\n",
              "      gap: 12px;\n",
              "    }\n",
              "\n",
              "    .colab-df-convert {\n",
              "      background-color: #E8F0FE;\n",
              "      border: none;\n",
              "      border-radius: 50%;\n",
              "      cursor: pointer;\n",
              "      display: none;\n",
              "      fill: #1967D2;\n",
              "      height: 32px;\n",
              "      padding: 0 0 0 0;\n",
              "      width: 32px;\n",
              "    }\n",
              "\n",
              "    .colab-df-convert:hover {\n",
              "      background-color: #E2EBFA;\n",
              "      box-shadow: 0px 1px 2px rgba(60, 64, 67, 0.3), 0px 1px 3px 1px rgba(60, 64, 67, 0.15);\n",
              "      fill: #174EA6;\n",
              "    }\n",
              "\n",
              "    [theme=dark] .colab-df-convert {\n",
              "      background-color: #3B4455;\n",
              "      fill: #D2E3FC;\n",
              "    }\n",
              "\n",
              "    [theme=dark] .colab-df-convert:hover {\n",
              "      background-color: #434B5C;\n",
              "      box-shadow: 0px 1px 3px 1px rgba(0, 0, 0, 0.15);\n",
              "      filter: drop-shadow(0px 1px 2px rgba(0, 0, 0, 0.3));\n",
              "      fill: #FFFFFF;\n",
              "    }\n",
              "  </style>\n",
              "\n",
              "      <script>\n",
              "        const buttonEl =\n",
              "          document.querySelector('#df-dfac242c-f4f3-472d-b719-f61fc70405ce button.colab-df-convert');\n",
              "        buttonEl.style.display =\n",
              "          google.colab.kernel.accessAllowed ? 'block' : 'none';\n",
              "\n",
              "        async function convertToInteractive(key) {\n",
              "          const element = document.querySelector('#df-dfac242c-f4f3-472d-b719-f61fc70405ce');\n",
              "          const dataTable =\n",
              "            await google.colab.kernel.invokeFunction('convertToInteractive',\n",
              "                                                     [key], {});\n",
              "          if (!dataTable) return;\n",
              "\n",
              "          const docLinkHtml = 'Like what you see? Visit the ' +\n",
              "            '<a target=\"_blank\" href=https://colab.research.google.com/notebooks/data_table.ipynb>data table notebook</a>'\n",
              "            + ' to learn more about interactive tables.';\n",
              "          element.innerHTML = '';\n",
              "          dataTable['output_type'] = 'display_data';\n",
              "          await google.colab.output.renderOutput(dataTable, element);\n",
              "          const docLink = document.createElement('div');\n",
              "          docLink.innerHTML = docLinkHtml;\n",
              "          element.appendChild(docLink);\n",
              "        }\n",
              "      </script>\n",
              "    </div>\n",
              "  </div>\n",
              "  "
            ]
          },
          "metadata": {},
          "execution_count": 58
        }
      ]
    },
    {
      "cell_type": "code",
      "source": [
        "plt.plot(test_results1['Test Predictions'][:100])\n",
        "plt.plot(test_results1['Actuals'][:100])\n"
      ],
      "metadata": {
        "colab": {
          "base_uri": "https://localhost:8080/",
          "height": 282
        },
        "id": "1RZrrpQfQYG-",
        "outputId": "4ad5dc65-16c9-4ec1-de4a-3c5bcaea6894"
      },
      "execution_count": null,
      "outputs": [
        {
          "output_type": "execute_result",
          "data": {
            "text/plain": [
              "[<matplotlib.lines.Line2D at 0x7f68c829b910>]"
            ]
          },
          "metadata": {},
          "execution_count": 59
        },
        {
          "output_type": "display_data",
          "data": {
            "text/plain": [
              "<Figure size 432x288 with 1 Axes>"
            ],
            "image/png": "[encoded data removed]"
          },
          "metadata": {
            "needs_background": "light"
          }
        }
      ]
    },
    {
      "cell_type": "code",
      "source": [
        "plt.figure(figsize=(8,5))\n",
        "plt.plot(history1.history['loss'])"
      ],
      "metadata": {
        "colab": {
          "base_uri": "https://localhost:8080/",
          "height": 338
        },
        "id": "XQR6-3Pmi8J4",
        "outputId": "44437537-94fc-4367-ff6c-20413ecd91db"
      },
      "execution_count": null,
      "outputs": [
        {
          "output_type": "execute_result",
          "data": {
            "text/plain": [
              "[<matplotlib.lines.Line2D at 0x7f68d1e3b3d0>]"
            ]
          },
          "metadata": {},
          "execution_count": 60
        },
        {
          "output_type": "display_data",
          "data": {
            "text/plain": [
              "<Figure size 576x360 with 1 Axes>"
            ],
            "image/png": "[encoded data removed]"
          },
          "metadata": {
            "needs_background": "light"
          }
        }
      ]
    },
    {
      "cell_type": "code",
      "source": [
        "plt.plot(history1.history['val_loss'])"
      ],
      "metadata": {
        "colab": {
          "base_uri": "https://localhost:8080/",
          "height": 282
        },
        "id": "kJU8Te0i6GCL",
        "outputId": "0017db64-b5f6-49aa-e427-8023857ef3a1"
      },
      "execution_count": null,
      "outputs": [
        {
          "output_type": "execute_result",
          "data": {
            "text/plain": [
              "[<matplotlib.lines.Line2D at 0x7f68d132aad0>]"
            ]
          },
          "metadata": {},
          "execution_count": 61
        },
        {
          "output_type": "display_data",
          "data": {
            "text/plain": [
              "<Figure size 432x288 with 1 Axes>"
            ],
            "image/png": "[encoded data removed]"
          },
          "metadata": {
            "needs_background": "light"
          }
        }
      ]
    },
    {
      "cell_type": "code",
      "source": [
        "def plot_predictions1(model, X, y, start=0, end=100):\n",
        "  predictions = model.predict(X).flatten()\n",
        "  df = pd.DataFrame(data={'Predictions':predictions, 'Actuals':y})\n",
        "  plt.plot(df['Predictions'][start:end])\n",
        "  plt.plot(df['Actuals'][start:end])\n",
        "  return df, mse(y, predictions)"
      ],
      "metadata": {
        "id": "kACXsXZVtR8H"
      },
      "execution_count": null,
      "outputs": []
    },
    {
      "cell_type": "code",
      "source": [
        "plot_predictions1(model1, X_test1, y_test1)"
      ],
      "metadata": {
        "colab": {
          "base_uri": "https://localhost:8080/",
          "height": 508
        },
        "id": "foHjlnEJrPa3",
        "outputId": "c6bc6d2f-c792-4351-eaf0-42093d37a41a"
      },
      "execution_count": null,
      "outputs": [
        {
          "output_type": "execute_result",
          "data": {
            "text/plain": [
              "(       Predictions  Actuals\n",
              " 0        29.435549     32.0\n",
              " 1        28.178562     29.0\n",
              " 2        26.941267     26.0\n",
              " 3        24.186752     24.0\n",
              " 4        27.607990     25.0\n",
              " ...            ...      ...\n",
              " 10069    35.450218     34.0\n",
              " 10070    37.404396     38.0\n",
              " 10071    38.460533     36.0\n",
              " 10072    31.597095     32.0\n",
              " 10073    29.457588     30.0\n",
              " \n",
              " [10074 rows x 2 columns], 3.3913358518190506)"
            ]
          },
          "metadata": {},
          "execution_count": 63
        },
        {
          "output_type": "display_data",
          "data": {
            "text/plain": [
              "<Figure size 432x288 with 1 Axes>"
            ],
            "image/png": "[encoded data removed]"
          },
          "metadata": {
            "needs_background": "light"
          }
        }
      ]
    },
    {
      "cell_type": "markdown",
      "source": [
        "# **MODEL 2 - CNN**"
      ],
      "metadata": {
        "id": "7rSu7h9KK2VH"
      }
    },
    {
      "cell_type": "code",
      "source": [
        "X_train2, y_train2 = X[:80788], y[:80788]\n",
        "X_val2, y_val2 = X[80788:90886], y[80788:90886]\n",
        "X_test2, y_test2 = X[90886:], y[90886:]\n",
        "X_train2.shape, y_train2.shape, X_val2.shape, y_val2.shape, X_test2.shape, y_test2.shape"
      ],
      "metadata": {
        "colab": {
          "base_uri": "https://localhost:8080/"
        },
        "outputId": "f53ea950-029c-4065-e922-fbb7af98bf13",
        "id": "3OT81D4WbDgK"
      },
      "execution_count": null,
      "outputs": [
        {
          "output_type": "execute_result",
          "data": {
            "text/plain": [
              "((80788, 30, 1), (80788,), (10098, 30, 1), (10098,), (10074, 30, 1), (10074,))"
            ]
          },
          "metadata": {},
          "execution_count": 64
        }
      ]
    },
    {
      "cell_type": "code",
      "source": [
        "model2 = Sequential()\n",
        "model2.add(InputLayer((30, 1)))\n",
        "model2.add(Conv1D(64, kernel_size=2))\n",
        "model2.add(Flatten())\n",
        "model2.add(Dense(32, 'relu'))\n",
        "model2.add(Dense(16, 'relu'))\n",
        "model2.add(Dense(1, 'linear'))\n",
        "\n",
        "model2.summary()"
      ],
      "metadata": {
        "colab": {
          "base_uri": "https://localhost:8080/"
        },
        "id": "E0JS9XdwnX8t",
        "outputId": "5e31bcf3-7e58-4844-b087-241f928d313f"
      },
      "execution_count": null,
      "outputs": [
        {
          "output_type": "stream",
          "name": "stdout",
          "text": [
            "Model: \"sequential_3\"\n",
            "_________________________________________________________________\n",
            " Layer (type)                Output Shape              Param #   \n",
            "=================================================================\n",
            " conv1d (Conv1D)             (None, 29, 64)            192       \n",
            "                                                                 \n",
            " flatten (Flatten)           (None, 1856)              0         \n",
            "                                                                 \n",
            " dense_10 (Dense)            (None, 32)                59424     \n",
            "                                                                 \n",
            " dense_11 (Dense)            (None, 16)                528       \n",
            "                                                                 \n",
            " dense_12 (Dense)            (None, 1)                 17        \n",
            "                                                                 \n",
            "=================================================================\n",
            "Total params: 60,161\n",
            "Trainable params: 60,161\n",
            "Non-trainable params: 0\n",
            "_________________________________________________________________\n"
          ]
        }
      ]
    },
    {
      "cell_type": "code",
      "source": [
        "chp2 = ModelCheckpoint('model2/', save_best_only=True)\n",
        "model2.compile(loss=MeanSquaredError(), optimizer=Adam(learning_rate=0.0001), metrics=[RootMeanSquaredError()])"
      ],
      "metadata": {
        "id": "zLoNlwTooK7L"
      },
      "execution_count": null,
      "outputs": []
    },
    {
      "cell_type": "code",
      "source": [
        "history2 = model2.fit(X_train2, y_train2, validation_data=(X_val2, y_val2), epochs=300, callbacks=[chp2])"
      ],
      "metadata": {
        "colab": {
          "base_uri": "https://localhost:8080/"
        },
        "id": "gYUEc9Wuovyz",
        "outputId": "c2685ce5-b466-4fa1-ffa7-b250b0fbab37"
      },
      "execution_count": null,
      "outputs": [
        {
          "output_type": "stream",
          "name": "stdout",
          "text": [
            "Epoch 1/300\n",
            "2525/2525 [==============================] - ETA: 0s - loss: 7.3934 - root_mean_squared_error: 2.7191INFO:tensorflow:Assets written to: model2/assets\n"
          ]
        },
        {
          "output_type": "stream",
          "name": "stderr",
          "text": [
            "INFO:tensorflow:Assets written to: model2/assets\n"
          ]
        },
        {
          "output_type": "stream",
          "name": "stdout",
          "text": [
            "\b\b\b\b\b\b\b\b\b\b\b\b\b\b\b\b\b\b\b\b\b\b\b\b\b\b\b\b\b\b\b\b\b\b\b\b\b\b\b\b\b\b\b\b\b\b\b\b\b\b\b\b\b\b\b\b\b\b\b\b\b\b\b\b\b\b\b\b\b\b\b\b\b\b\b\b\b\b\b\b\b\b\b\b\b\b\b\b\b\b\b\b\b\b\b\b\b\b\b\b\b\r2525/2525 [==============================] - 8s 3ms/step - loss: 7.3934 - root_mean_squared_error: 2.7191 - val_loss: 11.0039 - val_root_mean_squared_error: 3.3172\n",
            "Epoch 2/300\n",
            "2504/2525 [============================>.] - ETA: 0s - loss: 3.4362 - root_mean_squared_error: 1.8537INFO:tensorflow:Assets written to: model2/assets\n"
          ]
        },
        {
          "output_type": "stream",
          "name": "stderr",
          "text": [
            "INFO:tensorflow:Assets written to: model2/assets\n"
          ]
        },
        {
          "output_type": "stream",
          "name": "stdout",
          "text": [
            "\b\b\b\b\b\b\b\b\b\b\b\b\b\b\b\b\b\b\b\b\b\b\b\b\b\b\b\b\b\b\b\b\b\b\b\b\b\b\b\b\b\b\b\b\b\b\b\b\b\b\b\b\b\b\b\b\b\b\b\b\b\b\b\b\b\b\b\b\b\b\b\b\b\b\b\b\b\b\b\b\b\b\b\b\b\b\b\b\b\b\b\b\b\b\b\b\b\b\b\b\b\r2525/2525 [==============================] - 9s 4ms/step - loss: 3.4403 - root_mean_squared_error: 1.8548 - val_loss: 10.4095 - val_root_mean_squared_error: 3.2264\n",
            "Epoch 3/300\n",
            "2519/2525 [============================>.] - ETA: 0s - loss: 3.2905 - root_mean_squared_error: 1.8140INFO:tensorflow:Assets written to: model2/assets\n"
          ]
        },
        {
          "output_type": "stream",
          "name": "stderr",
          "text": [
            "INFO:tensorflow:Assets written to: model2/assets\n"
          ]
        },
        {
          "output_type": "stream",
          "name": "stdout",
          "text": [
            "\b\b\b\b\b\b\b\b\b\b\b\b\b\b\b\b\b\b\b\b\b\b\b\b\b\b\b\b\b\b\b\b\b\b\b\b\b\b\b\b\b\b\b\b\b\b\b\b\b\b\b\b\b\b\b\b\b\b\b\b\b\b\b\b\b\b\b\b\b\b\b\b\b\b\b\b\b\b\b\b\b\b\b\b\b\b\b\b\b\b\b\b\b\b\b\b\b\b\b\b\b\r2525/2525 [==============================] - 7s 3ms/step - loss: 3.2892 - root_mean_squared_error: 1.8136 - val_loss: 9.6264 - val_root_mean_squared_error: 3.1026\n",
            "Epoch 4/300\n",
            "2512/2525 [============================>.] - ETA: 0s - loss: 3.1109 - root_mean_squared_error: 1.7638INFO:tensorflow:Assets written to: model2/assets\n"
          ]
        },
        {
          "output_type": "stream",
          "name": "stderr",
          "text": [
            "INFO:tensorflow:Assets written to: model2/assets\n"
          ]
        },
        {
          "output_type": "stream",
          "name": "stdout",
          "text": [
            "\b\b\b\b\b\b\b\b\b\b\b\b\b\b\b\b\b\b\b\b\b\b\b\b\b\b\b\b\b\b\b\b\b\b\b\b\b\b\b\b\b\b\b\b\b\b\b\b\b\b\b\b\b\b\b\b\b\b\b\b\b\b\b\b\b\b\b\b\b\b\b\b\b\b\b\b\b\b\b\b\b\b\b\b\b\b\b\b\b\b\b\b\b\b\b\b\b\b\b\b\b\r2525/2525 [==============================] - 7s 3ms/step - loss: 3.1126 - root_mean_squared_error: 1.7643 - val_loss: 9.0324 - val_root_mean_squared_error: 3.0054\n",
            "Epoch 5/300\n",
            "2525/2525 [==============================] - 6s 3ms/step - loss: 2.9631 - root_mean_squared_error: 1.7214 - val_loss: 9.2646 - val_root_mean_squared_error: 3.0438\n",
            "Epoch 6/300\n",
            "2513/2525 [============================>.] - ETA: 0s - loss: 2.8963 - root_mean_squared_error: 1.7018INFO:tensorflow:Assets written to: model2/assets\n"
          ]
        },
        {
          "output_type": "stream",
          "name": "stderr",
          "text": [
            "INFO:tensorflow:Assets written to: model2/assets\n"
          ]
        },
        {
          "output_type": "stream",
          "name": "stdout",
          "text": [
            "\b\b\b\b\b\b\b\b\b\b\b\b\b\b\b\b\b\b\b\b\b\b\b\b\b\b\b\b\b\b\b\b\b\b\b\b\b\b\b\b\b\b\b\b\b\b\b\b\b\b\b\b\b\b\b\b\b\b\b\b\b\b\b\b\b\b\b\b\b\b\b\b\b\b\b\b\b\b\b\b\b\b\b\b\b\b\b\b\b\b\b\b\b\b\b\b\b\b\b\b\b\r2525/2525 [==============================] - 7s 3ms/step - loss: 2.9027 - root_mean_squared_error: 1.7037 - val_loss: 8.8646 - val_root_mean_squared_error: 2.9774\n",
            "Epoch 7/300\n",
            "2518/2525 [============================>.] - ETA: 0s - loss: 2.8506 - root_mean_squared_error: 1.6884INFO:tensorflow:Assets written to: model2/assets\n"
          ]
        },
        {
          "output_type": "stream",
          "name": "stderr",
          "text": [
            "INFO:tensorflow:Assets written to: model2/assets\n"
          ]
        },
        {
          "output_type": "stream",
          "name": "stdout",
          "text": [
            "\b\b\b\b\b\b\b\b\b\b\b\b\b\b\b\b\b\b\b\b\b\b\b\b\b\b\b\b\b\b\b\b\b\b\b\b\b\b\b\b\b\b\b\b\b\b\b\b\b\b\b\b\b\b\b\b\b\b\b\b\b\b\b\b\b\b\b\b\b\b\b\b\b\b\b\b\b\b\b\b\b\b\b\b\b\b\b\b\b\b\b\b\b\b\b\b\b\b\b\b\b\r2525/2525 [==============================] - 7s 3ms/step - loss: 2.8485 - root_mean_squared_error: 1.6878 - val_loss: 8.7947 - val_root_mean_squared_error: 2.9656\n",
            "Epoch 8/300\n",
            "2513/2525 [============================>.] - ETA: 0s - loss: 2.7757 - root_mean_squared_error: 1.6660INFO:tensorflow:Assets written to: model2/assets\n"
          ]
        },
        {
          "output_type": "stream",
          "name": "stderr",
          "text": [
            "INFO:tensorflow:Assets written to: model2/assets\n"
          ]
        },
        {
          "output_type": "stream",
          "name": "stdout",
          "text": [
            "\b\b\b\b\b\b\b\b\b\b\b\b\b\b\b\b\b\b\b\b\b\b\b\b\b\b\b\b\b\b\b\b\b\b\b\b\b\b\b\b\b\b\b\b\b\b\b\b\b\b\b\b\b\b\b\b\b\b\b\b\b\b\b\b\b\b\b\b\b\b\b\b\b\b\b\b\b\b\b\b\b\b\b\b\b\b\b\b\b\b\b\b\b\b\b\b\b\b\b\b\b\r2525/2525 [==============================] - 7s 3ms/step - loss: 2.7732 - root_mean_squared_error: 1.6653 - val_loss: 8.5437 - val_root_mean_squared_error: 2.9230\n",
            "Epoch 9/300\n",
            "2524/2525 [============================>.] - ETA: 0s - loss: 2.7450 - root_mean_squared_error: 1.6568INFO:tensorflow:Assets written to: model2/assets\n"
          ]
        },
        {
          "output_type": "stream",
          "name": "stderr",
          "text": [
            "INFO:tensorflow:Assets written to: model2/assets\n"
          ]
        },
        {
          "output_type": "stream",
          "name": "stdout",
          "text": [
            "\b\b\b\b\b\b\b\b\b\b\b\b\b\b\b\b\b\b\b\b\b\b\b\b\b\b\b\b\b\b\b\b\b\b\b\b\b\b\b\b\b\b\b\b\b\b\b\b\b\b\b\b\b\b\b\b\b\b\b\b\b\b\b\b\b\b\b\b\b\b\b\b\b\b\b\b\b\b\b\b\b\b\b\b\b\b\b\b\b\b\b\b\b\b\b\b\b\b\b\b\b\r2525/2525 [==============================] - 7s 3ms/step - loss: 2.7447 - root_mean_squared_error: 1.6567 - val_loss: 8.0834 - val_root_mean_squared_error: 2.8431\n",
            "Epoch 10/300\n",
            "2524/2525 [============================>.] - ETA: 0s - loss: 2.7141 - root_mean_squared_error: 1.6475INFO:tensorflow:Assets written to: model2/assets\n"
          ]
        },
        {
          "output_type": "stream",
          "name": "stderr",
          "text": [
            "INFO:tensorflow:Assets written to: model2/assets\n"
          ]
        },
        {
          "output_type": "stream",
          "name": "stdout",
          "text": [
            "\b\b\b\b\b\b\b\b\b\b\b\b\b\b\b\b\b\b\b\b\b\b\b\b\b\b\b\b\b\b\b\b\b\b\b\b\b\b\b\b\b\b\b\b\b\b\b\b\b\b\b\b\b\b\b\b\b\b\b\b\b\b\b\b\b\b\b\b\b\b\b\b\b\b\b\b\b\b\b\b\b\b\b\b\b\b\b\b\b\b\b\b\b\b\b\b\b\b\b\b\b\r2525/2525 [==============================] - 7s 3ms/step - loss: 2.7139 - root_mean_squared_error: 1.6474 - val_loss: 7.9348 - val_root_mean_squared_error: 2.8169\n",
            "Epoch 11/300\n",
            "2524/2525 [============================>.] - ETA: 0s - loss: 2.6717 - root_mean_squared_error: 1.6345INFO:tensorflow:Assets written to: model2/assets\n"
          ]
        },
        {
          "output_type": "stream",
          "name": "stderr",
          "text": [
            "INFO:tensorflow:Assets written to: model2/assets\n"
          ]
        },
        {
          "output_type": "stream",
          "name": "stdout",
          "text": [
            "\b\b\b\b\b\b\b\b\b\b\b\b\b\b\b\b\b\b\b\b\b\b\b\b\b\b\b\b\b\b\b\b\b\b\b\b\b\b\b\b\b\b\b\b\b\b\b\b\b\b\b\b\b\b\b\b\b\b\b\b\b\b\b\b\b\b\b\b\b\b\b\b\b\b\b\b\b\b\b\b\b\b\b\b\b\b\b\b\b\b\b\b\b\b\b\b\b\b\b\b\b\r2525/2525 [==============================] - 7s 3ms/step - loss: 2.6715 - root_mean_squared_error: 1.6345 - val_loss: 7.9217 - val_root_mean_squared_error: 2.8145\n",
            "Epoch 12/300\n",
            "2525/2525 [==============================] - 7s 3ms/step - loss: 2.6344 - root_mean_squared_error: 1.6231 - val_loss: 8.3225 - val_root_mean_squared_error: 2.8849\n",
            "Epoch 13/300\n",
            "2522/2525 [============================>.] - ETA: 0s - loss: 2.6114 - root_mean_squared_error: 1.6160INFO:tensorflow:Assets written to: model2/assets\n"
          ]
        },
        {
          "output_type": "stream",
          "name": "stderr",
          "text": [
            "INFO:tensorflow:Assets written to: model2/assets\n"
          ]
        },
        {
          "output_type": "stream",
          "name": "stdout",
          "text": [
            "\b\b\b\b\b\b\b\b\b\b\b\b\b\b\b\b\b\b\b\b\b\b\b\b\b\b\b\b\b\b\b\b\b\b\b\b\b\b\b\b\b\b\b\b\b\b\b\b\b\b\b\b\b\b\b\b\b\b\b\b\b\b\b\b\b\b\b\b\b\b\b\b\b\b\b\b\b\b\b\b\b\b\b\b\b\b\b\b\b\b\b\b\b\b\b\b\b\b\b\b\b\r2525/2525 [==============================] - 7s 3ms/step - loss: 2.6119 - root_mean_squared_error: 1.6162 - val_loss: 7.9136 - val_root_mean_squared_error: 2.8131\n",
            "Epoch 14/300\n",
            "2509/2525 [============================>.] - ETA: 0s - loss: 2.5754 - root_mean_squared_error: 1.6048INFO:tensorflow:Assets written to: model2/assets\n"
          ]
        },
        {
          "output_type": "stream",
          "name": "stderr",
          "text": [
            "INFO:tensorflow:Assets written to: model2/assets\n"
          ]
        },
        {
          "output_type": "stream",
          "name": "stdout",
          "text": [
            "\b\b\b\b\b\b\b\b\b\b\b\b\b\b\b\b\b\b\b\b\b\b\b\b\b\b\b\b\b\b\b\b\b\b\b\b\b\b\b\b\b\b\b\b\b\b\b\b\b\b\b\b\b\b\b\b\b\b\b\b\b\b\b\b\b\b\b\b\b\b\b\b\b\b\b\b\b\b\b\b\b\b\b\b\b\b\b\b\b\b\b\b\b\b\b\b\b\b\b\b\b\r2525/2525 [==============================] - 8s 3ms/step - loss: 2.5725 - root_mean_squared_error: 1.6039 - val_loss: 7.6400 - val_root_mean_squared_error: 2.7641\n",
            "Epoch 15/300\n",
            "2525/2525 [==============================] - 7s 3ms/step - loss: 2.5591 - root_mean_squared_error: 1.5997 - val_loss: 7.8539 - val_root_mean_squared_error: 2.8025\n",
            "Epoch 16/300\n",
            "2518/2525 [============================>.] - ETA: 0s - loss: 2.5264 - root_mean_squared_error: 1.5895INFO:tensorflow:Assets written to: model2/assets\n"
          ]
        },
        {
          "output_type": "stream",
          "name": "stderr",
          "text": [
            "INFO:tensorflow:Assets written to: model2/assets\n"
          ]
        },
        {
          "output_type": "stream",
          "name": "stdout",
          "text": [
            "\b\b\b\b\b\b\b\b\b\b\b\b\b\b\b\b\b\b\b\b\b\b\b\b\b\b\b\b\b\b\b\b\b\b\b\b\b\b\b\b\b\b\b\b\b\b\b\b\b\b\b\b\b\b\b\b\b\b\b\b\b\b\b\b\b\b\b\b\b\b\b\b\b\b\b\b\b\b\b\b\b\b\b\b\b\b\b\b\b\b\b\b\b\b\b\b\b\b\b\b\b\r2525/2525 [==============================] - 7s 3ms/step - loss: 2.5258 - root_mean_squared_error: 1.5893 - val_loss: 7.4179 - val_root_mean_squared_error: 2.7236\n",
            "Epoch 17/300\n",
            "2525/2525 [==============================] - 8s 3ms/step - loss: 2.5255 - root_mean_squared_error: 1.5892 - val_loss: 7.5224 - val_root_mean_squared_error: 2.7427\n",
            "Epoch 18/300\n",
            "2525/2525 [==============================] - 7s 3ms/step - loss: 2.5104 - root_mean_squared_error: 1.5844 - val_loss: 7.5523 - val_root_mean_squared_error: 2.7481\n",
            "Epoch 19/300\n",
            "2525/2525 [==============================] - 7s 3ms/step - loss: 2.5103 - root_mean_squared_error: 1.5844 - val_loss: 7.8505 - val_root_mean_squared_error: 2.8019\n",
            "Epoch 20/300\n",
            "2514/2525 [============================>.] - ETA: 0s - loss: 2.4770 - root_mean_squared_error: 1.5739INFO:tensorflow:Assets written to: model2/assets\n"
          ]
        },
        {
          "output_type": "stream",
          "name": "stderr",
          "text": [
            "INFO:tensorflow:Assets written to: model2/assets\n"
          ]
        },
        {
          "output_type": "stream",
          "name": "stdout",
          "text": [
            "\b\b\b\b\b\b\b\b\b\b\b\b\b\b\b\b\b\b\b\b\b\b\b\b\b\b\b\b\b\b\b\b\b\b\b\b\b\b\b\b\b\b\b\b\b\b\b\b\b\b\b\b\b\b\b\b\b\b\b\b\b\b\b\b\b\b\b\b\b\b\b\b\b\b\b\b\b\b\b\b\b\b\b\b\b\b\b\b\b\b\b\b\b\b\b\b\b\b\b\b\b\r2525/2525 [==============================] - 7s 3ms/step - loss: 2.4788 - root_mean_squared_error: 1.5744 - val_loss: 7.2985 - val_root_mean_squared_error: 2.7016\n",
            "Epoch 21/300\n",
            "2525/2525 [==============================] - 6s 3ms/step - loss: 2.4702 - root_mean_squared_error: 1.5717 - val_loss: 7.6687 - val_root_mean_squared_error: 2.7692\n",
            "Epoch 22/300\n",
            "2518/2525 [============================>.] - ETA: 0s - loss: 2.4513 - root_mean_squared_error: 1.5657INFO:tensorflow:Assets written to: model2/assets\n"
          ]
        },
        {
          "output_type": "stream",
          "name": "stderr",
          "text": [
            "INFO:tensorflow:Assets written to: model2/assets\n"
          ]
        },
        {
          "output_type": "stream",
          "name": "stdout",
          "text": [
            "\b\b\b\b\b\b\b\b\b\b\b\b\b\b\b\b\b\b\b\b\b\b\b\b\b\b\b\b\b\b\b\b\b\b\b\b\b\b\b\b\b\b\b\b\b\b\b\b\b\b\b\b\b\b\b\b\b\b\b\b\b\b\b\b\b\b\b\b\b\b\b\b\b\b\b\b\b\b\b\b\b\b\b\b\b\b\b\b\b\b\b\b\b\b\b\b\b\b\b\b\b\r2525/2525 [==============================] - 7s 3ms/step - loss: 2.4511 - root_mean_squared_error: 1.5656 - val_loss: 7.2820 - val_root_mean_squared_error: 2.6985\n",
            "Epoch 23/300\n",
            "2525/2525 [==============================] - 7s 3ms/step - loss: 2.4461 - root_mean_squared_error: 1.5640 - val_loss: 7.4174 - val_root_mean_squared_error: 2.7235\n",
            "Epoch 24/300\n",
            "2525/2525 [==============================] - 7s 3ms/step - loss: 2.4350 - root_mean_squared_error: 1.5604 - val_loss: 7.6628 - val_root_mean_squared_error: 2.7682\n",
            "Epoch 25/300\n",
            "2507/2525 [============================>.] - ETA: 0s - loss: 2.4308 - root_mean_squared_error: 1.5591INFO:tensorflow:Assets written to: model2/assets\n"
          ]
        },
        {
          "output_type": "stream",
          "name": "stderr",
          "text": [
            "INFO:tensorflow:Assets written to: model2/assets\n"
          ]
        },
        {
          "output_type": "stream",
          "name": "stdout",
          "text": [
            "\b\b\b\b\b\b\b\b\b\b\b\b\b\b\b\b\b\b\b\b\b\b\b\b\b\b\b\b\b\b\b\b\b\b\b\b\b\b\b\b\b\b\b\b\b\b\b\b\b\b\b\b\b\b\b\b\b\b\b\b\b\b\b\b\b\b\b\b\b\b\b\b\b\b\b\b\b\b\b\b\b\b\b\b\b\b\b\b\b\b\b\b\b\b\b\b\b\b\b\b\b\r2525/2525 [==============================] - 7s 3ms/step - loss: 2.4242 - root_mean_squared_error: 1.5570 - val_loss: 7.1538 - val_root_mean_squared_error: 2.6747\n",
            "Epoch 26/300\n",
            "2525/2525 [==============================] - 7s 3ms/step - loss: 2.4143 - root_mean_squared_error: 1.5538 - val_loss: 7.1797 - val_root_mean_squared_error: 2.6795\n",
            "Epoch 27/300\n",
            "2525/2525 [==============================] - 7s 3ms/step - loss: 2.4039 - root_mean_squared_error: 1.5504 - val_loss: 7.4555 - val_root_mean_squared_error: 2.7305\n",
            "Epoch 28/300\n",
            "2525/2525 [==============================] - 7s 3ms/step - loss: 2.4029 - root_mean_squared_error: 1.5501 - val_loss: 7.3851 - val_root_mean_squared_error: 2.7176\n",
            "Epoch 29/300\n",
            "2525/2525 [==============================] - 8s 3ms/step - loss: 2.3842 - root_mean_squared_error: 1.5441 - val_loss: 7.4416 - val_root_mean_squared_error: 2.7279\n",
            "Epoch 30/300\n",
            "2525/2525 [==============================] - 7s 3ms/step - loss: 2.3728 - root_mean_squared_error: 1.5404 - val_loss: 7.2754 - val_root_mean_squared_error: 2.6973\n",
            "Epoch 31/300\n",
            "2525/2525 [==============================] - 7s 3ms/step - loss: 2.3721 - root_mean_squared_error: 1.5402 - val_loss: 7.1545 - val_root_mean_squared_error: 2.6748\n",
            "Epoch 32/300\n",
            "2520/2525 [============================>.] - ETA: 0s - loss: 2.3589 - root_mean_squared_error: 1.5359INFO:tensorflow:Assets written to: model2/assets\n"
          ]
        },
        {
          "output_type": "stream",
          "name": "stderr",
          "text": [
            "INFO:tensorflow:Assets written to: model2/assets\n"
          ]
        },
        {
          "output_type": "stream",
          "name": "stdout",
          "text": [
            "\b\b\b\b\b\b\b\b\b\b\b\b\b\b\b\b\b\b\b\b\b\b\b\b\b\b\b\b\b\b\b\b\b\b\b\b\b\b\b\b\b\b\b\b\b\b\b\b\b\b\b\b\b\b\b\b\b\b\b\b\b\b\b\b\b\b\b\b\b\b\b\b\b\b\b\b\b\b\b\b\b\b\b\b\b\b\b\b\b\b\b\b\b\b\b\b\b\b\b\b\b\r2525/2525 [==============================] - 7s 3ms/step - loss: 2.3571 - root_mean_squared_error: 1.5353 - val_loss: 6.9878 - val_root_mean_squared_error: 2.6434\n",
            "Epoch 33/300\n",
            "2525/2525 [==============================] - 6s 2ms/step - loss: 2.3536 - root_mean_squared_error: 1.5341 - val_loss: 7.1381 - val_root_mean_squared_error: 2.6717\n",
            "Epoch 34/300\n",
            "2525/2525 [==============================] - 7s 3ms/step - loss: 2.3383 - root_mean_squared_error: 1.5292 - val_loss: 7.0668 - val_root_mean_squared_error: 2.6583\n",
            "Epoch 35/300\n",
            "2525/2525 [==============================] - 7s 3ms/step - loss: 2.3324 - root_mean_squared_error: 1.5272 - val_loss: 7.0995 - val_root_mean_squared_error: 2.6645\n",
            "Epoch 36/300\n",
            "2518/2525 [============================>.] - ETA: 0s - loss: 2.3323 - root_mean_squared_error: 1.5272INFO:tensorflow:Assets written to: model2/assets\n"
          ]
        },
        {
          "output_type": "stream",
          "name": "stderr",
          "text": [
            "INFO:tensorflow:Assets written to: model2/assets\n"
          ]
        },
        {
          "output_type": "stream",
          "name": "stdout",
          "text": [
            "\b\b\b\b\b\b\b\b\b\b\b\b\b\b\b\b\b\b\b\b\b\b\b\b\b\b\b\b\b\b\b\b\b\b\b\b\b\b\b\b\b\b\b\b\b\b\b\b\b\b\b\b\b\b\b\b\b\b\b\b\b\b\b\b\b\b\b\b\b\b\b\b\b\b\b\b\b\b\b\b\b\b\b\b\b\b\b\b\b\b\b\b\b\b\b\b\b\b\b\b\b\r2525/2525 [==============================] - 7s 3ms/step - loss: 2.3308 - root_mean_squared_error: 1.5267 - val_loss: 6.9386 - val_root_mean_squared_error: 2.6341\n",
            "Epoch 37/300\n",
            "2525/2525 [==============================] - 6s 3ms/step - loss: 2.3328 - root_mean_squared_error: 1.5274 - val_loss: 7.0761 - val_root_mean_squared_error: 2.6601\n",
            "Epoch 38/300\n",
            "2525/2525 [==============================] - 7s 3ms/step - loss: 2.3200 - root_mean_squared_error: 1.5231 - val_loss: 7.5578 - val_root_mean_squared_error: 2.7491\n",
            "Epoch 39/300\n",
            "2525/2525 [==============================] - 6s 3ms/step - loss: 2.3163 - root_mean_squared_error: 1.5219 - val_loss: 7.1407 - val_root_mean_squared_error: 2.6722\n",
            "Epoch 40/300\n",
            "2525/2525 [==============================] - 7s 3ms/step - loss: 2.3129 - root_mean_squared_error: 1.5208 - val_loss: 7.3224 - val_root_mean_squared_error: 2.7060\n",
            "Epoch 41/300\n",
            "2525/2525 [==============================] - 6s 3ms/step - loss: 2.3158 - root_mean_squared_error: 1.5218 - val_loss: 7.1983 - val_root_mean_squared_error: 2.6830\n",
            "Epoch 42/300\n",
            "2525/2525 [==============================] - 6s 3ms/step - loss: 2.3073 - root_mean_squared_error: 1.5190 - val_loss: 7.2886 - val_root_mean_squared_error: 2.6997\n",
            "Epoch 43/300\n",
            "2525/2525 [==============================] - 6s 3ms/step - loss: 2.2944 - root_mean_squared_error: 1.5147 - val_loss: 7.4125 - val_root_mean_squared_error: 2.7226\n",
            "Epoch 44/300\n",
            "2525/2525 [==============================] - 6s 3ms/step - loss: 2.3021 - root_mean_squared_error: 1.5173 - val_loss: 7.3374 - val_root_mean_squared_error: 2.7088\n",
            "Epoch 45/300\n",
            "2525/2525 [==============================] - 7s 3ms/step - loss: 2.2906 - root_mean_squared_error: 1.5135 - val_loss: 7.4083 - val_root_mean_squared_error: 2.7218\n",
            "Epoch 46/300\n",
            "2525/2525 [==============================] - 7s 3ms/step - loss: 2.2905 - root_mean_squared_error: 1.5134 - val_loss: 7.2774 - val_root_mean_squared_error: 2.6977\n",
            "Epoch 47/300\n",
            "2525/2525 [==============================] - 6s 3ms/step - loss: 2.2868 - root_mean_squared_error: 1.5122 - val_loss: 7.4632 - val_root_mean_squared_error: 2.7319\n",
            "Epoch 48/300\n",
            "2525/2525 [==============================] - 7s 3ms/step - loss: 2.2804 - root_mean_squared_error: 1.5101 - val_loss: 7.1832 - val_root_mean_squared_error: 2.6801\n",
            "Epoch 49/300\n",
            "2525/2525 [==============================] - 7s 3ms/step - loss: 2.2773 - root_mean_squared_error: 1.5091 - val_loss: 7.2783 - val_root_mean_squared_error: 2.6978\n",
            "Epoch 50/300\n",
            "2525/2525 [==============================] - 7s 3ms/step - loss: 2.2738 - root_mean_squared_error: 1.5079 - val_loss: 7.1897 - val_root_mean_squared_error: 2.6814\n",
            "Epoch 51/300\n",
            "2525/2525 [==============================] - 7s 3ms/step - loss: 2.2742 - root_mean_squared_error: 1.5080 - val_loss: 7.2258 - val_root_mean_squared_error: 2.6881\n",
            "Epoch 52/300\n",
            "2525/2525 [==============================] - 7s 3ms/step - loss: 2.2773 - root_mean_squared_error: 1.5091 - val_loss: 7.1934 - val_root_mean_squared_error: 2.6821\n",
            "Epoch 53/300\n",
            "2525/2525 [==============================] - 6s 3ms/step - loss: 2.2682 - root_mean_squared_error: 1.5061 - val_loss: 7.2839 - val_root_mean_squared_error: 2.6989\n",
            "Epoch 54/300\n",
            "2525/2525 [==============================] - 7s 3ms/step - loss: 2.2627 - root_mean_squared_error: 1.5042 - val_loss: 7.3273 - val_root_mean_squared_error: 2.7069\n",
            "Epoch 55/300\n",
            "2525/2525 [==============================] - 7s 3ms/step - loss: 2.2614 - root_mean_squared_error: 1.5038 - val_loss: 7.1880 - val_root_mean_squared_error: 2.6810\n",
            "Epoch 56/300\n",
            "2525/2525 [==============================] - 8s 3ms/step - loss: 2.2557 - root_mean_squared_error: 1.5019 - val_loss: 7.0395 - val_root_mean_squared_error: 2.6532\n",
            "Epoch 57/300\n",
            "2525/2525 [==============================] - 7s 3ms/step - loss: 2.2599 - root_mean_squared_error: 1.5033 - val_loss: 7.2391 - val_root_mean_squared_error: 2.6906\n",
            "Epoch 58/300\n",
            "2525/2525 [==============================] - 7s 3ms/step - loss: 2.2537 - root_mean_squared_error: 1.5012 - val_loss: 7.3818 - val_root_mean_squared_error: 2.7169\n",
            "Epoch 59/300\n",
            "2525/2525 [==============================] - 7s 3ms/step - loss: 2.2630 - root_mean_squared_error: 1.5043 - val_loss: 7.2519 - val_root_mean_squared_error: 2.6929\n",
            "Epoch 60/300\n",
            "2525/2525 [==============================] - 7s 3ms/step - loss: 2.2514 - root_mean_squared_error: 1.5005 - val_loss: 7.1875 - val_root_mean_squared_error: 2.6810\n",
            "Epoch 61/300\n",
            "2525/2525 [==============================] - 7s 3ms/step - loss: 2.2464 - root_mean_squared_error: 1.4988 - val_loss: 7.3918 - val_root_mean_squared_error: 2.7188\n",
            "Epoch 62/300\n",
            "2525/2525 [==============================] - 6s 3ms/step - loss: 2.2457 - root_mean_squared_error: 1.4986 - val_loss: 7.1614 - val_root_mean_squared_error: 2.6761\n",
            "Epoch 63/300\n",
            "2525/2525 [==============================] - 7s 3ms/step - loss: 2.2447 - root_mean_squared_error: 1.4982 - val_loss: 7.0941 - val_root_mean_squared_error: 2.6635\n",
            "Epoch 64/300\n",
            "2525/2525 [==============================] - 7s 3ms/step - loss: 2.2492 - root_mean_squared_error: 1.4997 - val_loss: 7.3077 - val_root_mean_squared_error: 2.7033\n",
            "Epoch 65/300\n",
            "2525/2525 [==============================] - 7s 3ms/step - loss: 2.2376 - root_mean_squared_error: 1.4959 - val_loss: 7.0813 - val_root_mean_squared_error: 2.6611\n",
            "Epoch 66/300\n",
            "2525/2525 [==============================] - 7s 3ms/step - loss: 2.2343 - root_mean_squared_error: 1.4947 - val_loss: 7.1598 - val_root_mean_squared_error: 2.6758\n",
            "Epoch 67/300\n",
            "2525/2525 [==============================] - 6s 3ms/step - loss: 2.2304 - root_mean_squared_error: 1.4935 - val_loss: 7.2131 - val_root_mean_squared_error: 2.6857\n",
            "Epoch 68/300\n",
            "2525/2525 [==============================] - 6s 3ms/step - loss: 2.2315 - root_mean_squared_error: 1.4938 - val_loss: 7.4624 - val_root_mean_squared_error: 2.7317\n",
            "Epoch 69/300\n",
            "2525/2525 [==============================] - 7s 3ms/step - loss: 2.2315 - root_mean_squared_error: 1.4938 - val_loss: 7.1905 - val_root_mean_squared_error: 2.6815\n",
            "Epoch 70/300\n",
            "2525/2525 [==============================] - 7s 3ms/step - loss: 2.2227 - root_mean_squared_error: 1.4909 - val_loss: 7.5752 - val_root_mean_squared_error: 2.7523\n",
            "Epoch 71/300\n",
            "2525/2525 [==============================] - 7s 3ms/step - loss: 2.2230 - root_mean_squared_error: 1.4910 - val_loss: 7.1906 - val_root_mean_squared_error: 2.6815\n",
            "Epoch 72/300\n",
            "2525/2525 [==============================] - 7s 3ms/step - loss: 2.2221 - root_mean_squared_error: 1.4907 - val_loss: 7.0379 - val_root_mean_squared_error: 2.6529\n",
            "Epoch 73/300\n",
            "2525/2525 [==============================] - 6s 3ms/step - loss: 2.2253 - root_mean_squared_error: 1.4917 - val_loss: 7.2304 - val_root_mean_squared_error: 2.6889\n",
            "Epoch 74/300\n",
            "2525/2525 [==============================] - 6s 3ms/step - loss: 2.2202 - root_mean_squared_error: 1.4900 - val_loss: 6.9636 - val_root_mean_squared_error: 2.6389\n",
            "Epoch 75/300\n",
            "2525/2525 [==============================] - 7s 3ms/step - loss: 2.2174 - root_mean_squared_error: 1.4891 - val_loss: 7.3086 - val_root_mean_squared_error: 2.7034\n",
            "Epoch 76/300\n",
            "2525/2525 [==============================] - 7s 3ms/step - loss: 2.2145 - root_mean_squared_error: 1.4881 - val_loss: 6.9787 - val_root_mean_squared_error: 2.6417\n",
            "Epoch 77/300\n",
            "2525/2525 [==============================] - 7s 3ms/step - loss: 2.2152 - root_mean_squared_error: 1.4883 - val_loss: 7.2742 - val_root_mean_squared_error: 2.6971\n",
            "Epoch 78/300\n",
            "2516/2525 [============================>.] - ETA: 0s - loss: 2.2087 - root_mean_squared_error: 1.4862INFO:tensorflow:Assets written to: model2/assets\n"
          ]
        },
        {
          "output_type": "stream",
          "name": "stderr",
          "text": [
            "INFO:tensorflow:Assets written to: model2/assets\n"
          ]
        },
        {
          "output_type": "stream",
          "name": "stdout",
          "text": [
            "\b\b\b\b\b\b\b\b\b\b\b\b\b\b\b\b\b\b\b\b\b\b\b\b\b\b\b\b\b\b\b\b\b\b\b\b\b\b\b\b\b\b\b\b\b\b\b\b\b\b\b\b\b\b\b\b\b\b\b\b\b\b\b\b\b\b\b\b\b\b\b\b\b\b\b\b\b\b\b\b\b\b\b\b\b\b\b\b\b\b\b\b\b\b\b\b\b\b\b\b\b\r2525/2525 [==============================] - 7s 3ms/step - loss: 2.2095 - root_mean_squared_error: 1.4865 - val_loss: 6.9190 - val_root_mean_squared_error: 2.6304\n",
            "Epoch 79/300\n",
            "2525/2525 [==============================] - 7s 3ms/step - loss: 2.2083 - root_mean_squared_error: 1.4860 - val_loss: 7.1383 - val_root_mean_squared_error: 2.6718\n",
            "Epoch 80/300\n",
            "2525/2525 [==============================] - 6s 3ms/step - loss: 2.2016 - root_mean_squared_error: 1.4838 - val_loss: 7.0022 - val_root_mean_squared_error: 2.6462\n",
            "Epoch 81/300\n",
            "2525/2525 [==============================] - 7s 3ms/step - loss: 2.2033 - root_mean_squared_error: 1.4843 - val_loss: 6.9482 - val_root_mean_squared_error: 2.6359\n",
            "Epoch 82/300\n",
            "2525/2525 [==============================] - 7s 3ms/step - loss: 2.2015 - root_mean_squared_error: 1.4838 - val_loss: 7.0359 - val_root_mean_squared_error: 2.6525\n",
            "Epoch 83/300\n",
            "2525/2525 [==============================] - 6s 3ms/step - loss: 2.2005 - root_mean_squared_error: 1.4834 - val_loss: 6.9268 - val_root_mean_squared_error: 2.6319\n",
            "Epoch 84/300\n",
            "2525/2525 [==============================] - 6s 3ms/step - loss: 2.1963 - root_mean_squared_error: 1.4820 - val_loss: 7.2086 - val_root_mean_squared_error: 2.6849\n",
            "Epoch 85/300\n",
            "2525/2525 [==============================] - 7s 3ms/step - loss: 2.1992 - root_mean_squared_error: 1.4830 - val_loss: 7.2567 - val_root_mean_squared_error: 2.6938\n",
            "Epoch 86/300\n",
            "2525/2525 [==============================] - 7s 3ms/step - loss: 2.1935 - root_mean_squared_error: 1.4811 - val_loss: 7.1798 - val_root_mean_squared_error: 2.6795\n",
            "Epoch 87/300\n",
            "2525/2525 [==============================] - 8s 3ms/step - loss: 2.1898 - root_mean_squared_error: 1.4798 - val_loss: 7.2479 - val_root_mean_squared_error: 2.6922\n",
            "Epoch 88/300\n",
            "2525/2525 [==============================] - 6s 3ms/step - loss: 2.1853 - root_mean_squared_error: 1.4783 - val_loss: 7.0660 - val_root_mean_squared_error: 2.6582\n",
            "Epoch 89/300\n",
            "2525/2525 [==============================] - 7s 3ms/step - loss: 2.1917 - root_mean_squared_error: 1.4805 - val_loss: 7.0603 - val_root_mean_squared_error: 2.6571\n",
            "Epoch 90/300\n",
            "2525/2525 [==============================] - 6s 3ms/step - loss: 2.1850 - root_mean_squared_error: 1.4782 - val_loss: 7.3163 - val_root_mean_squared_error: 2.7049\n",
            "Epoch 91/300\n",
            "2525/2525 [==============================] - 6s 3ms/step - loss: 2.1893 - root_mean_squared_error: 1.4796 - val_loss: 7.1669 - val_root_mean_squared_error: 2.6771\n",
            "Epoch 92/300\n",
            "2525/2525 [==============================] - 7s 3ms/step - loss: 2.1850 - root_mean_squared_error: 1.4782 - val_loss: 7.0452 - val_root_mean_squared_error: 2.6543\n",
            "Epoch 93/300\n",
            "2525/2525 [==============================] - 7s 3ms/step - loss: 2.1797 - root_mean_squared_error: 1.4764 - val_loss: 7.1368 - val_root_mean_squared_error: 2.6715\n",
            "Epoch 94/300\n",
            "2525/2525 [==============================] - 6s 3ms/step - loss: 2.1755 - root_mean_squared_error: 1.4750 - val_loss: 6.9265 - val_root_mean_squared_error: 2.6318\n",
            "Epoch 95/300\n",
            "2525/2525 [==============================] - 6s 3ms/step - loss: 2.1806 - root_mean_squared_error: 1.4767 - val_loss: 7.1931 - val_root_mean_squared_error: 2.6820\n",
            "Epoch 96/300\n",
            "2525/2525 [==============================] - 7s 3ms/step - loss: 2.1783 - root_mean_squared_error: 1.4759 - val_loss: 7.2175 - val_root_mean_squared_error: 2.6865\n",
            "Epoch 97/300\n",
            "2525/2525 [==============================] - 7s 3ms/step - loss: 2.1756 - root_mean_squared_error: 1.4750 - val_loss: 7.1548 - val_root_mean_squared_error: 2.6749\n",
            "Epoch 98/300\n",
            "2525/2525 [==============================] - 6s 3ms/step - loss: 2.1745 - root_mean_squared_error: 1.4746 - val_loss: 7.1242 - val_root_mean_squared_error: 2.6691\n",
            "Epoch 99/300\n",
            "2525/2525 [==============================] - 6s 3ms/step - loss: 2.1701 - root_mean_squared_error: 1.4731 - val_loss: 7.2666 - val_root_mean_squared_error: 2.6957\n",
            "Epoch 100/300\n",
            "2525/2525 [==============================] - 7s 3ms/step - loss: 2.1657 - root_mean_squared_error: 1.4716 - val_loss: 7.2417 - val_root_mean_squared_error: 2.6910\n",
            "Epoch 101/300\n",
            "2525/2525 [==============================] - 7s 3ms/step - loss: 2.1686 - root_mean_squared_error: 1.4726 - val_loss: 7.1894 - val_root_mean_squared_error: 2.6813\n",
            "Epoch 102/300\n",
            "2525/2525 [==============================] - 7s 3ms/step - loss: 2.1649 - root_mean_squared_error: 1.4714 - val_loss: 7.0234 - val_root_mean_squared_error: 2.6502\n",
            "Epoch 103/300\n",
            "2525/2525 [==============================] - 7s 3ms/step - loss: 2.1639 - root_mean_squared_error: 1.4710 - val_loss: 6.9527 - val_root_mean_squared_error: 2.6368\n",
            "Epoch 104/300\n",
            "2525/2525 [==============================] - 7s 3ms/step - loss: 2.1626 - root_mean_squared_error: 1.4706 - val_loss: 7.1883 - val_root_mean_squared_error: 2.6811\n",
            "Epoch 105/300\n",
            "2525/2525 [==============================] - 7s 3ms/step - loss: 2.1634 - root_mean_squared_error: 1.4709 - val_loss: 7.0844 - val_root_mean_squared_error: 2.6617\n",
            "Epoch 106/300\n",
            "2525/2525 [==============================] - 7s 3ms/step - loss: 2.1606 - root_mean_squared_error: 1.4699 - val_loss: 7.0531 - val_root_mean_squared_error: 2.6558\n",
            "Epoch 107/300\n",
            "2525/2525 [==============================] - 6s 3ms/step - loss: 2.1591 - root_mean_squared_error: 1.4694 - val_loss: 7.2018 - val_root_mean_squared_error: 2.6836\n",
            "Epoch 108/300\n",
            "2525/2525 [==============================] - 6s 3ms/step - loss: 2.1605 - root_mean_squared_error: 1.4699 - val_loss: 7.0816 - val_root_mean_squared_error: 2.6611\n",
            "Epoch 109/300\n",
            "2525/2525 [==============================] - 7s 3ms/step - loss: 2.1548 - root_mean_squared_error: 1.4679 - val_loss: 7.1296 - val_root_mean_squared_error: 2.6701\n",
            "Epoch 110/300\n",
            "2525/2525 [==============================] - 7s 3ms/step - loss: 2.1601 - root_mean_squared_error: 1.4697 - val_loss: 7.0712 - val_root_mean_squared_error: 2.6592\n",
            "Epoch 111/300\n",
            "2525/2525 [==============================] - 6s 3ms/step - loss: 2.1562 - root_mean_squared_error: 1.4684 - val_loss: 7.0973 - val_root_mean_squared_error: 2.6641\n",
            "Epoch 112/300\n",
            "2525/2525 [==============================] - 7s 3ms/step - loss: 2.1557 - root_mean_squared_error: 1.4682 - val_loss: 7.0886 - val_root_mean_squared_error: 2.6625\n",
            "Epoch 113/300\n",
            "2525/2525 [==============================] - 6s 3ms/step - loss: 2.1584 - root_mean_squared_error: 1.4691 - val_loss: 7.1919 - val_root_mean_squared_error: 2.6818\n",
            "Epoch 114/300\n",
            "2525/2525 [==============================] - 8s 3ms/step - loss: 2.1499 - root_mean_squared_error: 1.4662 - val_loss: 7.2392 - val_root_mean_squared_error: 2.6906\n",
            "Epoch 115/300\n",
            "2525/2525 [==============================] - 7s 3ms/step - loss: 2.1556 - root_mean_squared_error: 1.4682 - val_loss: 7.0348 - val_root_mean_squared_error: 2.6523\n",
            "Epoch 116/300\n",
            "2525/2525 [==============================] - 7s 3ms/step - loss: 2.1501 - root_mean_squared_error: 1.4663 - val_loss: 7.1840 - val_root_mean_squared_error: 2.6803\n",
            "Epoch 117/300\n",
            "2525/2525 [==============================] - 7s 3ms/step - loss: 2.1482 - root_mean_squared_error: 1.4657 - val_loss: 7.1193 - val_root_mean_squared_error: 2.6682\n",
            "Epoch 118/300\n",
            "2525/2525 [==============================] - 7s 3ms/step - loss: 2.1444 - root_mean_squared_error: 1.4644 - val_loss: 7.0459 - val_root_mean_squared_error: 2.6544\n",
            "Epoch 119/300\n",
            "2525/2525 [==============================] - 6s 3ms/step - loss: 2.1481 - root_mean_squared_error: 1.4656 - val_loss: 7.0377 - val_root_mean_squared_error: 2.6529\n",
            "Epoch 120/300\n",
            "2525/2525 [==============================] - 6s 3ms/step - loss: 2.1456 - root_mean_squared_error: 1.4648 - val_loss: 7.3144 - val_root_mean_squared_error: 2.7045\n",
            "Epoch 121/300\n",
            "2525/2525 [==============================] - 7s 3ms/step - loss: 2.1429 - root_mean_squared_error: 1.4639 - val_loss: 7.1017 - val_root_mean_squared_error: 2.6649\n",
            "Epoch 122/300\n",
            "2525/2525 [==============================] - 6s 3ms/step - loss: 2.1436 - root_mean_squared_error: 1.4641 - val_loss: 7.1490 - val_root_mean_squared_error: 2.6738\n",
            "Epoch 123/300\n",
            "2525/2525 [==============================] - 6s 3ms/step - loss: 2.1428 - root_mean_squared_error: 1.4638 - val_loss: 7.2076 - val_root_mean_squared_error: 2.6847\n",
            "Epoch 124/300\n",
            "2525/2525 [==============================] - 6s 3ms/step - loss: 2.1405 - root_mean_squared_error: 1.4630 - val_loss: 7.0495 - val_root_mean_squared_error: 2.6551\n",
            "Epoch 125/300\n",
            "2525/2525 [==============================] - 7s 3ms/step - loss: 2.1461 - root_mean_squared_error: 1.4649 - val_loss: 7.2072 - val_root_mean_squared_error: 2.6846\n",
            "Epoch 126/300\n",
            "2525/2525 [==============================] - 6s 3ms/step - loss: 2.1382 - root_mean_squared_error: 1.4622 - val_loss: 7.1150 - val_root_mean_squared_error: 2.6674\n",
            "Epoch 127/300\n",
            "2525/2525 [==============================] - 7s 3ms/step - loss: 2.1393 - root_mean_squared_error: 1.4626 - val_loss: 7.1211 - val_root_mean_squared_error: 2.6685\n",
            "Epoch 128/300\n",
            "2525/2525 [==============================] - 7s 3ms/step - loss: 2.1376 - root_mean_squared_error: 1.4621 - val_loss: 7.1264 - val_root_mean_squared_error: 2.6695\n",
            "Epoch 129/300\n",
            "2525/2525 [==============================] - 7s 3ms/step - loss: 2.1358 - root_mean_squared_error: 1.4614 - val_loss: 7.1424 - val_root_mean_squared_error: 2.6725\n",
            "Epoch 130/300\n",
            "2525/2525 [==============================] - 6s 3ms/step - loss: 2.1396 - root_mean_squared_error: 1.4627 - val_loss: 7.1245 - val_root_mean_squared_error: 2.6692\n",
            "Epoch 131/300\n",
            "2525/2525 [==============================] - 6s 3ms/step - loss: 2.1325 - root_mean_squared_error: 1.4603 - val_loss: 7.0631 - val_root_mean_squared_error: 2.6576\n",
            "Epoch 132/300\n",
            "2525/2525 [==============================] - 6s 3ms/step - loss: 2.1386 - root_mean_squared_error: 1.4624 - val_loss: 6.9970 - val_root_mean_squared_error: 2.6452\n",
            "Epoch 133/300\n",
            "2525/2525 [==============================] - 6s 3ms/step - loss: 2.1344 - root_mean_squared_error: 1.4610 - val_loss: 7.0659 - val_root_mean_squared_error: 2.6582\n",
            "Epoch 134/300\n",
            "2525/2525 [==============================] - 7s 3ms/step - loss: 2.1323 - root_mean_squared_error: 1.4602 - val_loss: 7.2423 - val_root_mean_squared_error: 2.6912\n",
            "Epoch 135/300\n",
            "2525/2525 [==============================] - 7s 3ms/step - loss: 2.1299 - root_mean_squared_error: 1.4594 - val_loss: 7.1706 - val_root_mean_squared_error: 2.6778\n",
            "Epoch 136/300\n",
            "2525/2525 [==============================] - 7s 3ms/step - loss: 2.1300 - root_mean_squared_error: 1.4595 - val_loss: 7.1663 - val_root_mean_squared_error: 2.6770\n",
            "Epoch 137/300\n",
            "2525/2525 [==============================] - 7s 3ms/step - loss: 2.1312 - root_mean_squared_error: 1.4599 - val_loss: 7.0614 - val_root_mean_squared_error: 2.6573\n",
            "Epoch 138/300\n",
            "2525/2525 [==============================] - 7s 3ms/step - loss: 2.1272 - root_mean_squared_error: 1.4585 - val_loss: 7.2516 - val_root_mean_squared_error: 2.6929\n",
            "Epoch 139/300\n",
            "2525/2525 [==============================] - 7s 3ms/step - loss: 2.1257 - root_mean_squared_error: 1.4580 - val_loss: 7.3219 - val_root_mean_squared_error: 2.7059\n",
            "Epoch 140/300\n",
            "2525/2525 [==============================] - 7s 3ms/step - loss: 2.1230 - root_mean_squared_error: 1.4571 - val_loss: 7.2844 - val_root_mean_squared_error: 2.6990\n",
            "Epoch 141/300\n",
            "2525/2525 [==============================] - 7s 3ms/step - loss: 2.1238 - root_mean_squared_error: 1.4573 - val_loss: 7.0195 - val_root_mean_squared_error: 2.6494\n",
            "Epoch 142/300\n",
            "2525/2525 [==============================] - 6s 3ms/step - loss: 2.1290 - root_mean_squared_error: 1.4591 - val_loss: 7.0616 - val_root_mean_squared_error: 2.6574\n",
            "Epoch 143/300\n",
            "2525/2525 [==============================] - 7s 3ms/step - loss: 2.1237 - root_mean_squared_error: 1.4573 - val_loss: 7.0416 - val_root_mean_squared_error: 2.6536\n",
            "Epoch 144/300\n",
            "2525/2525 [==============================] - 8s 3ms/step - loss: 2.1222 - root_mean_squared_error: 1.4568 - val_loss: 7.2175 - val_root_mean_squared_error: 2.6865\n",
            "Epoch 145/300\n",
            "2525/2525 [==============================] - 7s 3ms/step - loss: 2.1235 - root_mean_squared_error: 1.4572 - val_loss: 7.0216 - val_root_mean_squared_error: 2.6498\n",
            "Epoch 146/300\n",
            "2525/2525 [==============================] - 7s 3ms/step - loss: 2.1235 - root_mean_squared_error: 1.4572 - val_loss: 7.0789 - val_root_mean_squared_error: 2.6606\n",
            "Epoch 147/300\n",
            "2525/2525 [==============================] - 7s 3ms/step - loss: 2.1210 - root_mean_squared_error: 1.4564 - val_loss: 7.1278 - val_root_mean_squared_error: 2.6698\n",
            "Epoch 148/300\n",
            "2525/2525 [==============================] - 7s 3ms/step - loss: 2.1177 - root_mean_squared_error: 1.4552 - val_loss: 7.0094 - val_root_mean_squared_error: 2.6475\n",
            "Epoch 149/300\n",
            "2525/2525 [==============================] - 7s 3ms/step - loss: 2.1200 - root_mean_squared_error: 1.4560 - val_loss: 7.0873 - val_root_mean_squared_error: 2.6622\n",
            "Epoch 150/300\n",
            "2525/2525 [==============================] - 7s 3ms/step - loss: 2.1208 - root_mean_squared_error: 1.4563 - val_loss: 7.2133 - val_root_mean_squared_error: 2.6858\n",
            "Epoch 151/300\n",
            "2525/2525 [==============================] - 7s 3ms/step - loss: 2.1138 - root_mean_squared_error: 1.4539 - val_loss: 7.1304 - val_root_mean_squared_error: 2.6703\n",
            "Epoch 152/300\n",
            "2525/2525 [==============================] - 7s 3ms/step - loss: 2.1160 - root_mean_squared_error: 1.4546 - val_loss: 7.1196 - val_root_mean_squared_error: 2.6683\n",
            "Epoch 153/300\n",
            "2525/2525 [==============================] - 7s 3ms/step - loss: 2.1158 - root_mean_squared_error: 1.4546 - val_loss: 7.0536 - val_root_mean_squared_error: 2.6559\n",
            "Epoch 154/300\n",
            "2525/2525 [==============================] - 6s 3ms/step - loss: 2.1141 - root_mean_squared_error: 1.4540 - val_loss: 7.1828 - val_root_mean_squared_error: 2.6801\n",
            "Epoch 155/300\n",
            "2525/2525 [==============================] - 7s 3ms/step - loss: 2.1150 - root_mean_squared_error: 1.4543 - val_loss: 7.1063 - val_root_mean_squared_error: 2.6658\n",
            "Epoch 156/300\n",
            "2525/2525 [==============================] - 7s 3ms/step - loss: 2.1148 - root_mean_squared_error: 1.4542 - val_loss: 7.2241 - val_root_mean_squared_error: 2.6878\n",
            "Epoch 157/300\n",
            "2525/2525 [==============================] - 7s 3ms/step - loss: 2.1117 - root_mean_squared_error: 1.4532 - val_loss: 7.2722 - val_root_mean_squared_error: 2.6967\n",
            "Epoch 158/300\n",
            "2525/2525 [==============================] - 7s 3ms/step - loss: 2.1100 - root_mean_squared_error: 1.4526 - val_loss: 7.0615 - val_root_mean_squared_error: 2.6573\n",
            "Epoch 159/300\n",
            "2525/2525 [==============================] - 7s 3ms/step - loss: 2.1064 - root_mean_squared_error: 1.4513 - val_loss: 7.0936 - val_root_mean_squared_error: 2.6634\n",
            "Epoch 160/300\n",
            "2525/2525 [==============================] - 7s 3ms/step - loss: 2.1066 - root_mean_squared_error: 1.4514 - val_loss: 7.1877 - val_root_mean_squared_error: 2.6810\n",
            "Epoch 161/300\n",
            "2525/2525 [==============================] - 7s 3ms/step - loss: 2.1075 - root_mean_squared_error: 1.4517 - val_loss: 7.0042 - val_root_mean_squared_error: 2.6465\n",
            "Epoch 162/300\n",
            "2525/2525 [==============================] - 7s 3ms/step - loss: 2.1090 - root_mean_squared_error: 1.4523 - val_loss: 7.1380 - val_root_mean_squared_error: 2.6717\n",
            "Epoch 163/300\n",
            "2525/2525 [==============================] - 7s 3ms/step - loss: 2.1073 - root_mean_squared_error: 1.4517 - val_loss: 7.1285 - val_root_mean_squared_error: 2.6699\n",
            "Epoch 164/300\n",
            "2525/2525 [==============================] - 7s 3ms/step - loss: 2.1087 - root_mean_squared_error: 1.4521 - val_loss: 7.3433 - val_root_mean_squared_error: 2.7099\n",
            "Epoch 165/300\n",
            "2525/2525 [==============================] - 7s 3ms/step - loss: 2.1029 - root_mean_squared_error: 1.4501 - val_loss: 7.1991 - val_root_mean_squared_error: 2.6831\n",
            "Epoch 166/300\n",
            "2525/2525 [==============================] - 7s 3ms/step - loss: 2.1102 - root_mean_squared_error: 1.4527 - val_loss: 7.1474 - val_root_mean_squared_error: 2.6735\n",
            "Epoch 167/300\n",
            "2525/2525 [==============================] - 7s 3ms/step - loss: 2.1049 - root_mean_squared_error: 1.4508 - val_loss: 7.2351 - val_root_mean_squared_error: 2.6898\n",
            "Epoch 168/300\n",
            "2525/2525 [==============================] - 7s 3ms/step - loss: 2.1045 - root_mean_squared_error: 1.4507 - val_loss: 7.1723 - val_root_mean_squared_error: 2.6781\n",
            "Epoch 169/300\n",
            "2525/2525 [==============================] - 6s 3ms/step - loss: 2.1064 - root_mean_squared_error: 1.4514 - val_loss: 7.0956 - val_root_mean_squared_error: 2.6638\n",
            "Epoch 170/300\n",
            "2525/2525 [==============================] - 7s 3ms/step - loss: 2.1039 - root_mean_squared_error: 1.4505 - val_loss: 7.0861 - val_root_mean_squared_error: 2.6620\n",
            "Epoch 171/300\n",
            "2525/2525 [==============================] - 7s 3ms/step - loss: 2.1058 - root_mean_squared_error: 1.4511 - val_loss: 7.2720 - val_root_mean_squared_error: 2.6967\n",
            "Epoch 172/300\n",
            "2525/2525 [==============================] - 7s 3ms/step - loss: 2.1045 - root_mean_squared_error: 1.4507 - val_loss: 7.1501 - val_root_mean_squared_error: 2.6740\n",
            "Epoch 173/300\n",
            "2525/2525 [==============================] - 8s 3ms/step - loss: 2.1024 - root_mean_squared_error: 1.4500 - val_loss: 7.1264 - val_root_mean_squared_error: 2.6695\n",
            "Epoch 174/300\n",
            "2525/2525 [==============================] - 7s 3ms/step - loss: 2.1005 - root_mean_squared_error: 1.4493 - val_loss: 7.1755 - val_root_mean_squared_error: 2.6787\n",
            "Epoch 175/300\n",
            "2525/2525 [==============================] - 7s 3ms/step - loss: 2.0998 - root_mean_squared_error: 1.4491 - val_loss: 7.1835 - val_root_mean_squared_error: 2.6802\n",
            "Epoch 176/300\n",
            "2525/2525 [==============================] - 7s 3ms/step - loss: 2.1007 - root_mean_squared_error: 1.4494 - val_loss: 7.1903 - val_root_mean_squared_error: 2.6815\n",
            "Epoch 177/300\n",
            "2525/2525 [==============================] - 7s 3ms/step - loss: 2.0978 - root_mean_squared_error: 1.4484 - val_loss: 7.1406 - val_root_mean_squared_error: 2.6722\n",
            "Epoch 178/300\n",
            "2525/2525 [==============================] - 7s 3ms/step - loss: 2.1026 - root_mean_squared_error: 1.4500 - val_loss: 7.1462 - val_root_mean_squared_error: 2.6732\n",
            "Epoch 179/300\n",
            "2525/2525 [==============================] - 7s 3ms/step - loss: 2.0976 - root_mean_squared_error: 1.4483 - val_loss: 7.0527 - val_root_mean_squared_error: 2.6557\n",
            "Epoch 180/300\n",
            "2525/2525 [==============================] - 7s 3ms/step - loss: 2.1002 - root_mean_squared_error: 1.4492 - val_loss: 7.0536 - val_root_mean_squared_error: 2.6559\n",
            "Epoch 181/300\n",
            "2525/2525 [==============================] - 7s 3ms/step - loss: 2.0985 - root_mean_squared_error: 1.4486 - val_loss: 7.0897 - val_root_mean_squared_error: 2.6626\n",
            "Epoch 182/300\n",
            "2525/2525 [==============================] - 7s 3ms/step - loss: 2.0948 - root_mean_squared_error: 1.4474 - val_loss: 7.1323 - val_root_mean_squared_error: 2.6706\n",
            "Epoch 183/300\n",
            "2525/2525 [==============================] - 7s 3ms/step - loss: 2.0997 - root_mean_squared_error: 1.4490 - val_loss: 7.0359 - val_root_mean_squared_error: 2.6525\n",
            "Epoch 184/300\n",
            "2525/2525 [==============================] - 7s 3ms/step - loss: 2.0965 - root_mean_squared_error: 1.4479 - val_loss: 7.0274 - val_root_mean_squared_error: 2.6509\n",
            "Epoch 185/300\n",
            "2525/2525 [==============================] - 7s 3ms/step - loss: 2.0974 - root_mean_squared_error: 1.4482 - val_loss: 7.0350 - val_root_mean_squared_error: 2.6524\n",
            "Epoch 186/300\n",
            "2525/2525 [==============================] - 7s 3ms/step - loss: 2.0990 - root_mean_squared_error: 1.4488 - val_loss: 7.0332 - val_root_mean_squared_error: 2.6520\n",
            "Epoch 187/300\n",
            "2525/2525 [==============================] - 7s 3ms/step - loss: 2.0972 - root_mean_squared_error: 1.4482 - val_loss: 7.2321 - val_root_mean_squared_error: 2.6892\n",
            "Epoch 188/300\n",
            "2525/2525 [==============================] - 7s 3ms/step - loss: 2.0955 - root_mean_squared_error: 1.4476 - val_loss: 7.1340 - val_root_mean_squared_error: 2.6710\n",
            "Epoch 189/300\n",
            "2525/2525 [==============================] - 7s 3ms/step - loss: 2.1014 - root_mean_squared_error: 1.4496 - val_loss: 7.1228 - val_root_mean_squared_error: 2.6688\n",
            "Epoch 190/300\n",
            "2525/2525 [==============================] - 7s 3ms/step - loss: 2.0927 - root_mean_squared_error: 1.4466 - val_loss: 7.0579 - val_root_mean_squared_error: 2.6567\n",
            "Epoch 191/300\n",
            "2525/2525 [==============================] - 7s 3ms/step - loss: 2.0951 - root_mean_squared_error: 1.4475 - val_loss: 7.2721 - val_root_mean_squared_error: 2.6967\n",
            "Epoch 192/300\n",
            "2525/2525 [==============================] - 7s 3ms/step - loss: 2.0920 - root_mean_squared_error: 1.4464 - val_loss: 7.0583 - val_root_mean_squared_error: 2.6567\n",
            "Epoch 193/300\n",
            "2525/2525 [==============================] - 7s 3ms/step - loss: 2.0914 - root_mean_squared_error: 1.4462 - val_loss: 7.1604 - val_root_mean_squared_error: 2.6759\n",
            "Epoch 194/300\n",
            "2525/2525 [==============================] - 7s 3ms/step - loss: 2.0918 - root_mean_squared_error: 1.4463 - val_loss: 7.0616 - val_root_mean_squared_error: 2.6574\n",
            "Epoch 195/300\n",
            "2525/2525 [==============================] - 7s 3ms/step - loss: 2.0934 - root_mean_squared_error: 1.4469 - val_loss: 7.1482 - val_root_mean_squared_error: 2.6736\n",
            "Epoch 196/300\n",
            "2525/2525 [==============================] - 7s 3ms/step - loss: 2.0935 - root_mean_squared_error: 1.4469 - val_loss: 7.0314 - val_root_mean_squared_error: 2.6517\n",
            "Epoch 197/300\n",
            "2525/2525 [==============================] - 7s 3ms/step - loss: 2.0951 - root_mean_squared_error: 1.4474 - val_loss: 7.1654 - val_root_mean_squared_error: 2.6768\n",
            "Epoch 198/300\n",
            "2525/2525 [==============================] - 7s 3ms/step - loss: 2.0931 - root_mean_squared_error: 1.4468 - val_loss: 6.9978 - val_root_mean_squared_error: 2.6453\n",
            "Epoch 199/300\n",
            "2525/2525 [==============================] - 7s 3ms/step - loss: 2.0900 - root_mean_squared_error: 1.4457 - val_loss: 7.1008 - val_root_mean_squared_error: 2.6647\n",
            "Epoch 200/300\n",
            "2525/2525 [==============================] - 7s 3ms/step - loss: 2.0894 - root_mean_squared_error: 1.4455 - val_loss: 7.1066 - val_root_mean_squared_error: 2.6658\n",
            "Epoch 201/300\n",
            "2525/2525 [==============================] - 7s 3ms/step - loss: 2.0913 - root_mean_squared_error: 1.4461 - val_loss: 7.1191 - val_root_mean_squared_error: 2.6682\n",
            "Epoch 202/300\n",
            "2525/2525 [==============================] - 7s 3ms/step - loss: 2.0870 - root_mean_squared_error: 1.4446 - val_loss: 7.1575 - val_root_mean_squared_error: 2.6753\n",
            "Epoch 203/300\n",
            "2525/2525 [==============================] - 7s 3ms/step - loss: 2.0899 - root_mean_squared_error: 1.4456 - val_loss: 7.1189 - val_root_mean_squared_error: 2.6681\n",
            "Epoch 204/300\n",
            "2525/2525 [==============================] - 7s 3ms/step - loss: 2.0911 - root_mean_squared_error: 1.4461 - val_loss: 7.1185 - val_root_mean_squared_error: 2.6680\n",
            "Epoch 205/300\n",
            "2525/2525 [==============================] - 7s 3ms/step - loss: 2.0890 - root_mean_squared_error: 1.4453 - val_loss: 7.2004 - val_root_mean_squared_error: 2.6834\n",
            "Epoch 206/300\n",
            "2525/2525 [==============================] - 7s 3ms/step - loss: 2.0873 - root_mean_squared_error: 1.4448 - val_loss: 7.1945 - val_root_mean_squared_error: 2.6823\n",
            "Epoch 207/300\n",
            "2525/2525 [==============================] - 7s 3ms/step - loss: 2.0867 - root_mean_squared_error: 1.4445 - val_loss: 6.9760 - val_root_mean_squared_error: 2.6412\n",
            "Epoch 208/300\n",
            "2525/2525 [==============================] - 7s 3ms/step - loss: 2.0844 - root_mean_squared_error: 1.4437 - val_loss: 7.1392 - val_root_mean_squared_error: 2.6719\n",
            "Epoch 209/300\n",
            "2525/2525 [==============================] - 7s 3ms/step - loss: 2.0866 - root_mean_squared_error: 1.4445 - val_loss: 7.2494 - val_root_mean_squared_error: 2.6925\n",
            "Epoch 210/300\n",
            "2525/2525 [==============================] - 7s 3ms/step - loss: 2.0902 - root_mean_squared_error: 1.4458 - val_loss: 7.2062 - val_root_mean_squared_error: 2.6844\n",
            "Epoch 211/300\n",
            "2525/2525 [==============================] - 7s 3ms/step - loss: 2.0859 - root_mean_squared_error: 1.4443 - val_loss: 7.2306 - val_root_mean_squared_error: 2.6890\n",
            "Epoch 212/300\n",
            "2525/2525 [==============================] - 7s 3ms/step - loss: 2.0863 - root_mean_squared_error: 1.4444 - val_loss: 7.1843 - val_root_mean_squared_error: 2.6804\n",
            "Epoch 213/300\n",
            "2525/2525 [==============================] - 7s 3ms/step - loss: 2.0887 - root_mean_squared_error: 1.4452 - val_loss: 7.2774 - val_root_mean_squared_error: 2.6977\n",
            "Epoch 214/300\n",
            "2525/2525 [==============================] - 7s 3ms/step - loss: 2.0813 - root_mean_squared_error: 1.4427 - val_loss: 7.2735 - val_root_mean_squared_error: 2.6969\n",
            "Epoch 215/300\n",
            "2525/2525 [==============================] - 7s 3ms/step - loss: 2.0845 - root_mean_squared_error: 1.4438 - val_loss: 7.1027 - val_root_mean_squared_error: 2.6651\n",
            "Epoch 216/300\n",
            "2525/2525 [==============================] - 7s 3ms/step - loss: 2.0828 - root_mean_squared_error: 1.4432 - val_loss: 7.1873 - val_root_mean_squared_error: 2.6809\n",
            "Epoch 217/300\n",
            "2525/2525 [==============================] - 7s 3ms/step - loss: 2.0861 - root_mean_squared_error: 1.4443 - val_loss: 7.1934 - val_root_mean_squared_error: 2.6821\n",
            "Epoch 218/300\n",
            "2525/2525 [==============================] - 7s 3ms/step - loss: 2.0826 - root_mean_squared_error: 1.4431 - val_loss: 7.1882 - val_root_mean_squared_error: 2.6811\n",
            "Epoch 219/300\n",
            "2525/2525 [==============================] - 7s 3ms/step - loss: 2.0824 - root_mean_squared_error: 1.4430 - val_loss: 7.2036 - val_root_mean_squared_error: 2.6840\n",
            "Epoch 220/300\n",
            "2525/2525 [==============================] - 7s 3ms/step - loss: 2.0871 - root_mean_squared_error: 1.4447 - val_loss: 7.1808 - val_root_mean_squared_error: 2.6797\n",
            "Epoch 221/300\n",
            "2525/2525 [==============================] - 7s 3ms/step - loss: 2.0819 - root_mean_squared_error: 1.4429 - val_loss: 7.2267 - val_root_mean_squared_error: 2.6883\n",
            "Epoch 222/300\n",
            "2525/2525 [==============================] - 7s 3ms/step - loss: 2.0809 - root_mean_squared_error: 1.4425 - val_loss: 7.1261 - val_root_mean_squared_error: 2.6695\n",
            "Epoch 223/300\n",
            "2525/2525 [==============================] - 7s 3ms/step - loss: 2.0832 - root_mean_squared_error: 1.4433 - val_loss: 7.2108 - val_root_mean_squared_error: 2.6853\n",
            "Epoch 224/300\n",
            "2525/2525 [==============================] - 7s 3ms/step - loss: 2.0841 - root_mean_squared_error: 1.4436 - val_loss: 7.1700 - val_root_mean_squared_error: 2.6777\n",
            "Epoch 225/300\n",
            "2525/2525 [==============================] - 7s 3ms/step - loss: 2.0783 - root_mean_squared_error: 1.4416 - val_loss: 7.1137 - val_root_mean_squared_error: 2.6672\n",
            "Epoch 226/300\n",
            "2525/2525 [==============================] - 7s 3ms/step - loss: 2.0795 - root_mean_squared_error: 1.4421 - val_loss: 7.3724 - val_root_mean_squared_error: 2.7152\n",
            "Epoch 227/300\n",
            "2525/2525 [==============================] - 7s 3ms/step - loss: 2.0782 - root_mean_squared_error: 1.4416 - val_loss: 7.1665 - val_root_mean_squared_error: 2.6770\n",
            "Epoch 228/300\n",
            "2525/2525 [==============================] - 7s 3ms/step - loss: 2.0796 - root_mean_squared_error: 1.4421 - val_loss: 7.4217 - val_root_mean_squared_error: 2.7243\n",
            "Epoch 229/300\n",
            "2525/2525 [==============================] - 7s 3ms/step - loss: 2.0781 - root_mean_squared_error: 1.4416 - val_loss: 7.1500 - val_root_mean_squared_error: 2.6740\n",
            "Epoch 230/300\n",
            "2525/2525 [==============================] - 7s 3ms/step - loss: 2.0771 - root_mean_squared_error: 1.4412 - val_loss: 7.1390 - val_root_mean_squared_error: 2.6719\n",
            "Epoch 231/300\n",
            "2525/2525 [==============================] - 7s 3ms/step - loss: 2.0803 - root_mean_squared_error: 1.4423 - val_loss: 7.2033 - val_root_mean_squared_error: 2.6839\n",
            "Epoch 232/300\n",
            "2525/2525 [==============================] - 8s 3ms/step - loss: 2.0775 - root_mean_squared_error: 1.4414 - val_loss: 7.2458 - val_root_mean_squared_error: 2.6918\n",
            "Epoch 233/300\n",
            "2525/2525 [==============================] - 8s 3ms/step - loss: 2.0765 - root_mean_squared_error: 1.4410 - val_loss: 7.3298 - val_root_mean_squared_error: 2.7074\n",
            "Epoch 234/300\n",
            "2525/2525 [==============================] - 7s 3ms/step - loss: 2.0783 - root_mean_squared_error: 1.4416 - val_loss: 7.1499 - val_root_mean_squared_error: 2.6739\n",
            "Epoch 235/300\n",
            "2525/2525 [==============================] - 7s 3ms/step - loss: 2.0788 - root_mean_squared_error: 1.4418 - val_loss: 7.2569 - val_root_mean_squared_error: 2.6939\n",
            "Epoch 236/300\n",
            "2525/2525 [==============================] - 7s 3ms/step - loss: 2.0795 - root_mean_squared_error: 1.4420 - val_loss: 7.3617 - val_root_mean_squared_error: 2.7132\n",
            "Epoch 237/300\n",
            "2525/2525 [==============================] - 7s 3ms/step - loss: 2.0778 - root_mean_squared_error: 1.4414 - val_loss: 7.2719 - val_root_mean_squared_error: 2.6966\n",
            "Epoch 238/300\n",
            "2525/2525 [==============================] - 7s 3ms/step - loss: 2.0763 - root_mean_squared_error: 1.4410 - val_loss: 7.2125 - val_root_mean_squared_error: 2.6856\n",
            "Epoch 239/300\n",
            "2525/2525 [==============================] - 7s 3ms/step - loss: 2.0759 - root_mean_squared_error: 1.4408 - val_loss: 7.3357 - val_root_mean_squared_error: 2.7084\n",
            "Epoch 240/300\n",
            "2525/2525 [==============================] - 7s 3ms/step - loss: 2.0778 - root_mean_squared_error: 1.4414 - val_loss: 7.2395 - val_root_mean_squared_error: 2.6906\n",
            "Epoch 241/300\n",
            "2525/2525 [==============================] - 7s 3ms/step - loss: 2.0742 - root_mean_squared_error: 1.4402 - val_loss: 7.1751 - val_root_mean_squared_error: 2.6786\n",
            "Epoch 242/300\n",
            "2525/2525 [==============================] - 7s 3ms/step - loss: 2.0735 - root_mean_squared_error: 1.4400 - val_loss: 7.2650 - val_root_mean_squared_error: 2.6954\n",
            "Epoch 243/300\n",
            "2525/2525 [==============================] - 7s 3ms/step - loss: 2.0734 - root_mean_squared_error: 1.4399 - val_loss: 7.0618 - val_root_mean_squared_error: 2.6574\n",
            "Epoch 244/300\n",
            "2525/2525 [==============================] - 7s 3ms/step - loss: 2.0753 - root_mean_squared_error: 1.4406 - val_loss: 7.1420 - val_root_mean_squared_error: 2.6725\n",
            "Epoch 245/300\n",
            "2525/2525 [==============================] - 7s 3ms/step - loss: 2.0731 - root_mean_squared_error: 1.4398 - val_loss: 7.2534 - val_root_mean_squared_error: 2.6932\n",
            "Epoch 246/300\n",
            "2525/2525 [==============================] - 7s 3ms/step - loss: 2.0719 - root_mean_squared_error: 1.4394 - val_loss: 7.2798 - val_root_mean_squared_error: 2.6981\n",
            "Epoch 247/300\n",
            "2525/2525 [==============================] - 7s 3ms/step - loss: 2.0704 - root_mean_squared_error: 1.4389 - val_loss: 7.2116 - val_root_mean_squared_error: 2.6854\n",
            "Epoch 248/300\n",
            "2525/2525 [==============================] - 7s 3ms/step - loss: 2.0732 - root_mean_squared_error: 1.4399 - val_loss: 7.3582 - val_root_mean_squared_error: 2.7126\n",
            "Epoch 249/300\n",
            "2525/2525 [==============================] - 7s 3ms/step - loss: 2.0732 - root_mean_squared_error: 1.4399 - val_loss: 7.3046 - val_root_mean_squared_error: 2.7027\n",
            "Epoch 250/300\n",
            "2525/2525 [==============================] - 7s 3ms/step - loss: 2.0708 - root_mean_squared_error: 1.4390 - val_loss: 7.2011 - val_root_mean_squared_error: 2.6835\n",
            "Epoch 251/300\n",
            "2525/2525 [==============================] - 7s 3ms/step - loss: 2.0741 - root_mean_squared_error: 1.4402 - val_loss: 7.1503 - val_root_mean_squared_error: 2.6740\n",
            "Epoch 252/300\n",
            "2525/2525 [==============================] - 7s 3ms/step - loss: 2.0706 - root_mean_squared_error: 1.4389 - val_loss: 7.3195 - val_root_mean_squared_error: 2.7055\n",
            "Epoch 253/300\n",
            "2525/2525 [==============================] - 7s 3ms/step - loss: 2.0702 - root_mean_squared_error: 1.4388 - val_loss: 7.2305 - val_root_mean_squared_error: 2.6890\n",
            "Epoch 254/300\n",
            "2525/2525 [==============================] - 7s 3ms/step - loss: 2.0717 - root_mean_squared_error: 1.4393 - val_loss: 7.2391 - val_root_mean_squared_error: 2.6906\n",
            "Epoch 255/300\n",
            "2525/2525 [==============================] - 7s 3ms/step - loss: 2.0716 - root_mean_squared_error: 1.4393 - val_loss: 7.2344 - val_root_mean_squared_error: 2.6897\n",
            "Epoch 256/300\n",
            "2525/2525 [==============================] - 7s 3ms/step - loss: 2.0690 - root_mean_squared_error: 1.4384 - val_loss: 7.1893 - val_root_mean_squared_error: 2.6813\n",
            "Epoch 257/300\n",
            "2525/2525 [==============================] - 7s 3ms/step - loss: 2.0688 - root_mean_squared_error: 1.4383 - val_loss: 7.2948 - val_root_mean_squared_error: 2.7009\n",
            "Epoch 258/300\n",
            "2525/2525 [==============================] - 7s 3ms/step - loss: 2.0720 - root_mean_squared_error: 1.4394 - val_loss: 7.2796 - val_root_mean_squared_error: 2.6981\n",
            "Epoch 259/300\n",
            "2525/2525 [==============================] - 7s 3ms/step - loss: 2.0690 - root_mean_squared_error: 1.4384 - val_loss: 7.2674 - val_root_mean_squared_error: 2.6958\n",
            "Epoch 260/300\n",
            "2525/2525 [==============================] - 7s 3ms/step - loss: 2.0673 - root_mean_squared_error: 1.4378 - val_loss: 7.2512 - val_root_mean_squared_error: 2.6928\n",
            "Epoch 261/300\n",
            "2525/2525 [==============================] - 7s 3ms/step - loss: 2.0675 - root_mean_squared_error: 1.4379 - val_loss: 7.3790 - val_root_mean_squared_error: 2.7164\n",
            "Epoch 262/300\n",
            "2525/2525 [==============================] - 7s 3ms/step - loss: 2.0700 - root_mean_squared_error: 1.4387 - val_loss: 7.3380 - val_root_mean_squared_error: 2.7089\n",
            "Epoch 263/300\n",
            "2525/2525 [==============================] - 7s 3ms/step - loss: 2.0672 - root_mean_squared_error: 1.4378 - val_loss: 7.2324 - val_root_mean_squared_error: 2.6893\n",
            "Epoch 264/300\n",
            "2525/2525 [==============================] - 7s 3ms/step - loss: 2.0674 - root_mean_squared_error: 1.4379 - val_loss: 7.4023 - val_root_mean_squared_error: 2.7207\n",
            "Epoch 265/300\n",
            "2525/2525 [==============================] - 8s 3ms/step - loss: 2.0654 - root_mean_squared_error: 1.4371 - val_loss: 7.1903 - val_root_mean_squared_error: 2.6815\n",
            "Epoch 266/300\n",
            "2525/2525 [==============================] - 7s 3ms/step - loss: 2.0657 - root_mean_squared_error: 1.4373 - val_loss: 7.3143 - val_root_mean_squared_error: 2.7045\n",
            "Epoch 267/300\n",
            "2525/2525 [==============================] - 7s 3ms/step - loss: 2.0650 - root_mean_squared_error: 1.4370 - val_loss: 7.2978 - val_root_mean_squared_error: 2.7014\n",
            "Epoch 268/300\n",
            "2525/2525 [==============================] - 7s 3ms/step - loss: 2.0660 - root_mean_squared_error: 1.4374 - val_loss: 7.3373 - val_root_mean_squared_error: 2.7087\n",
            "Epoch 269/300\n",
            "2525/2525 [==============================] - 7s 3ms/step - loss: 2.0633 - root_mean_squared_error: 1.4364 - val_loss: 7.1759 - val_root_mean_squared_error: 2.6788\n",
            "Epoch 270/300\n",
            "2525/2525 [==============================] - 7s 3ms/step - loss: 2.0653 - root_mean_squared_error: 1.4371 - val_loss: 7.1967 - val_root_mean_squared_error: 2.6827\n",
            "Epoch 271/300\n",
            "2525/2525 [==============================] - 7s 3ms/step - loss: 2.0617 - root_mean_squared_error: 1.4359 - val_loss: 7.2911 - val_root_mean_squared_error: 2.7002\n",
            "Epoch 272/300\n",
            "2525/2525 [==============================] - 7s 3ms/step - loss: 2.0661 - root_mean_squared_error: 1.4374 - val_loss: 7.3314 - val_root_mean_squared_error: 2.7077\n",
            "Epoch 273/300\n",
            "2525/2525 [==============================] - 7s 3ms/step - loss: 2.0661 - root_mean_squared_error: 1.4374 - val_loss: 7.2811 - val_root_mean_squared_error: 2.6984\n",
            "Epoch 274/300\n",
            "2525/2525 [==============================] - 7s 3ms/step - loss: 2.0638 - root_mean_squared_error: 1.4366 - val_loss: 7.2368 - val_root_mean_squared_error: 2.6901\n",
            "Epoch 275/300\n",
            "2525/2525 [==============================] - 7s 3ms/step - loss: 2.0638 - root_mean_squared_error: 1.4366 - val_loss: 7.3236 - val_root_mean_squared_error: 2.7062\n",
            "Epoch 276/300\n",
            "2525/2525 [==============================] - 7s 3ms/step - loss: 2.0599 - root_mean_squared_error: 1.4352 - val_loss: 7.3498 - val_root_mean_squared_error: 2.7111\n",
            "Epoch 277/300\n",
            "2525/2525 [==============================] - 7s 3ms/step - loss: 2.0650 - root_mean_squared_error: 1.4370 - val_loss: 7.3093 - val_root_mean_squared_error: 2.7036\n",
            "Epoch 278/300\n",
            "2525/2525 [==============================] - 7s 3ms/step - loss: 2.0628 - root_mean_squared_error: 1.4362 - val_loss: 7.2133 - val_root_mean_squared_error: 2.6858\n",
            "Epoch 279/300\n",
            "2525/2525 [==============================] - 7s 3ms/step - loss: 2.0608 - root_mean_squared_error: 1.4356 - val_loss: 7.3005 - val_root_mean_squared_error: 2.7020\n",
            "Epoch 280/300\n",
            "2525/2525 [==============================] - 7s 3ms/step - loss: 2.0634 - root_mean_squared_error: 1.4364 - val_loss: 7.2304 - val_root_mean_squared_error: 2.6889\n",
            "Epoch 281/300\n",
            "2525/2525 [==============================] - 7s 3ms/step - loss: 2.0608 - root_mean_squared_error: 1.4356 - val_loss: 7.3189 - val_root_mean_squared_error: 2.7053\n",
            "Epoch 282/300\n",
            "2525/2525 [==============================] - 7s 3ms/step - loss: 2.0602 - root_mean_squared_error: 1.4353 - val_loss: 7.3150 - val_root_mean_squared_error: 2.7046\n",
            "Epoch 283/300\n",
            "2525/2525 [==============================] - 7s 3ms/step - loss: 2.0618 - root_mean_squared_error: 1.4359 - val_loss: 7.3305 - val_root_mean_squared_error: 2.7075\n",
            "Epoch 284/300\n",
            "2525/2525 [==============================] - 7s 3ms/step - loss: 2.0582 - root_mean_squared_error: 1.4347 - val_loss: 7.2980 - val_root_mean_squared_error: 2.7015\n",
            "Epoch 285/300\n",
            "2525/2525 [==============================] - 7s 3ms/step - loss: 2.0593 - root_mean_squared_error: 1.4350 - val_loss: 7.3681 - val_root_mean_squared_error: 2.7144\n",
            "Epoch 286/300\n",
            "2525/2525 [==============================] - 7s 3ms/step - loss: 2.0590 - root_mean_squared_error: 1.4349 - val_loss: 7.3016 - val_root_mean_squared_error: 2.7022\n",
            "Epoch 287/300\n",
            "2525/2525 [==============================] - 7s 3ms/step - loss: 2.0608 - root_mean_squared_error: 1.4356 - val_loss: 7.3297 - val_root_mean_squared_error: 2.7073\n",
            "Epoch 288/300\n",
            "2525/2525 [==============================] - 7s 3ms/step - loss: 2.0596 - root_mean_squared_error: 1.4351 - val_loss: 7.4026 - val_root_mean_squared_error: 2.7208\n",
            "Epoch 289/300\n",
            "2525/2525 [==============================] - 7s 3ms/step - loss: 2.0591 - root_mean_squared_error: 1.4349 - val_loss: 7.4055 - val_root_mean_squared_error: 2.7213\n",
            "Epoch 290/300\n",
            "2525/2525 [==============================] - 7s 3ms/step - loss: 2.0561 - root_mean_squared_error: 1.4339 - val_loss: 7.3122 - val_root_mean_squared_error: 2.7041\n",
            "Epoch 291/300\n",
            "2525/2525 [==============================] - 7s 3ms/step - loss: 2.0577 - root_mean_squared_error: 1.4345 - val_loss: 7.3448 - val_root_mean_squared_error: 2.7101\n",
            "Epoch 292/300\n",
            "2525/2525 [==============================] - 9s 3ms/step - loss: 2.0561 - root_mean_squared_error: 1.4339 - val_loss: 7.3868 - val_root_mean_squared_error: 2.7179\n",
            "Epoch 293/300\n",
            "2525/2525 [==============================] - 7s 3ms/step - loss: 2.0589 - root_mean_squared_error: 1.4349 - val_loss: 7.3935 - val_root_mean_squared_error: 2.7191\n",
            "Epoch 294/300\n",
            "2525/2525 [==============================] - 7s 3ms/step - loss: 2.0579 - root_mean_squared_error: 1.4345 - val_loss: 7.2893 - val_root_mean_squared_error: 2.6999\n",
            "Epoch 295/300\n",
            "2525/2525 [==============================] - 7s 3ms/step - loss: 2.0554 - root_mean_squared_error: 1.4337 - val_loss: 7.3907 - val_root_mean_squared_error: 2.7186\n",
            "Epoch 296/300\n",
            "2525/2525 [==============================] - 7s 3ms/step - loss: 2.0536 - root_mean_squared_error: 1.4331 - val_loss: 7.3400 - val_root_mean_squared_error: 2.7092\n",
            "Epoch 297/300\n",
            "2525/2525 [==============================] - 7s 3ms/step - loss: 2.0613 - root_mean_squared_error: 1.4357 - val_loss: 7.4570 - val_root_mean_squared_error: 2.7307\n",
            "Epoch 298/300\n",
            "2525/2525 [==============================] - 7s 3ms/step - loss: 2.0587 - root_mean_squared_error: 1.4348 - val_loss: 7.3217 - val_root_mean_squared_error: 2.7059\n",
            "Epoch 299/300\n",
            "2525/2525 [==============================] - 7s 3ms/step - loss: 2.0567 - root_mean_squared_error: 1.4341 - val_loss: 7.4837 - val_root_mean_squared_error: 2.7356\n",
            "Epoch 300/300\n",
            "2525/2525 [==============================] - 7s 3ms/step - loss: 2.0589 - root_mean_squared_error: 1.4349 - val_loss: 7.4262 - val_root_mean_squared_error: 2.7251\n"
          ]
        }
      ]
    },
    {
      "cell_type": "code",
      "source": [
        "model2 = load_model('model2/')"
      ],
      "metadata": {
        "id": "EyD3WpG1pdjm"
      },
      "execution_count": null,
      "outputs": []
    },
    {
      "cell_type": "code",
      "source": [
        "train_predictions2 = model2.predict(X_train2).flatten()\n",
        "train_results2 = pd.DataFrame(data={'Train Predictions':train_predictions2, 'Actuals':y_train2})\n",
        "train_results2"
      ],
      "metadata": {
        "colab": {
          "base_uri": "https://localhost:8080/",
          "height": 424
        },
        "id": "MWpHg4SJplFt",
        "outputId": "ac557b77-d4ea-43db-e66f-40cbb4a473ad"
      },
      "execution_count": null,
      "outputs": [
        {
          "output_type": "execute_result",
          "data": {
            "text/plain": [
              "       Train Predictions  Actuals\n",
              "0              19.843388     19.0\n",
              "1              18.870419     19.0\n",
              "2              18.594141     17.0\n",
              "3              16.864204     17.0\n",
              "4              16.697338     17.0\n",
              "...                  ...      ...\n",
              "80783          28.578369     29.0\n",
              "80784          27.964298     28.0\n",
              "80785          28.300032     29.0\n",
              "80786          30.793602     30.0\n",
              "80787          30.724531     30.0\n",
              "\n",
              "[80788 rows x 2 columns]"
            ],
            "text/html": [
              "\n",
              "  <div id=\"df-a1a878b3-516c-4b1e-ad29-21e4cb78213e\">\n",
              "    <div class=\"colab-df-container\">\n",
              "      <div>\n",
              "<style scoped>\n",
              "    .dataframe tbody tr th:only-of-type {\n",
              "        vertical-align: middle;\n",
              "    }\n",
              "\n",
              "    .dataframe tbody tr th {\n",
              "        vertical-align: top;\n",
              "    }\n",
              "\n",
              "    .dataframe thead th {\n",
              "        text-align: right;\n",
              "    }\n",
              "</style>\n",
              "<table border=\"1\" class=\"dataframe\">\n",
              "  <thead>\n",
              "    <tr style=\"text-align: right;\">\n",
              "      <th></th>\n",
              "      <th>Train Predictions</th>\n",
              "      <th>Actuals</th>\n",
              "    </tr>\n",
              "  </thead>\n",
              "  <tbody>\n",
              "    <tr>\n",
              "      <th>0</th>\n",
              "      <td>19.843388</td>\n",
              "      <td>19.0</td>\n",
              "    </tr>\n",
              "    <tr>\n",
              "      <th>1</th>\n",
              "      <td>18.870419</td>\n",
              "      <td>19.0</td>\n",
              "    </tr>\n",
              "    <tr>\n",
              "      <th>2</th>\n",
              "      <td>18.594141</td>\n",
              "      <td>17.0</td>\n",
              "    </tr>\n",
              "    <tr>\n",
              "      <th>3</th>\n",
              "      <td>16.864204</td>\n",
              "      <td>17.0</td>\n",
              "    </tr>\n",
              "    <tr>\n",
              "      <th>4</th>\n",
              "      <td>16.697338</td>\n",
              "      <td>17.0</td>\n",
              "    </tr>\n",
              "    <tr>\n",
              "      <th>...</th>\n",
              "      <td>...</td>\n",
              "      <td>...</td>\n",
              "    </tr>\n",
              "    <tr>\n",
              "      <th>80783</th>\n",
              "      <td>28.578369</td>\n",
              "      <td>29.0</td>\n",
              "    </tr>\n",
              "    <tr>\n",
              "      <th>80784</th>\n",
              "      <td>27.964298</td>\n",
              "      <td>28.0</td>\n",
              "    </tr>\n",
              "    <tr>\n",
              "      <th>80785</th>\n",
              "      <td>28.300032</td>\n",
              "      <td>29.0</td>\n",
              "    </tr>\n",
              "    <tr>\n",
              "      <th>80786</th>\n",
              "      <td>30.793602</td>\n",
              "      <td>30.0</td>\n",
              "    </tr>\n",
              "    <tr>\n",
              "      <th>80787</th>\n",
              "      <td>30.724531</td>\n",
              "      <td>30.0</td>\n",
              "    </tr>\n",
              "  </tbody>\n",
              "</table>\n",
              "<p>80788 rows × 2 columns</p>\n",
              "</div>\n",
              "      <button class=\"colab-df-convert\" onclick=\"convertToInteractive('df-a1a878b3-516c-4b1e-ad29-21e4cb78213e')\"\n",
              "              title=\"Convert this dataframe to an interactive table.\"\n",
              "              style=\"display:none;\">\n",
              "        \n",
              "  <svg xmlns=\"http://www.w3.org/2000/svg\" height=\"24px\"viewBox=\"0 0 24 24\"\n",
              "       width=\"24px\">\n",
              "    <path d=\"M0 0h24v24H0V0z\" fill=\"none\"/>\n",
              "    <path d=\"M18.56 5.44l.94 2.06.94-2.06 2.06-.94-2.06-.94-.94-2.06-.94 2.06-2.06.94zm-11 1L8.5 8.5l.94-2.06 2.06-.94-2.06-.94L8.5 2.5l-.94 2.06-2.06.94zm10 10l.94 2.06.94-2.06 2.06-.94-2.06-.94-.94-2.06-.94 2.06-2.06.94z\"/><path d=\"M17.41 7.96l-1.37-1.37c-.4-.4-.92-.59-1.43-.59-.52 0-1.04.2-1.43.59L10.3 9.45l-7.72 7.72c-.78.78-.78 2.05 0 2.83L4 21.41c.39.39.9.59 1.41.59.51 0 1.02-.2 1.41-.59l7.78-7.78 2.81-2.81c.8-.78.8-2.07 0-2.86zM5.41 20L4 18.59l7.72-7.72 1.47 1.35L5.41 20z\"/>\n",
              "  </svg>\n",
              "      </button>\n",
              "      \n",
              "  <style>\n",
              "    .colab-df-container {\n",
              "      display:flex;\n",
              "      flex-wrap:wrap;\n",
              "      gap: 12px;\n",
              "    }\n",
              "\n",
              "    .colab-df-convert {\n",
              "      background-color: #E8F0FE;\n",
              "      border: none;\n",
              "      border-radius: 50%;\n",
              "      cursor: pointer;\n",
              "      display: none;\n",
              "      fill: #1967D2;\n",
              "      height: 32px;\n",
              "      padding: 0 0 0 0;\n",
              "      width: 32px;\n",
              "    }\n",
              "\n",
              "    .colab-df-convert:hover {\n",
              "      background-color: #E2EBFA;\n",
              "      box-shadow: 0px 1px 2px rgba(60, 64, 67, 0.3), 0px 1px 3px 1px rgba(60, 64, 67, 0.15);\n",
              "      fill: #174EA6;\n",
              "    }\n",
              "\n",
              "    [theme=dark] .colab-df-convert {\n",
              "      background-color: #3B4455;\n",
              "      fill: #D2E3FC;\n",
              "    }\n",
              "\n",
              "    [theme=dark] .colab-df-convert:hover {\n",
              "      background-color: #434B5C;\n",
              "      box-shadow: 0px 1px 3px 1px rgba(0, 0, 0, 0.15);\n",
              "      filter: drop-shadow(0px 1px 2px rgba(0, 0, 0, 0.3));\n",
              "      fill: #FFFFFF;\n",
              "    }\n",
              "  </style>\n",
              "\n",
              "      <script>\n",
              "        const buttonEl =\n",
              "          document.querySelector('#df-a1a878b3-516c-4b1e-ad29-21e4cb78213e button.colab-df-convert');\n",
              "        buttonEl.style.display =\n",
              "          google.colab.kernel.accessAllowed ? 'block' : 'none';\n",
              "\n",
              "        async function convertToInteractive(key) {\n",
              "          const element = document.querySelector('#df-a1a878b3-516c-4b1e-ad29-21e4cb78213e');\n",
              "          const dataTable =\n",
              "            await google.colab.kernel.invokeFunction('convertToInteractive',\n",
              "                                                     [key], {});\n",
              "          if (!dataTable) return;\n",
              "\n",
              "          const docLinkHtml = 'Like what you see? Visit the ' +\n",
              "            '<a target=\"_blank\" href=https://colab.research.google.com/notebooks/data_table.ipynb>data table notebook</a>'\n",
              "            + ' to learn more about interactive tables.';\n",
              "          element.innerHTML = '';\n",
              "          dataTable['output_type'] = 'display_data';\n",
              "          await google.colab.output.renderOutput(dataTable, element);\n",
              "          const docLink = document.createElement('div');\n",
              "          docLink.innerHTML = docLinkHtml;\n",
              "          element.appendChild(docLink);\n",
              "        }\n",
              "      </script>\n",
              "    </div>\n",
              "  </div>\n",
              "  "
            ]
          },
          "metadata": {},
          "execution_count": 69
        }
      ]
    },
    {
      "cell_type": "code",
      "source": [
        "plt.plot(train_results2['Train Predictions'][50:100])\n",
        "plt.plot(train_results2['Actuals'][50:100])"
      ],
      "metadata": {
        "colab": {
          "base_uri": "https://localhost:8080/",
          "height": 282
        },
        "id": "wItorHQSpsz1",
        "outputId": "ba0c779a-5499-4281-facb-877cef302240"
      },
      "execution_count": null,
      "outputs": [
        {
          "output_type": "execute_result",
          "data": {
            "text/plain": [
              "[<matplotlib.lines.Line2D at 0x7f68cd48bdd0>]"
            ]
          },
          "metadata": {},
          "execution_count": 70
        },
        {
          "output_type": "display_data",
          "data": {
            "text/plain": [
              "<Figure size 432x288 with 1 Axes>"
            ],
            "image/png": "[encoded data removed]"
          },
          "metadata": {
            "needs_background": "light"
          }
        }
      ]
    },
    {
      "cell_type": "code",
      "source": [
        "val_predictions2 = model2.predict(X_val2).flatten()\n",
        "val_results2 = pd.DataFrame(data={'Val Predictions':val_predictions2, 'Actuals':y_val2})\n",
        "val_results2"
      ],
      "metadata": {
        "colab": {
          "base_uri": "https://localhost:8080/",
          "height": 424
        },
        "id": "3tR8eGRpp1es",
        "outputId": "105c9559-7cc7-472c-fb54-9fc7bcefe14d"
      },
      "execution_count": null,
      "outputs": [
        {
          "output_type": "execute_result",
          "data": {
            "text/plain": [
              "       Val Predictions  Actuals\n",
              "0            30.087584     29.0\n",
              "1            28.219746     28.0\n",
              "2            27.714840     28.0\n",
              "3            27.601707     27.0\n",
              "4            27.132442     29.0\n",
              "...                ...      ...\n",
              "10093        25.147074     23.0\n",
              "10094        27.526224     28.0\n",
              "10095        37.365707     33.0\n",
              "10096        35.539612     37.0\n",
              "10097        34.532425     36.0\n",
              "\n",
              "[10098 rows x 2 columns]"
            ],
            "text/html": [
              "\n",
              "  <div id=\"df-b7b09ac2-c388-44c1-af94-c85df959a586\">\n",
              "    <div class=\"colab-df-container\">\n",
              "      <div>\n",
              "<style scoped>\n",
              "    .dataframe tbody tr th:only-of-type {\n",
              "        vertical-align: middle;\n",
              "    }\n",
              "\n",
              "    .dataframe tbody tr th {\n",
              "        vertical-align: top;\n",
              "    }\n",
              "\n",
              "    .dataframe thead th {\n",
              "        text-align: right;\n",
              "    }\n",
              "</style>\n",
              "<table border=\"1\" class=\"dataframe\">\n",
              "  <thead>\n",
              "    <tr style=\"text-align: right;\">\n",
              "      <th></th>\n",
              "      <th>Val Predictions</th>\n",
              "      <th>Actuals</th>\n",
              "    </tr>\n",
              "  </thead>\n",
              "  <tbody>\n",
              "    <tr>\n",
              "      <th>0</th>\n",
              "      <td>30.087584</td>\n",
              "      <td>29.0</td>\n",
              "    </tr>\n",
              "    <tr>\n",
              "      <th>1</th>\n",
              "      <td>28.219746</td>\n",
              "      <td>28.0</td>\n",
              "    </tr>\n",
              "    <tr>\n",
              "      <th>2</th>\n",
              "      <td>27.714840</td>\n",
              "      <td>28.0</td>\n",
              "    </tr>\n",
              "    <tr>\n",
              "      <th>3</th>\n",
              "      <td>27.601707</td>\n",
              "      <td>27.0</td>\n",
              "    </tr>\n",
              "    <tr>\n",
              "      <th>4</th>\n",
              "      <td>27.132442</td>\n",
              "      <td>29.0</td>\n",
              "    </tr>\n",
              "    <tr>\n",
              "      <th>...</th>\n",
              "      <td>...</td>\n",
              "      <td>...</td>\n",
              "    </tr>\n",
              "    <tr>\n",
              "      <th>10093</th>\n",
              "      <td>25.147074</td>\n",
              "      <td>23.0</td>\n",
              "    </tr>\n",
              "    <tr>\n",
              "      <th>10094</th>\n",
              "      <td>27.526224</td>\n",
              "      <td>28.0</td>\n",
              "    </tr>\n",
              "    <tr>\n",
              "      <th>10095</th>\n",
              "      <td>37.365707</td>\n",
              "      <td>33.0</td>\n",
              "    </tr>\n",
              "    <tr>\n",
              "      <th>10096</th>\n",
              "      <td>35.539612</td>\n",
              "      <td>37.0</td>\n",
              "    </tr>\n",
              "    <tr>\n",
              "      <th>10097</th>\n",
              "      <td>34.532425</td>\n",
              "      <td>36.0</td>\n",
              "    </tr>\n",
              "  </tbody>\n",
              "</table>\n",
              "<p>10098 rows × 2 columns</p>\n",
              "</div>\n",
              "      <button class=\"colab-df-convert\" onclick=\"convertToInteractive('df-b7b09ac2-c388-44c1-af94-c85df959a586')\"\n",
              "              title=\"Convert this dataframe to an interactive table.\"\n",
              "              style=\"display:none;\">\n",
              "        \n",
              "  <svg xmlns=\"http://www.w3.org/2000/svg\" height=\"24px\"viewBox=\"0 0 24 24\"\n",
              "       width=\"24px\">\n",
              "    <path d=\"M0 0h24v24H0V0z\" fill=\"none\"/>\n",
              "    <path d=\"M18.56 5.44l.94 2.06.94-2.06 2.06-.94-2.06-.94-.94-2.06-.94 2.06-2.06.94zm-11 1L8.5 8.5l.94-2.06 2.06-.94-2.06-.94L8.5 2.5l-.94 2.06-2.06.94zm10 10l.94 2.06.94-2.06 2.06-.94-2.06-.94-.94-2.06-.94 2.06-2.06.94z\"/><path d=\"M17.41 7.96l-1.37-1.37c-.4-.4-.92-.59-1.43-.59-.52 0-1.04.2-1.43.59L10.3 9.45l-7.72 7.72c-.78.78-.78 2.05 0 2.83L4 21.41c.39.39.9.59 1.41.59.51 0 1.02-.2 1.41-.59l7.78-7.78 2.81-2.81c.8-.78.8-2.07 0-2.86zM5.41 20L4 18.59l7.72-7.72 1.47 1.35L5.41 20z\"/>\n",
              "  </svg>\n",
              "      </button>\n",
              "      \n",
              "  <style>\n",
              "    .colab-df-container {\n",
              "      display:flex;\n",
              "      flex-wrap:wrap;\n",
              "      gap: 12px;\n",
              "    }\n",
              "\n",
              "    .colab-df-convert {\n",
              "      background-color: #E8F0FE;\n",
              "      border: none;\n",
              "      border-radius: 50%;\n",
              "      cursor: pointer;\n",
              "      display: none;\n",
              "      fill: #1967D2;\n",
              "      height: 32px;\n",
              "      padding: 0 0 0 0;\n",
              "      width: 32px;\n",
              "    }\n",
              "\n",
              "    .colab-df-convert:hover {\n",
              "      background-color: #E2EBFA;\n",
              "      box-shadow: 0px 1px 2px rgba(60, 64, 67, 0.3), 0px 1px 3px 1px rgba(60, 64, 67, 0.15);\n",
              "      fill: #174EA6;\n",
              "    }\n",
              "\n",
              "    [theme=dark] .colab-df-convert {\n",
              "      background-color: #3B4455;\n",
              "      fill: #D2E3FC;\n",
              "    }\n",
              "\n",
              "    [theme=dark] .colab-df-convert:hover {\n",
              "      background-color: #434B5C;\n",
              "      box-shadow: 0px 1px 3px 1px rgba(0, 0, 0, 0.15);\n",
              "      filter: drop-shadow(0px 1px 2px rgba(0, 0, 0, 0.3));\n",
              "      fill: #FFFFFF;\n",
              "    }\n",
              "  </style>\n",
              "\n",
              "      <script>\n",
              "        const buttonEl =\n",
              "          document.querySelector('#df-b7b09ac2-c388-44c1-af94-c85df959a586 button.colab-df-convert');\n",
              "        buttonEl.style.display =\n",
              "          google.colab.kernel.accessAllowed ? 'block' : 'none';\n",
              "\n",
              "        async function convertToInteractive(key) {\n",
              "          const element = document.querySelector('#df-b7b09ac2-c388-44c1-af94-c85df959a586');\n",
              "          const dataTable =\n",
              "            await google.colab.kernel.invokeFunction('convertToInteractive',\n",
              "                                                     [key], {});\n",
              "          if (!dataTable) return;\n",
              "\n",
              "          const docLinkHtml = 'Like what you see? Visit the ' +\n",
              "            '<a target=\"_blank\" href=https://colab.research.google.com/notebooks/data_table.ipynb>data table notebook</a>'\n",
              "            + ' to learn more about interactive tables.';\n",
              "          element.innerHTML = '';\n",
              "          dataTable['output_type'] = 'display_data';\n",
              "          await google.colab.output.renderOutput(dataTable, element);\n",
              "          const docLink = document.createElement('div');\n",
              "          docLink.innerHTML = docLinkHtml;\n",
              "          element.appendChild(docLink);\n",
              "        }\n",
              "      </script>\n",
              "    </div>\n",
              "  </div>\n",
              "  "
            ]
          },
          "metadata": {},
          "execution_count": 71
        }
      ]
    },
    {
      "cell_type": "code",
      "source": [
        "plt.plot(val_results2['Val Predictions'][:100])\n",
        "plt.plot(val_results2['Actuals'][:100])"
      ],
      "metadata": {
        "colab": {
          "base_uri": "https://localhost:8080/",
          "height": 282
        },
        "id": "bjMYZTL1p82D",
        "outputId": "224656a5-bb7b-4f7d-dcdb-76e1e57e6c7a"
      },
      "execution_count": null,
      "outputs": [
        {
          "output_type": "execute_result",
          "data": {
            "text/plain": [
              "[<matplotlib.lines.Line2D at 0x7f68ce9b61d0>]"
            ]
          },
          "metadata": {},
          "execution_count": 72
        },
        {
          "output_type": "display_data",
          "data": {
            "text/plain": [
              "<Figure size 432x288 with 1 Axes>"
            ],
            "image/png": "[encoded data removed]"
          },
          "metadata": {
            "needs_background": "light"
          }
        }
      ]
    },
    {
      "cell_type": "code",
      "source": [
        "test_predictions2 = model2.predict(X_test2).flatten()\n",
        "test_results2 = pd.DataFrame(data={'Test Predictions':test_predictions2, 'Actuals':y_test2})\n",
        "test_results2"
      ],
      "metadata": {
        "colab": {
          "base_uri": "https://localhost:8080/",
          "height": 424
        },
        "id": "8NrTAq5kqEAL",
        "outputId": "87e6b38b-b1ed-4194-fe89-c149cb344c5a"
      },
      "execution_count": null,
      "outputs": [
        {
          "output_type": "execute_result",
          "data": {
            "text/plain": [
              "       Test Predictions  Actuals\n",
              "0             29.918337     32.0\n",
              "1             28.520813     29.0\n",
              "2             27.115440     26.0\n",
              "3             25.002972     24.0\n",
              "4             27.648104     25.0\n",
              "...                 ...      ...\n",
              "10069         31.951691     34.0\n",
              "10070         34.463432     38.0\n",
              "10071         36.220341     36.0\n",
              "10072         31.393917     32.0\n",
              "10073         29.894047     30.0\n",
              "\n",
              "[10074 rows x 2 columns]"
            ],
            "text/html": [
              "\n",
              "  <div id=\"df-d76e148c-71c6-4e25-a9a8-3416b2f3e81a\">\n",
              "    <div class=\"colab-df-container\">\n",
              "      <div>\n",
              "<style scoped>\n",
              "    .dataframe tbody tr th:only-of-type {\n",
              "        vertical-align: middle;\n",
              "    }\n",
              "\n",
              "    .dataframe tbody tr th {\n",
              "        vertical-align: top;\n",
              "    }\n",
              "\n",
              "    .dataframe thead th {\n",
              "        text-align: right;\n",
              "    }\n",
              "</style>\n",
              "<table border=\"1\" class=\"dataframe\">\n",
              "  <thead>\n",
              "    <tr style=\"text-align: right;\">\n",
              "      <th></th>\n",
              "      <th>Test Predictions</th>\n",
              "      <th>Actuals</th>\n",
              "    </tr>\n",
              "  </thead>\n",
              "  <tbody>\n",
              "    <tr>\n",
              "      <th>0</th>\n",
              "      <td>29.918337</td>\n",
              "      <td>32.0</td>\n",
              "    </tr>\n",
              "    <tr>\n",
              "      <th>1</th>\n",
              "      <td>28.520813</td>\n",
              "      <td>29.0</td>\n",
              "    </tr>\n",
              "    <tr>\n",
              "      <th>2</th>\n",
              "      <td>27.115440</td>\n",
              "      <td>26.0</td>\n",
              "    </tr>\n",
              "    <tr>\n",
              "      <th>3</th>\n",
              "      <td>25.002972</td>\n",
              "      <td>24.0</td>\n",
              "    </tr>\n",
              "    <tr>\n",
              "      <th>4</th>\n",
              "      <td>27.648104</td>\n",
              "      <td>25.0</td>\n",
              "    </tr>\n",
              "    <tr>\n",
              "      <th>...</th>\n",
              "      <td>...</td>\n",
              "      <td>...</td>\n",
              "    </tr>\n",
              "    <tr>\n",
              "      <th>10069</th>\n",
              "      <td>31.951691</td>\n",
              "      <td>34.0</td>\n",
              "    </tr>\n",
              "    <tr>\n",
              "      <th>10070</th>\n",
              "      <td>34.463432</td>\n",
              "      <td>38.0</td>\n",
              "    </tr>\n",
              "    <tr>\n",
              "      <th>10071</th>\n",
              "      <td>36.220341</td>\n",
              "      <td>36.0</td>\n",
              "    </tr>\n",
              "    <tr>\n",
              "      <th>10072</th>\n",
              "      <td>31.393917</td>\n",
              "      <td>32.0</td>\n",
              "    </tr>\n",
              "    <tr>\n",
              "      <th>10073</th>\n",
              "      <td>29.894047</td>\n",
              "      <td>30.0</td>\n",
              "    </tr>\n",
              "  </tbody>\n",
              "</table>\n",
              "<p>10074 rows × 2 columns</p>\n",
              "</div>\n",
              "      <button class=\"colab-df-convert\" onclick=\"convertToInteractive('df-d76e148c-71c6-4e25-a9a8-3416b2f3e81a')\"\n",
              "              title=\"Convert this dataframe to an interactive table.\"\n",
              "              style=\"display:none;\">\n",
              "        \n",
              "  <svg xmlns=\"http://www.w3.org/2000/svg\" height=\"24px\"viewBox=\"0 0 24 24\"\n",
              "       width=\"24px\">\n",
              "    <path d=\"M0 0h24v24H0V0z\" fill=\"none\"/>\n",
              "    <path d=\"M18.56 5.44l.94 2.06.94-2.06 2.06-.94-2.06-.94-.94-2.06-.94 2.06-2.06.94zm-11 1L8.5 8.5l.94-2.06 2.06-.94-2.06-.94L8.5 2.5l-.94 2.06-2.06.94zm10 10l.94 2.06.94-2.06 2.06-.94-2.06-.94-.94-2.06-.94 2.06-2.06.94z\"/><path d=\"M17.41 7.96l-1.37-1.37c-.4-.4-.92-.59-1.43-.59-.52 0-1.04.2-1.43.59L10.3 9.45l-7.72 7.72c-.78.78-.78 2.05 0 2.83L4 21.41c.39.39.9.59 1.41.59.51 0 1.02-.2 1.41-.59l7.78-7.78 2.81-2.81c.8-.78.8-2.07 0-2.86zM5.41 20L4 18.59l7.72-7.72 1.47 1.35L5.41 20z\"/>\n",
              "  </svg>\n",
              "      </button>\n",
              "      \n",
              "  <style>\n",
              "    .colab-df-container {\n",
              "      display:flex;\n",
              "      flex-wrap:wrap;\n",
              "      gap: 12px;\n",
              "    }\n",
              "\n",
              "    .colab-df-convert {\n",
              "      background-color: #E8F0FE;\n",
              "      border: none;\n",
              "      border-radius: 50%;\n",
              "      cursor: pointer;\n",
              "      display: none;\n",
              "      fill: #1967D2;\n",
              "      height: 32px;\n",
              "      padding: 0 0 0 0;\n",
              "      width: 32px;\n",
              "    }\n",
              "\n",
              "    .colab-df-convert:hover {\n",
              "      background-color: #E2EBFA;\n",
              "      box-shadow: 0px 1px 2px rgba(60, 64, 67, 0.3), 0px 1px 3px 1px rgba(60, 64, 67, 0.15);\n",
              "      fill: #174EA6;\n",
              "    }\n",
              "\n",
              "    [theme=dark] .colab-df-convert {\n",
              "      background-color: #3B4455;\n",
              "      fill: #D2E3FC;\n",
              "    }\n",
              "\n",
              "    [theme=dark] .colab-df-convert:hover {\n",
              "      background-color: #434B5C;\n",
              "      box-shadow: 0px 1px 3px 1px rgba(0, 0, 0, 0.15);\n",
              "      filter: drop-shadow(0px 1px 2px rgba(0, 0, 0, 0.3));\n",
              "      fill: #FFFFFF;\n",
              "    }\n",
              "  </style>\n",
              "\n",
              "      <script>\n",
              "        const buttonEl =\n",
              "          document.querySelector('#df-d76e148c-71c6-4e25-a9a8-3416b2f3e81a button.colab-df-convert');\n",
              "        buttonEl.style.display =\n",
              "          google.colab.kernel.accessAllowed ? 'block' : 'none';\n",
              "\n",
              "        async function convertToInteractive(key) {\n",
              "          const element = document.querySelector('#df-d76e148c-71c6-4e25-a9a8-3416b2f3e81a');\n",
              "          const dataTable =\n",
              "            await google.colab.kernel.invokeFunction('convertToInteractive',\n",
              "                                                     [key], {});\n",
              "          if (!dataTable) return;\n",
              "\n",
              "          const docLinkHtml = 'Like what you see? Visit the ' +\n",
              "            '<a target=\"_blank\" href=https://colab.research.google.com/notebooks/data_table.ipynb>data table notebook</a>'\n",
              "            + ' to learn more about interactive tables.';\n",
              "          element.innerHTML = '';\n",
              "          dataTable['output_type'] = 'display_data';\n",
              "          await google.colab.output.renderOutput(dataTable, element);\n",
              "          const docLink = document.createElement('div');\n",
              "          docLink.innerHTML = docLinkHtml;\n",
              "          element.appendChild(docLink);\n",
              "        }\n",
              "      </script>\n",
              "    </div>\n",
              "  </div>\n",
              "  "
            ]
          },
          "metadata": {},
          "execution_count": 73
        }
      ]
    },
    {
      "cell_type": "code",
      "source": [
        "plt.plot(test_results2['Test Predictions'][:100])\n",
        "plt.plot(test_results2['Actuals'][:100])"
      ],
      "metadata": {
        "colab": {
          "base_uri": "https://localhost:8080/",
          "height": 282
        },
        "id": "Ei2PLxOcqLcR",
        "outputId": "8b3a9af6-3d38-47ca-f5e4-7c514d18d61d"
      },
      "execution_count": null,
      "outputs": [
        {
          "output_type": "execute_result",
          "data": {
            "text/plain": [
              "[<matplotlib.lines.Line2D at 0x7f68cbaba950>]"
            ]
          },
          "metadata": {},
          "execution_count": 74
        },
        {
          "output_type": "display_data",
          "data": {
            "text/plain": [
              "<Figure size 432x288 with 1 Axes>"
            ],
            "image/png": "[encoded data removed]"
          },
          "metadata": {
            "needs_background": "light"
          }
        }
      ]
    },
    {
      "cell_type": "code",
      "source": [
        "plt.figure(figsize=(8,5))\n",
        "plt.plot(history2.history['loss'])"
      ],
      "metadata": {
        "colab": {
          "base_uri": "https://localhost:8080/",
          "height": 337
        },
        "id": "cVHUCGwnqSEK",
        "outputId": "ba8e11fb-3428-4043-9b8a-1d32dee1b528"
      },
      "execution_count": null,
      "outputs": [
        {
          "output_type": "execute_result",
          "data": {
            "text/plain": [
              "[<matplotlib.lines.Line2D at 0x7f68d1b3b490>]"
            ]
          },
          "metadata": {},
          "execution_count": 75
        },
        {
          "output_type": "display_data",
          "data": {
            "text/plain": [
              "<Figure size 576x360 with 1 Axes>"
            ],
            "image/png": "[encoded data removed]"
          },
          "metadata": {
            "needs_background": "light"
          }
        }
      ]
    },
    {
      "cell_type": "code",
      "source": [
        "plt.plot(history2.history['val_loss'])"
      ],
      "metadata": {
        "colab": {
          "base_uri": "https://localhost:8080/",
          "height": 282
        },
        "id": "x2eMsgw650iE",
        "outputId": "f432e286-3679-4e46-a316-a44e3d999696"
      },
      "execution_count": null,
      "outputs": [
        {
          "output_type": "execute_result",
          "data": {
            "text/plain": [
              "[<matplotlib.lines.Line2D at 0x7f68cbb82790>]"
            ]
          },
          "metadata": {},
          "execution_count": 76
        },
        {
          "output_type": "display_data",
          "data": {
            "text/plain": [
              "<Figure size 432x288 with 1 Axes>"
            ],
            "image/png": "[encoded data removed]"
          },
          "metadata": {
            "needs_background": "light"
          }
        }
      ]
    },
    {
      "cell_type": "code",
      "source": [
        "plot_predictions1(model2, X_test2, y_test2)"
      ],
      "metadata": {
        "colab": {
          "base_uri": "https://localhost:8080/",
          "height": 508
        },
        "id": "c4B5TDudMrsu",
        "outputId": "ce814be6-b81f-4ab4-a03b-c63ae1121a90"
      },
      "execution_count": null,
      "outputs": [
        {
          "output_type": "execute_result",
          "data": {
            "text/plain": [
              "(       Predictions  Actuals\n",
              " 0        29.918337     32.0\n",
              " 1        28.520813     29.0\n",
              " 2        27.115440     26.0\n",
              " 3        25.002972     24.0\n",
              " 4        27.648104     25.0\n",
              " ...            ...      ...\n",
              " 10069    31.951691     34.0\n",
              " 10070    34.463432     38.0\n",
              " 10071    36.220341     36.0\n",
              " 10072    31.393917     32.0\n",
              " 10073    29.894047     30.0\n",
              " \n",
              " [10074 rows x 2 columns], 3.9079809454867007)"
            ]
          },
          "metadata": {},
          "execution_count": 77
        },
        {
          "output_type": "display_data",
          "data": {
            "text/plain": [
              "<Figure size 432x288 with 1 Axes>"
            ],
            "image/png": "[encoded data removed]"
          },
          "metadata": {
            "needs_background": "light"
          }
        }
      ]
    },
    {
      "cell_type": "markdown",
      "source": [
        "# **MODEL 3 - GRU**"
      ],
      "metadata": {
        "id": "5b_vTfS6qVQS"
      }
    },
    {
      "cell_type": "code",
      "source": [
        "X_train3, y_train3 = X[:80788], y[:80788]\n",
        "X_val3, y_val3 = X[80788:90886], y[80788:90886]\n",
        "X_test3, y_test3 = X[90886:], y[90886:]\n",
        "X_train3.shape, y_train3.shape, X_val3.shape, y_val3.shape, X_test3.shape, y_test3.shape"
      ],
      "metadata": {
        "id": "5WSoaKp5bfvR"
      },
      "execution_count": null,
      "outputs": []
    },
    {
      "cell_type": "code",
      "source": [
        "model3 = Sequential()\n",
        "model3.add(InputLayer((30,1)))\n",
        "model3.add(GRU(64))\n",
        "model3.add(Dense(32, 'relu'))\n",
        "model3.add(Dense(32, 'relu'))\n",
        "model3.add(Dense(16, 'relu'))\n",
        "model3.add(Dense(1, 'linear'))\n",
        "\n",
        "model3.summary()"
      ],
      "metadata": {
        "id": "FpKFJFB3qb3f"
      },
      "execution_count": null,
      "outputs": []
    },
    {
      "cell_type": "code",
      "source": [
        "chp3 = ModelCheckpoint('model3/', save_best_only=True)\n",
        "model3.compile(loss=MeanSquaredError(), optimizer=Adam(learning_rate=0.0001), metrics=[RootMeanSquaredError()])"
      ],
      "metadata": {
        "id": "wtH-Xah5qzbu"
      },
      "execution_count": null,
      "outputs": []
    },
    {
      "cell_type": "code",
      "source": [
        "history3 = model3.fit(X_train3, y_train3, validation_data=(X_val3, y_val3), epochs=11, callbacks=[chp3])"
      ],
      "metadata": {
        "id": "z3Sx-vW0rQLf"
      },
      "execution_count": null,
      "outputs": []
    },
    {
      "cell_type": "code",
      "source": [
        "model3 = load_model('model3/')"
      ],
      "metadata": {
        "id": "7SRTrfdr7IwM"
      },
      "execution_count": null,
      "outputs": []
    },
    {
      "cell_type": "code",
      "source": [
        "train_predictions3 = model3.predict(X_train3).flatten()\n",
        "train_results3 = pd.DataFrame(data={'Train Predictions':train_predictions3, 'Actuals':y_train3})\n",
        "train_results3"
      ],
      "metadata": {
        "id": "M5kTWmnQ7IwM"
      },
      "execution_count": null,
      "outputs": []
    },
    {
      "cell_type": "code",
      "source": [
        "plt.plot(train_results3['Train Predictions'][50:100])\n",
        "plt.plot(train_results3['Actuals'][50:100])"
      ],
      "metadata": {
        "id": "pZfwsVMG7IwO"
      },
      "execution_count": null,
      "outputs": []
    },
    {
      "cell_type": "code",
      "source": [
        "val_predictions3 = model3.predict(X_val3).flatten()\n",
        "val_results3 = pd.DataFrame(data={'Val Predictions':val_predictions3, 'Actuals':y_val3})\n",
        "val_results3"
      ],
      "metadata": {
        "id": "y55TCZSg7IwO"
      },
      "execution_count": null,
      "outputs": []
    },
    {
      "cell_type": "code",
      "source": [
        "plt.plot(val_results3['Val Predictions'][:100])\n",
        "plt.plot(val_results3['Actuals'][:100])"
      ],
      "metadata": {
        "id": "_gGWcH1a7IwO"
      },
      "execution_count": null,
      "outputs": []
    },
    {
      "cell_type": "code",
      "source": [
        "test_predictions3 = model3.predict(X_test3).flatten()\n",
        "test_results3 = pd.DataFrame(data={'Test Predictions':test_predictions3, 'Actuals':y_test3})\n",
        "test_results3"
      ],
      "metadata": {
        "id": "1iKVUome7IwP"
      },
      "execution_count": null,
      "outputs": []
    },
    {
      "cell_type": "code",
      "source": [
        "plt.plot(test_results3['Test Predictions'][:100])\n",
        "plt.plot(test_results3['Actuals'][:100])"
      ],
      "metadata": {
        "id": "qIGP2uxq7IwP"
      },
      "execution_count": null,
      "outputs": []
    },
    {
      "cell_type": "code",
      "source": [
        "plt.figure(figsize=(8,5))\n",
        "plt.plot(history3.history['loss'])"
      ],
      "metadata": {
        "id": "tVDFRd4H7IwP"
      },
      "execution_count": null,
      "outputs": []
    },
    {
      "cell_type": "code",
      "source": [
        "plt.plot(history3.history['val_loss'])"
      ],
      "metadata": {
        "id": "4WnLN80C7IwP"
      },
      "execution_count": null,
      "outputs": []
    },
    {
      "cell_type": "code",
      "source": [
        "plot_predictions1(model3, X_test3, y_test3)"
      ],
      "metadata": {
        "id": "ULsfJthSMw3O"
      },
      "execution_count": null,
      "outputs": []
    },
    {
      "cell_type": "markdown",
      "source": [
        "# **MODEL 4 - VREME U DANU I GODINI**"
      ],
      "metadata": {
        "id": "8rjMd2vd8mB-"
      }
    },
    {
      "cell_type": "code",
      "source": [
        "input_data['datetime_utc']"
      ],
      "metadata": {
        "id": "BAUxv1df9BX8"
      },
      "execution_count": null,
      "outputs": []
    },
    {
      "cell_type": "code",
      "source": [
        "temp"
      ],
      "metadata": {
        "id": "oIwkk7lt9urf"
      },
      "execution_count": null,
      "outputs": []
    },
    {
      "cell_type": "code",
      "source": [
        "input_data.index = pd.to_datetime(input_data['datetime_utc'], format='%Y%m%d-%H:%M')\n",
        "input_data[:30]"
      ],
      "metadata": {
        "id": "lg6qbzbZ-EXd"
      },
      "execution_count": null,
      "outputs": []
    },
    {
      "cell_type": "code",
      "source": [
        "temp = input_data[' _tempm']\n",
        "temp"
      ],
      "metadata": {
        "id": "DQKZ6pzHABNw"
      },
      "execution_count": null,
      "outputs": []
    },
    {
      "cell_type": "code",
      "source": [
        "temp_data = pd.DataFrame({'Temperature':temp})\n",
        "temp_data['Seconds'] = temp_data.index.map(pd.Timestamp.timestamp)\n",
        "temp_data"
      ],
      "metadata": {
        "id": "IXxs7LzT9yDQ"
      },
      "execution_count": null,
      "outputs": []
    },
    {
      "cell_type": "code",
      "source": [
        "day = 60*60*24\n",
        "year = 365.2425*day\n",
        "\n",
        "temp_data['Day sin'] = np.sin(temp_data['Seconds']*(2*np.pi/day))\n",
        "temp_data['Day cos'] = np.cos(temp_data['Seconds']*(2*np.pi/day))\n",
        "temp_data['Year sin'] = np.sin(temp_data['Seconds']*(2*np.pi/year))\n",
        "temp_data['Year cos'] = np.cos(temp_data['Seconds']*(2*np.pi/year))\n",
        "\n",
        "temp_data.head()"
      ],
      "metadata": {
        "id": "IUhKgiR3-yZa"
      },
      "execution_count": null,
      "outputs": []
    },
    {
      "cell_type": "code",
      "source": [
        "temp_data = temp_data.drop('Seconds', axis=1)\n",
        "temp_data.head()"
      ],
      "metadata": {
        "id": "75bv310tB27k"
      },
      "execution_count": null,
      "outputs": []
    },
    {
      "cell_type": "code",
      "source": [
        "def input_data_to_X_y_2(input, window_size=6):\n",
        "  input_data_as_np = input.to_numpy()\n",
        "  X = []\n",
        "  y = []\n",
        "  for i in range(len(input_data_as_np)-window_size):\n",
        "    row = [r for r in input_data_as_np[i:i+window_size]]\n",
        "    X.append(row)\n",
        "    label = input_data_as_np[i+window_size][0]\n",
        "    y.append(label)\n",
        "  return np.array(X), np.array(y)"
      ],
      "metadata": {
        "id": "fuZKhUXrCQnB"
      },
      "execution_count": null,
      "outputs": []
    },
    {
      "cell_type": "code",
      "source": [
        "WINDOW_SIZE2 = 30\n",
        "X2, y2 = input_data_to_X_y_2(temp_data, WINDOW_SIZE2)\n",
        "X2.shape, y2.shape"
      ],
      "metadata": {
        "id": "fT0OOAGUE2Rs"
      },
      "execution_count": null,
      "outputs": []
    },
    {
      "cell_type": "code",
      "source": [
        "X2_train, y2_train = X2[:80788], y2[:80788]\n",
        "X2_val, y2_val = X2[80788:90886], y2[80788:90886]\n",
        "X2_test, y2_test = X2[90886:], y2[90886:]\n",
        "X2_train.shape, y2_train.shape, X2_val.shape, y2_val.shape, X2_test.shape, y2_test.shape"
      ],
      "metadata": {
        "id": "fR8VueLfFcU5"
      },
      "execution_count": null,
      "outputs": []
    },
    {
      "cell_type": "code",
      "source": [
        "temp_training_mean = np.mean(X2_train[:, :, 0])\n",
        "temp_training_std = np.std(X2_train[:, :, 0])\n",
        "\n",
        "def preprocess(X):\n",
        "  X[:, :, 0] = (X[:, :, 0] - temp_training_mean) / temp_training_std\n",
        "  return X"
      ],
      "metadata": {
        "id": "0vPUbcfBF5W4"
      },
      "execution_count": null,
      "outputs": []
    },
    {
      "cell_type": "code",
      "source": [
        "preprocess(X2_train)\n",
        "preprocess(X2_val)\n",
        "preprocess(X2_test)"
      ],
      "metadata": {
        "id": "JrHJc4h0HRAF"
      },
      "execution_count": null,
      "outputs": []
    },
    {
      "cell_type": "code",
      "source": [
        "model4 = Sequential()\n",
        "model4.add(InputLayer((30, 5)))\n",
        "model4.add(LSTM(64))\n",
        "model4.add(Dense(32, 'relu'))\n",
        "model4.add(Dense(32, 'relu'))\n",
        "model4.add(Dense(16, 'relu'))\n",
        "model4.add(Dense(1, 'linear'))\n",
        "\n",
        "model4.summary()"
      ],
      "metadata": {
        "id": "j2XQhLmGHcxr"
      },
      "execution_count": null,
      "outputs": []
    },
    {
      "cell_type": "code",
      "source": [
        "chp4 = ModelCheckpoint('model4/', save_best_only=True)\n",
        "model4.compile(loss=MeanSquaredError(), optimizer=Adam(learning_rate=0.0001), metrics=[RootMeanSquaredError()])"
      ],
      "metadata": {
        "id": "FXZCSlPRH6Dn"
      },
      "execution_count": null,
      "outputs": []
    },
    {
      "cell_type": "code",
      "source": [
        "history4 = model4.fit(X2_train, y2_train, validation_data=(X2_val, y2_val), epochs=100, callbacks=[chp4])"
      ],
      "metadata": {
        "id": "5DmcnU75IOE-"
      },
      "execution_count": null,
      "outputs": []
    },
    {
      "cell_type": "code",
      "source": [
        "model4 = load_model('model4/')"
      ],
      "metadata": {
        "id": "fm_RJqZbNc3k"
      },
      "execution_count": null,
      "outputs": []
    },
    {
      "cell_type": "code",
      "source": [
        "train_predictions4 = model4.predict(X2_train).flatten()\n",
        "train_results4 = pd.DataFrame(data={'Train Predictions':train_predictions4, 'Actuals':y2_train})\n",
        "train_results4"
      ],
      "metadata": {
        "id": "zyusjz1ENc3l"
      },
      "execution_count": null,
      "outputs": []
    },
    {
      "cell_type": "code",
      "source": [
        "plt.plot(train_results4['Train Predictions'][50:100])\n",
        "plt.plot(train_results4['Actuals'][50:100])"
      ],
      "metadata": {
        "id": "n0IT8RZXNc3l"
      },
      "execution_count": null,
      "outputs": []
    },
    {
      "cell_type": "code",
      "source": [
        "val_predictions4 = model4.predict(X2_val).flatten()\n",
        "val_results4 = pd.DataFrame(data={'Val Predictions':val_predictions4, 'Actuals':y2_val})\n",
        "val_results4"
      ],
      "metadata": {
        "id": "YagjUbyZNc3l"
      },
      "execution_count": null,
      "outputs": []
    },
    {
      "cell_type": "code",
      "source": [
        "plt.plot(val_results4['Val Predictions'][:100])\n",
        "plt.plot(val_results4['Actuals'][:100])"
      ],
      "metadata": {
        "id": "qB403D2oNc3m"
      },
      "execution_count": null,
      "outputs": []
    },
    {
      "cell_type": "code",
      "source": [
        "test_predictions4 = model4.predict(X2_test).flatten()\n",
        "test_results4 = pd.DataFrame(data={'Test Predictions':test_predictions4, 'Actuals':y2_test})\n",
        "test_results4"
      ],
      "metadata": {
        "id": "cCbza4oeNc3m"
      },
      "execution_count": null,
      "outputs": []
    },
    {
      "cell_type": "code",
      "source": [
        "plt.plot(test_results4['Test Predictions'][:100])\n",
        "plt.plot(test_results4['Actuals'][:100])"
      ],
      "metadata": {
        "id": "dsNLPMZ7Nc3m"
      },
      "execution_count": null,
      "outputs": []
    },
    {
      "cell_type": "code",
      "source": [
        "plt.figure(figsize=(8,5))\n",
        "plt.plot(history4.history['loss'])"
      ],
      "metadata": {
        "id": "t1nYP_nWNc3m"
      },
      "execution_count": null,
      "outputs": []
    },
    {
      "cell_type": "code",
      "source": [
        "plt.plot(history4.history['val_loss'])"
      ],
      "metadata": {
        "id": "rpeaBwbXNc3n"
      },
      "execution_count": null,
      "outputs": []
    },
    {
      "cell_type": "code",
      "source": [
        "plot_predictions1(model4, X2_test, y2_test)"
      ],
      "metadata": {
        "id": "SiSHkEeuMz-V"
      },
      "execution_count": null,
      "outputs": []
    }
  ]
}